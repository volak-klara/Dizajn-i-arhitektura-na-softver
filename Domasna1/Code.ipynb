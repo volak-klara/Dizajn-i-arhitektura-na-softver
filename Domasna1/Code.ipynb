{
  "cells": [
    {
      "cell_type": "code",
      "execution_count": 78,
      "metadata": {
        "id": "SE4R6tsz4dau"
      },
      "outputs": [],
      "source": [
        "import pandas as pd\n",
        "from bs4 import BeautifulSoup\n",
        "import requests\n",
        "import time\n",
        "import concurrent.futures"
      ]
    },
    {
      "cell_type": "code",
      "execution_count": 79,
      "metadata": {
        "id": "CebC2BUv5JCt"
      },
      "outputs": [],
      "source": [
        "url = \"https://www.mse.mk/mk/stats/symbolhistory/kmb\""
      ]
    },
    {
      "cell_type": "code",
      "execution_count": 80,
      "metadata": {
        "id": "ikvfWd6U5uLk"
      },
      "outputs": [],
      "source": [
        "response = requests.get(url)\n",
        "html = response.text"
      ]
    },
    {
      "cell_type": "code",
      "execution_count": 81,
      "metadata": {
        "id": "2sSAUqT96Dr6"
      },
      "outputs": [],
      "source": [
        "soup = BeautifulSoup(html,\"html.parser\")"
      ]
    },
    {
      "cell_type": "code",
      "execution_count": 82,
      "metadata": {
        "id": "i4qc8udWC-Bf"
      },
      "outputs": [],
      "source": [
        "start_time = time.time()"
      ]
    },
    {
      "cell_type": "code",
      "execution_count": 83,
      "metadata": {
        "id": "EnZ4BZZm6NmM"
      },
      "outputs": [],
      "source": [
        "sifri = soup.select(\"#Code > option\")"
      ]
    },
    {
      "cell_type": "code",
      "execution_count": 84,
      "metadata": {
        "id": "gnFzAjsY7t_N"
      },
      "outputs": [],
      "source": [
        "companies = []\n",
        "for s in sifri:\n",
        "  if not any(char.isdigit() for char in s.text):\n",
        "    companies.append(s.text)"
      ]
    },
    {
      "cell_type": "code",
      "execution_count": 85,
      "metadata": {
        "colab": {
          "base_uri": "https://localhost:8080/"
        },
        "id": "hQFj03WY7NIO",
        "outputId": "f9266571-b531-43fa-a776-bd430495f5a2"
      },
      "outputs": [
        {
          "output_type": "execute_result",
          "data": {
            "text/plain": [
              "165"
            ]
          },
          "metadata": {},
          "execution_count": 85
        }
      ],
      "source": [
        "len(companies)"
      ]
    },
    {
      "cell_type": "code",
      "execution_count": 86,
      "metadata": {
        "colab": {
          "base_uri": "https://localhost:8080/"
        },
        "id": "mYEk_xIL8_A9",
        "outputId": "8b736473-78e1-4375-a793-04240a94931e"
      },
      "outputs": [
        {
          "output_type": "stream",
          "name": "stdout",
          "text": [
            "alk\n"
          ]
        }
      ],
      "source": [
        "base_url = \"https://www.mse.mk/mk/stats/symbolhistory/\"\n",
        "print(companies[1].lower())"
      ]
    },
    {
      "cell_type": "code",
      "execution_count": 87,
      "metadata": {
        "id": "lVPlyO-1iVd9"
      },
      "outputs": [],
      "source": [
        "from datetime import datetime, timedelta"
      ]
    },
    {
      "cell_type": "code",
      "execution_count": 88,
      "metadata": {
        "id": "dB2OMRQci0J0"
      },
      "outputs": [],
      "source": [
        "current_date=datetime.now().date()"
      ]
    },
    {
      "cell_type": "code",
      "execution_count": 89,
      "metadata": {
        "colab": {
          "base_uri": "https://localhost:8080/",
          "height": 36
        },
        "id": "QsaJl3snkHC4",
        "outputId": "31714051-cf05-4b1c-f55d-32fb2488274b"
      },
      "outputs": [
        {
          "output_type": "execute_result",
          "data": {
            "text/plain": [
              "'14.11.2024'"
            ],
            "application/vnd.google.colaboratory.intrinsic+json": {
              "type": "string"
            }
          },
          "metadata": {},
          "execution_count": 89
        }
      ],
      "source": [
        "current_date_str = current_date.strftime(\"%d.%m.%Y\")\n",
        "current_date_str"
      ]
    },
    {
      "cell_type": "code",
      "execution_count": 90,
      "metadata": {
        "colab": {
          "base_uri": "https://localhost:8080/"
        },
        "id": "h_YuOnaqjHrw",
        "outputId": "c88bc66d-4403-4ac8-f3f6-121e4c8376ea"
      },
      "outputs": [
        {
          "output_type": "execute_result",
          "data": {
            "text/plain": [
              "['14.11.2024']"
            ]
          },
          "metadata": {},
          "execution_count": 90
        }
      ],
      "source": [
        "current_date_str=current_date_str.replace('-2024','')\n",
        "razdeleno=current_date_str.split(\"-\")\n",
        "razdeleno"
      ]
    },
    {
      "cell_type": "code",
      "execution_count": 91,
      "metadata": {
        "colab": {
          "base_uri": "https://localhost:8080/",
          "height": 36
        },
        "id": "3byciWNrmPV0",
        "outputId": "b013f516-51f4-43b1-a165-4ed9b210e386"
      },
      "outputs": [
        {
          "output_type": "execute_result",
          "data": {
            "text/plain": [
              "'15.11.2023'"
            ],
            "application/vnd.google.colaboratory.intrinsic+json": {
              "type": "string"
            }
          },
          "metadata": {},
          "execution_count": 91
        }
      ],
      "source": [
        "date_365_days_ago = (datetime.now() - timedelta(days=365)).strftime(\"%d.%m.%Y\")\n",
        "date_365_days_ago"
      ]
    },
    {
      "cell_type": "code",
      "execution_count": 92,
      "metadata": {
        "colab": {
          "base_uri": "https://localhost:8080/"
        },
        "id": "WbYfooyvrC82",
        "outputId": "47d7ef3f-e818-4a7b-a6d7-abf56100fc05"
      },
      "outputs": [
        {
          "output_type": "stream",
          "name": "stdout",
          "text": [
            "14.11.2024\n",
            "15.11.2023\n",
            "15.11.2022\n",
            "15.11.2021\n",
            "15.11.2020\n",
            "16.11.2019\n",
            "16.11.2018\n",
            "16.11.2017\n",
            "16.11.2016\n",
            "17.11.2015\n"
          ]
        }
      ],
      "source": [
        "curr_tmp=datetime.now().date().strftime(\"%d.%m.%Y\")\n",
        "print(curr_tmp)\n",
        "for i in range(0,9):\n",
        "  curr_date=datetime.strptime(curr_tmp, \"%d.%m.%Y\")\n",
        "  year_ago_date = (curr_date - timedelta(days=365)).strftime(\"%d.%m.%Y\")\n",
        "  print(year_ago_date)\n",
        "  curr_tmp=year_ago_date"
      ]
    },
    {
      "cell_type": "code",
      "execution_count": 93,
      "metadata": {
        "id": "1h_iF6DRu7cC"
      },
      "outputs": [],
      "source": [
        "import concurrent.futures\n",
        "import requests\n",
        "from datetime import datetime, timedelta\n",
        "import pandas as pd\n",
        "from bs4 import BeautifulSoup\n",
        "\n",
        "\n",
        "def extract_all_elements_perYear(element, elem_Name):\n",
        "    rows = element.select(\"#resultsTable > tbody > tr\")\n",
        "    if rows is None:\n",
        "        return 0\n",
        "    rows_dict = []\n",
        "    name = elem_Name.upper()\n",
        "    for row in rows:\n",
        "        date = row.select_one(\"td:nth-child(1)\").text\n",
        "        cena_posledna = row.select_one(\"td:nth-child(2)\").text\n",
        "        max = row.select_one(\"td:nth-child(3)\").text\n",
        "        min = row.select_one(\"td:nth-child(4)\").text\n",
        "        prosecna_cena = row.select_one(\"td:nth-child(5)\").text\n",
        "        prom = row.select_one(\"td:nth-child(6)\").text\n",
        "        kolicina = row.select_one(\"td:nth-child(7)\").text\n",
        "        promet = row.select_one(\"td:nth-child(8)\").text\n",
        "        vkupno = row.select_one(\"td:nth-child(9)\").text\n",
        "        row_dict = {\n",
        "            \"Name\": name,\n",
        "            \"Date\": date,\n",
        "            \"PoslednaCena\": cena_posledna,\n",
        "            \"Max\": max,\n",
        "            \"Min\": min,\n",
        "            \"ProsecnaCena\": prosecna_cena,\n",
        "            \"%Prom\": prom,\n",
        "            \"Kolicina\": kolicina,\n",
        "            \"Promet\": promet,\n",
        "            \"Vkupno\": vkupno\n",
        "        }\n",
        "        rows_dict.append(row_dict)\n",
        "    return rows_dict\n",
        "\n",
        "\n",
        "def fetch_data_for_company_and_year(companie, year, curr_tmp):\n",
        "    curr_date = datetime.strptime(curr_tmp, \"%d.%m.%Y\")\n",
        "    year_ago_date = (curr_date - timedelta(days=365)).strftime(\"%d.%m.%Y\")\n",
        "    url_companie = base_url + companie.lower() + \"?FromDate=\" + year_ago_date + \"&ToDate=\" + curr_tmp\n",
        "    response = requests.get(url_companie)\n",
        "    soup = BeautifulSoup(response.text, \"html.parser\")\n",
        "    myList = extract_all_elements_perYear(soup, companie)\n",
        "    if myList == 0:\n",
        "        return None\n",
        "    return pd.DataFrame(myList), year_ago_date\n",
        "\n",
        "\n",
        "frames = []\n",
        "workers = 10\n",
        "batch_size = 10\n",
        "curr_tmp = datetime.now().date().strftime(\"%d.%m.%Y\")\n",
        "\n",
        "\n",
        "with concurrent.futures.ThreadPoolExecutor(max_workers=workers) as executor:\n",
        "    futures = []\n",
        "\n",
        "\n",
        "    for company in companies:\n",
        "        for y in range(0, 9):\n",
        "            futures.append(executor.submit(fetch_data_for_company_and_year, company, y, curr_tmp))\n",
        "\n",
        "\n",
        "    for future in concurrent.futures.as_completed(futures):\n",
        "        result = future.result()\n",
        "        if result:\n",
        "            tmp_df, new_curr_tmp = result\n",
        "            frames.append(tmp_df)\n",
        "            curr_tmp = new_curr_tmp\n",
        "\n",
        "\n"
      ]
    },
    {
      "cell_type": "code",
      "execution_count": 94,
      "metadata": {
        "id": "zpeam4pw7Q4I"
      },
      "outputs": [],
      "source": [
        "result=pd.concat(frames)\n",
        "result.to_csv(\"berza.csv\",index=False)"
      ]
    },
    {
      "cell_type": "code",
      "execution_count": 95,
      "metadata": {
        "colab": {
          "base_uri": "https://localhost:8080/",
          "height": 423
        },
        "id": "fBLZZJ009b5E",
        "outputId": "c8199249-d21d-454b-f713-f35e33230d00"
      },
      "outputs": [
        {
          "output_type": "execute_result",
          "data": {
            "text/plain": [
              "     Name        Date PoslednaCena Max Min ProsecnaCena %Prom Kolicina Promet  \\\n",
              "0    ADIN  14.11.2024     1.650,00             1.650,00  0,00        0      0   \n",
              "1    ADIN  13.11.2024     1.650,00             1.650,00  0,00        0      0   \n",
              "2    ADIN  12.11.2024     1.650,00             1.650,00  0,00        0      0   \n",
              "3    ADIN  11.11.2024     1.650,00             1.650,00  0,00        0      0   \n",
              "4    ADIN  08.11.2024     1.650,00             1.650,00  0,00        0      0   \n",
              "..    ...         ...          ...  ..  ..          ...   ...      ...    ...   \n",
              "195  ZUAS   29.1.2024     2.100,00             2.100,00  0,00        0      0   \n",
              "196  ZUAS   26.1.2024     2.100,00             2.100,00  0,00        0      0   \n",
              "197  ZUAS   25.1.2024     2.100,00             2.100,00  0,00        0      0   \n",
              "198  ZUAS   24.1.2024     2.100,00             2.100,00  0,00        0      0   \n",
              "199  ZUAS   23.1.2024     2.100,00             2.100,00  0,00        0      0   \n",
              "\n",
              "    Vkupno  \n",
              "0        0  \n",
              "1        0  \n",
              "2        0  \n",
              "3        0  \n",
              "4        0  \n",
              "..     ...  \n",
              "195      0  \n",
              "196      0  \n",
              "197      0  \n",
              "198      0  \n",
              "199      0  \n",
              "\n",
              "[322407 rows x 10 columns]"
            ],
            "text/html": [
              "\n",
              "  <div id=\"df-961c57f9-dc4a-4488-855f-72ec09af2bc0\" class=\"colab-df-container\">\n",
              "    <div>\n",
              "<style scoped>\n",
              "    .dataframe tbody tr th:only-of-type {\n",
              "        vertical-align: middle;\n",
              "    }\n",
              "\n",
              "    .dataframe tbody tr th {\n",
              "        vertical-align: top;\n",
              "    }\n",
              "\n",
              "    .dataframe thead th {\n",
              "        text-align: right;\n",
              "    }\n",
              "</style>\n",
              "<table border=\"1\" class=\"dataframe\">\n",
              "  <thead>\n",
              "    <tr style=\"text-align: right;\">\n",
              "      <th></th>\n",
              "      <th>Name</th>\n",
              "      <th>Date</th>\n",
              "      <th>PoslednaCena</th>\n",
              "      <th>Max</th>\n",
              "      <th>Min</th>\n",
              "      <th>ProsecnaCena</th>\n",
              "      <th>%Prom</th>\n",
              "      <th>Kolicina</th>\n",
              "      <th>Promet</th>\n",
              "      <th>Vkupno</th>\n",
              "    </tr>\n",
              "  </thead>\n",
              "  <tbody>\n",
              "    <tr>\n",
              "      <th>0</th>\n",
              "      <td>ADIN</td>\n",
              "      <td>14.11.2024</td>\n",
              "      <td>1.650,00</td>\n",
              "      <td></td>\n",
              "      <td></td>\n",
              "      <td>1.650,00</td>\n",
              "      <td>0,00</td>\n",
              "      <td>0</td>\n",
              "      <td>0</td>\n",
              "      <td>0</td>\n",
              "    </tr>\n",
              "    <tr>\n",
              "      <th>1</th>\n",
              "      <td>ADIN</td>\n",
              "      <td>13.11.2024</td>\n",
              "      <td>1.650,00</td>\n",
              "      <td></td>\n",
              "      <td></td>\n",
              "      <td>1.650,00</td>\n",
              "      <td>0,00</td>\n",
              "      <td>0</td>\n",
              "      <td>0</td>\n",
              "      <td>0</td>\n",
              "    </tr>\n",
              "    <tr>\n",
              "      <th>2</th>\n",
              "      <td>ADIN</td>\n",
              "      <td>12.11.2024</td>\n",
              "      <td>1.650,00</td>\n",
              "      <td></td>\n",
              "      <td></td>\n",
              "      <td>1.650,00</td>\n",
              "      <td>0,00</td>\n",
              "      <td>0</td>\n",
              "      <td>0</td>\n",
              "      <td>0</td>\n",
              "    </tr>\n",
              "    <tr>\n",
              "      <th>3</th>\n",
              "      <td>ADIN</td>\n",
              "      <td>11.11.2024</td>\n",
              "      <td>1.650,00</td>\n",
              "      <td></td>\n",
              "      <td></td>\n",
              "      <td>1.650,00</td>\n",
              "      <td>0,00</td>\n",
              "      <td>0</td>\n",
              "      <td>0</td>\n",
              "      <td>0</td>\n",
              "    </tr>\n",
              "    <tr>\n",
              "      <th>4</th>\n",
              "      <td>ADIN</td>\n",
              "      <td>08.11.2024</td>\n",
              "      <td>1.650,00</td>\n",
              "      <td></td>\n",
              "      <td></td>\n",
              "      <td>1.650,00</td>\n",
              "      <td>0,00</td>\n",
              "      <td>0</td>\n",
              "      <td>0</td>\n",
              "      <td>0</td>\n",
              "    </tr>\n",
              "    <tr>\n",
              "      <th>...</th>\n",
              "      <td>...</td>\n",
              "      <td>...</td>\n",
              "      <td>...</td>\n",
              "      <td>...</td>\n",
              "      <td>...</td>\n",
              "      <td>...</td>\n",
              "      <td>...</td>\n",
              "      <td>...</td>\n",
              "      <td>...</td>\n",
              "      <td>...</td>\n",
              "    </tr>\n",
              "    <tr>\n",
              "      <th>195</th>\n",
              "      <td>ZUAS</td>\n",
              "      <td>29.1.2024</td>\n",
              "      <td>2.100,00</td>\n",
              "      <td></td>\n",
              "      <td></td>\n",
              "      <td>2.100,00</td>\n",
              "      <td>0,00</td>\n",
              "      <td>0</td>\n",
              "      <td>0</td>\n",
              "      <td>0</td>\n",
              "    </tr>\n",
              "    <tr>\n",
              "      <th>196</th>\n",
              "      <td>ZUAS</td>\n",
              "      <td>26.1.2024</td>\n",
              "      <td>2.100,00</td>\n",
              "      <td></td>\n",
              "      <td></td>\n",
              "      <td>2.100,00</td>\n",
              "      <td>0,00</td>\n",
              "      <td>0</td>\n",
              "      <td>0</td>\n",
              "      <td>0</td>\n",
              "    </tr>\n",
              "    <tr>\n",
              "      <th>197</th>\n",
              "      <td>ZUAS</td>\n",
              "      <td>25.1.2024</td>\n",
              "      <td>2.100,00</td>\n",
              "      <td></td>\n",
              "      <td></td>\n",
              "      <td>2.100,00</td>\n",
              "      <td>0,00</td>\n",
              "      <td>0</td>\n",
              "      <td>0</td>\n",
              "      <td>0</td>\n",
              "    </tr>\n",
              "    <tr>\n",
              "      <th>198</th>\n",
              "      <td>ZUAS</td>\n",
              "      <td>24.1.2024</td>\n",
              "      <td>2.100,00</td>\n",
              "      <td></td>\n",
              "      <td></td>\n",
              "      <td>2.100,00</td>\n",
              "      <td>0,00</td>\n",
              "      <td>0</td>\n",
              "      <td>0</td>\n",
              "      <td>0</td>\n",
              "    </tr>\n",
              "    <tr>\n",
              "      <th>199</th>\n",
              "      <td>ZUAS</td>\n",
              "      <td>23.1.2024</td>\n",
              "      <td>2.100,00</td>\n",
              "      <td></td>\n",
              "      <td></td>\n",
              "      <td>2.100,00</td>\n",
              "      <td>0,00</td>\n",
              "      <td>0</td>\n",
              "      <td>0</td>\n",
              "      <td>0</td>\n",
              "    </tr>\n",
              "  </tbody>\n",
              "</table>\n",
              "<p>322407 rows × 10 columns</p>\n",
              "</div>\n",
              "    <div class=\"colab-df-buttons\">\n",
              "\n",
              "  <div class=\"colab-df-container\">\n",
              "    <button class=\"colab-df-convert\" onclick=\"convertToInteractive('df-961c57f9-dc4a-4488-855f-72ec09af2bc0')\"\n",
              "            title=\"Convert this dataframe to an interactive table.\"\n",
              "            style=\"display:none;\">\n",
              "\n",
              "  <svg xmlns=\"http://www.w3.org/2000/svg\" height=\"24px\" viewBox=\"0 -960 960 960\">\n",
              "    <path d=\"M120-120v-720h720v720H120Zm60-500h600v-160H180v160Zm220 220h160v-160H400v160Zm0 220h160v-160H400v160ZM180-400h160v-160H180v160Zm440 0h160v-160H620v160ZM180-180h160v-160H180v160Zm440 0h160v-160H620v160Z\"/>\n",
              "  </svg>\n",
              "    </button>\n",
              "\n",
              "  <style>\n",
              "    .colab-df-container {\n",
              "      display:flex;\n",
              "      gap: 12px;\n",
              "    }\n",
              "\n",
              "    .colab-df-convert {\n",
              "      background-color: #E8F0FE;\n",
              "      border: none;\n",
              "      border-radius: 50%;\n",
              "      cursor: pointer;\n",
              "      display: none;\n",
              "      fill: #1967D2;\n",
              "      height: 32px;\n",
              "      padding: 0 0 0 0;\n",
              "      width: 32px;\n",
              "    }\n",
              "\n",
              "    .colab-df-convert:hover {\n",
              "      background-color: #E2EBFA;\n",
              "      box-shadow: 0px 1px 2px rgba(60, 64, 67, 0.3), 0px 1px 3px 1px rgba(60, 64, 67, 0.15);\n",
              "      fill: #174EA6;\n",
              "    }\n",
              "\n",
              "    .colab-df-buttons div {\n",
              "      margin-bottom: 4px;\n",
              "    }\n",
              "\n",
              "    [theme=dark] .colab-df-convert {\n",
              "      background-color: #3B4455;\n",
              "      fill: #D2E3FC;\n",
              "    }\n",
              "\n",
              "    [theme=dark] .colab-df-convert:hover {\n",
              "      background-color: #434B5C;\n",
              "      box-shadow: 0px 1px 3px 1px rgba(0, 0, 0, 0.15);\n",
              "      filter: drop-shadow(0px 1px 2px rgba(0, 0, 0, 0.3));\n",
              "      fill: #FFFFFF;\n",
              "    }\n",
              "  </style>\n",
              "\n",
              "    <script>\n",
              "      const buttonEl =\n",
              "        document.querySelector('#df-961c57f9-dc4a-4488-855f-72ec09af2bc0 button.colab-df-convert');\n",
              "      buttonEl.style.display =\n",
              "        google.colab.kernel.accessAllowed ? 'block' : 'none';\n",
              "\n",
              "      async function convertToInteractive(key) {\n",
              "        const element = document.querySelector('#df-961c57f9-dc4a-4488-855f-72ec09af2bc0');\n",
              "        const dataTable =\n",
              "          await google.colab.kernel.invokeFunction('convertToInteractive',\n",
              "                                                    [key], {});\n",
              "        if (!dataTable) return;\n",
              "\n",
              "        const docLinkHtml = 'Like what you see? Visit the ' +\n",
              "          '<a target=\"_blank\" href=https://colab.research.google.com/notebooks/data_table.ipynb>data table notebook</a>'\n",
              "          + ' to learn more about interactive tables.';\n",
              "        element.innerHTML = '';\n",
              "        dataTable['output_type'] = 'display_data';\n",
              "        await google.colab.output.renderOutput(dataTable, element);\n",
              "        const docLink = document.createElement('div');\n",
              "        docLink.innerHTML = docLinkHtml;\n",
              "        element.appendChild(docLink);\n",
              "      }\n",
              "    </script>\n",
              "  </div>\n",
              "\n",
              "\n",
              "<div id=\"df-7db480a2-866c-46d0-8a37-ad960f48c612\">\n",
              "  <button class=\"colab-df-quickchart\" onclick=\"quickchart('df-7db480a2-866c-46d0-8a37-ad960f48c612')\"\n",
              "            title=\"Suggest charts\"\n",
              "            style=\"display:none;\">\n",
              "\n",
              "<svg xmlns=\"http://www.w3.org/2000/svg\" height=\"24px\"viewBox=\"0 0 24 24\"\n",
              "     width=\"24px\">\n",
              "    <g>\n",
              "        <path d=\"M19 3H5c-1.1 0-2 .9-2 2v14c0 1.1.9 2 2 2h14c1.1 0 2-.9 2-2V5c0-1.1-.9-2-2-2zM9 17H7v-7h2v7zm4 0h-2V7h2v10zm4 0h-2v-4h2v4z\"/>\n",
              "    </g>\n",
              "</svg>\n",
              "  </button>\n",
              "\n",
              "<style>\n",
              "  .colab-df-quickchart {\n",
              "      --bg-color: #E8F0FE;\n",
              "      --fill-color: #1967D2;\n",
              "      --hover-bg-color: #E2EBFA;\n",
              "      --hover-fill-color: #174EA6;\n",
              "      --disabled-fill-color: #AAA;\n",
              "      --disabled-bg-color: #DDD;\n",
              "  }\n",
              "\n",
              "  [theme=dark] .colab-df-quickchart {\n",
              "      --bg-color: #3B4455;\n",
              "      --fill-color: #D2E3FC;\n",
              "      --hover-bg-color: #434B5C;\n",
              "      --hover-fill-color: #FFFFFF;\n",
              "      --disabled-bg-color: #3B4455;\n",
              "      --disabled-fill-color: #666;\n",
              "  }\n",
              "\n",
              "  .colab-df-quickchart {\n",
              "    background-color: var(--bg-color);\n",
              "    border: none;\n",
              "    border-radius: 50%;\n",
              "    cursor: pointer;\n",
              "    display: none;\n",
              "    fill: var(--fill-color);\n",
              "    height: 32px;\n",
              "    padding: 0;\n",
              "    width: 32px;\n",
              "  }\n",
              "\n",
              "  .colab-df-quickchart:hover {\n",
              "    background-color: var(--hover-bg-color);\n",
              "    box-shadow: 0 1px 2px rgba(60, 64, 67, 0.3), 0 1px 3px 1px rgba(60, 64, 67, 0.15);\n",
              "    fill: var(--button-hover-fill-color);\n",
              "  }\n",
              "\n",
              "  .colab-df-quickchart-complete:disabled,\n",
              "  .colab-df-quickchart-complete:disabled:hover {\n",
              "    background-color: var(--disabled-bg-color);\n",
              "    fill: var(--disabled-fill-color);\n",
              "    box-shadow: none;\n",
              "  }\n",
              "\n",
              "  .colab-df-spinner {\n",
              "    border: 2px solid var(--fill-color);\n",
              "    border-color: transparent;\n",
              "    border-bottom-color: var(--fill-color);\n",
              "    animation:\n",
              "      spin 1s steps(1) infinite;\n",
              "  }\n",
              "\n",
              "  @keyframes spin {\n",
              "    0% {\n",
              "      border-color: transparent;\n",
              "      border-bottom-color: var(--fill-color);\n",
              "      border-left-color: var(--fill-color);\n",
              "    }\n",
              "    20% {\n",
              "      border-color: transparent;\n",
              "      border-left-color: var(--fill-color);\n",
              "      border-top-color: var(--fill-color);\n",
              "    }\n",
              "    30% {\n",
              "      border-color: transparent;\n",
              "      border-left-color: var(--fill-color);\n",
              "      border-top-color: var(--fill-color);\n",
              "      border-right-color: var(--fill-color);\n",
              "    }\n",
              "    40% {\n",
              "      border-color: transparent;\n",
              "      border-right-color: var(--fill-color);\n",
              "      border-top-color: var(--fill-color);\n",
              "    }\n",
              "    60% {\n",
              "      border-color: transparent;\n",
              "      border-right-color: var(--fill-color);\n",
              "    }\n",
              "    80% {\n",
              "      border-color: transparent;\n",
              "      border-right-color: var(--fill-color);\n",
              "      border-bottom-color: var(--fill-color);\n",
              "    }\n",
              "    90% {\n",
              "      border-color: transparent;\n",
              "      border-bottom-color: var(--fill-color);\n",
              "    }\n",
              "  }\n",
              "</style>\n",
              "\n",
              "  <script>\n",
              "    async function quickchart(key) {\n",
              "      const quickchartButtonEl =\n",
              "        document.querySelector('#' + key + ' button');\n",
              "      quickchartButtonEl.disabled = true;  // To prevent multiple clicks.\n",
              "      quickchartButtonEl.classList.add('colab-df-spinner');\n",
              "      try {\n",
              "        const charts = await google.colab.kernel.invokeFunction(\n",
              "            'suggestCharts', [key], {});\n",
              "      } catch (error) {\n",
              "        console.error('Error during call to suggestCharts:', error);\n",
              "      }\n",
              "      quickchartButtonEl.classList.remove('colab-df-spinner');\n",
              "      quickchartButtonEl.classList.add('colab-df-quickchart-complete');\n",
              "    }\n",
              "    (() => {\n",
              "      let quickchartButtonEl =\n",
              "        document.querySelector('#df-7db480a2-866c-46d0-8a37-ad960f48c612 button');\n",
              "      quickchartButtonEl.style.display =\n",
              "        google.colab.kernel.accessAllowed ? 'block' : 'none';\n",
              "    })();\n",
              "  </script>\n",
              "</div>\n",
              "    </div>\n",
              "  </div>\n"
            ],
            "application/vnd.google.colaboratory.intrinsic+json": {
              "type": "dataframe",
              "variable_name": "result"
            }
          },
          "metadata": {},
          "execution_count": 95
        }
      ],
      "source": [
        "result"
      ]
    },
    {
      "cell_type": "code",
      "execution_count": 96,
      "metadata": {
        "id": "OjhlcXqWXlWq"
      },
      "outputs": [],
      "source": [
        "end_time = time.time()"
      ]
    },
    {
      "cell_type": "code",
      "execution_count": 97,
      "metadata": {
        "colab": {
          "base_uri": "https://localhost:8080/"
        },
        "id": "4kgdWiU9DW_c",
        "outputId": "9d8a617e-23d3-4d2d-f9ec-ba0b31224858"
      },
      "outputs": [
        {
          "output_type": "stream",
          "name": "stdout",
          "text": [
            "20.498690287272137 minutes\n"
          ]
        }
      ],
      "source": [
        "print((end_time-start_time)/60 , 'minutes')"
      ]
    },
    {
      "cell_type": "code",
      "source": [],
      "metadata": {
        "id": "7JCGsq3i75Br"
      },
      "execution_count": 97,
      "outputs": []
    }
  ],
  "metadata": {
    "colab": {
      "provenance": []
    },
    "kernelspec": {
      "display_name": "Python 3",
      "name": "python3"
    },
    "language_info": {
      "name": "python"
    }
  },
  "nbformat": 4,
  "nbformat_minor": 0
}