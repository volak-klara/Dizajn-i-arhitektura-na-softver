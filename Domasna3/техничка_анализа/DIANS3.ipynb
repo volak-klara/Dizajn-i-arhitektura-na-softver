{
  "cells": [
    {
      "cell_type": "code",
      "execution_count": 1,
      "metadata": {
        "id": "WF68S1AaYsYm"
      },
      "outputs": [],
      "source": [
        "import pandas as pd\n",
        "import matplotlib.pyplot as plt\n",
        "import seaborn as sns\n",
        "import os\n",
        "import numpy as np\n"
      ]
    },
    {
      "cell_type": "code",
      "execution_count": 2,
      "metadata": {
        "colab": {
          "base_uri": "https://localhost:8080/"
        },
        "id": "UJa2yzyktKOA",
        "outputId": "4abc43a3-a1a0-45a9-beb9-2ebbc73c387f"
      },
      "outputs": [
        {
          "output_type": "stream",
          "name": "stdout",
          "text": [
            "Collecting ta\n",
            "  Downloading ta-0.11.0.tar.gz (25 kB)\n",
            "  Preparing metadata (setup.py) ... \u001b[?25l\u001b[?25hdone\n",
            "Requirement already satisfied: numpy in /usr/local/lib/python3.10/dist-packages (from ta) (1.26.4)\n",
            "Requirement already satisfied: pandas in /usr/local/lib/python3.10/dist-packages (from ta) (2.2.2)\n",
            "Requirement already satisfied: python-dateutil>=2.8.2 in /usr/local/lib/python3.10/dist-packages (from pandas->ta) (2.8.2)\n",
            "Requirement already satisfied: pytz>=2020.1 in /usr/local/lib/python3.10/dist-packages (from pandas->ta) (2024.2)\n",
            "Requirement already satisfied: tzdata>=2022.7 in /usr/local/lib/python3.10/dist-packages (from pandas->ta) (2024.2)\n",
            "Requirement already satisfied: six>=1.5 in /usr/local/lib/python3.10/dist-packages (from python-dateutil>=2.8.2->pandas->ta) (1.17.0)\n",
            "Building wheels for collected packages: ta\n",
            "  Building wheel for ta (setup.py) ... \u001b[?25l\u001b[?25hdone\n",
            "  Created wheel for ta: filename=ta-0.11.0-py3-none-any.whl size=29412 sha256=8400f9122aa687d9c959531dd328766da0fd830f935f8de0e6f9909637362b58\n",
            "  Stored in directory: /root/.cache/pip/wheels/5f/67/4f/8a9f252836e053e532c6587a3230bc72a4deb16b03a829610b\n",
            "Successfully built ta\n",
            "Installing collected packages: ta\n",
            "Successfully installed ta-0.11.0\n"
          ]
        }
      ],
      "source": [
        "!pip install ta"
      ]
    },
    {
      "cell_type": "code",
      "execution_count": 3,
      "metadata": {
        "id": "IXac2Rcb2XZp"
      },
      "outputs": [],
      "source": [
        "import ta"
      ]
    },
    {
      "cell_type": "code",
      "execution_count": 6,
      "metadata": {
        "id": "fjBHDLxWY1ew"
      },
      "outputs": [],
      "source": [
        "data=pd.read_csv(\"berza.csv\")"
      ]
    },
    {
      "cell_type": "code",
      "execution_count": 7,
      "metadata": {
        "colab": {
          "base_uri": "https://localhost:8080/",
          "height": 423
        },
        "id": "VOUOJOu9y9ZO",
        "outputId": "0a7c8db3-096c-4b60-e7fd-4a5c88142f4d"
      },
      "outputs": [
        {
          "output_type": "execute_result",
          "data": {
            "text/plain": [
              "        Name        Date PoslednaCena  Max  Min ProsecnaCena %Prom  Kolicina  \\\n",
              "0       ADIN  08.11.2024     1.650,00  NaN  NaN     1.650,00  0,00       0.0   \n",
              "1       ADIN  07.11.2024     1.650,00  NaN  NaN     1.650,00  0,00       0.0   \n",
              "2       ADIN  06.11.2024     1.650,00  NaN  NaN     1.650,00  0,00       0.0   \n",
              "3       ADIN  05.11.2024     1.650,00  NaN  NaN     1.650,00  0,00       0.0   \n",
              "4       ADIN  04.11.2024     1.650,00  NaN  NaN     1.650,00  0,00       0.0   \n",
              "...      ...         ...          ...  ...  ...          ...   ...       ...   \n",
              "322106  ZUAS  14.11.2014     2.155,00  NaN  NaN     2.155,00  0,00       0.0   \n",
              "322107  ZUAS  13.11.2014     2.155,00  NaN  NaN     2.155,00  0,00       0.0   \n",
              "322108  ZUAS  12.11.2014     2.155,00  NaN  NaN     2.155,00  0,00       0.0   \n",
              "322109  ZUAS  11.11.2014     2.155,00  NaN  NaN     2.155,00  0,00       0.0   \n",
              "322110  ZUAS  10.11.2014     2.155,00  NaN  NaN     2.155,00  0,00       0.0   \n",
              "\n",
              "       Promet Vkupno  \n",
              "0           0      0  \n",
              "1           0      0  \n",
              "2           0      0  \n",
              "3           0      0  \n",
              "4           0      0  \n",
              "...       ...    ...  \n",
              "322106      0      0  \n",
              "322107      0      0  \n",
              "322108      0      0  \n",
              "322109      0      0  \n",
              "322110      0      0  \n",
              "\n",
              "[322111 rows x 10 columns]"
            ],
            "text/html": [
              "\n",
              "  <div id=\"df-66d6b8cf-23f5-4ca7-a38e-cc3e5d540f25\" class=\"colab-df-container\">\n",
              "    <div>\n",
              "<style scoped>\n",
              "    .dataframe tbody tr th:only-of-type {\n",
              "        vertical-align: middle;\n",
              "    }\n",
              "\n",
              "    .dataframe tbody tr th {\n",
              "        vertical-align: top;\n",
              "    }\n",
              "\n",
              "    .dataframe thead th {\n",
              "        text-align: right;\n",
              "    }\n",
              "</style>\n",
              "<table border=\"1\" class=\"dataframe\">\n",
              "  <thead>\n",
              "    <tr style=\"text-align: right;\">\n",
              "      <th></th>\n",
              "      <th>Name</th>\n",
              "      <th>Date</th>\n",
              "      <th>PoslednaCena</th>\n",
              "      <th>Max</th>\n",
              "      <th>Min</th>\n",
              "      <th>ProsecnaCena</th>\n",
              "      <th>%Prom</th>\n",
              "      <th>Kolicina</th>\n",
              "      <th>Promet</th>\n",
              "      <th>Vkupno</th>\n",
              "    </tr>\n",
              "  </thead>\n",
              "  <tbody>\n",
              "    <tr>\n",
              "      <th>0</th>\n",
              "      <td>ADIN</td>\n",
              "      <td>08.11.2024</td>\n",
              "      <td>1.650,00</td>\n",
              "      <td>NaN</td>\n",
              "      <td>NaN</td>\n",
              "      <td>1.650,00</td>\n",
              "      <td>0,00</td>\n",
              "      <td>0.0</td>\n",
              "      <td>0</td>\n",
              "      <td>0</td>\n",
              "    </tr>\n",
              "    <tr>\n",
              "      <th>1</th>\n",
              "      <td>ADIN</td>\n",
              "      <td>07.11.2024</td>\n",
              "      <td>1.650,00</td>\n",
              "      <td>NaN</td>\n",
              "      <td>NaN</td>\n",
              "      <td>1.650,00</td>\n",
              "      <td>0,00</td>\n",
              "      <td>0.0</td>\n",
              "      <td>0</td>\n",
              "      <td>0</td>\n",
              "    </tr>\n",
              "    <tr>\n",
              "      <th>2</th>\n",
              "      <td>ADIN</td>\n",
              "      <td>06.11.2024</td>\n",
              "      <td>1.650,00</td>\n",
              "      <td>NaN</td>\n",
              "      <td>NaN</td>\n",
              "      <td>1.650,00</td>\n",
              "      <td>0,00</td>\n",
              "      <td>0.0</td>\n",
              "      <td>0</td>\n",
              "      <td>0</td>\n",
              "    </tr>\n",
              "    <tr>\n",
              "      <th>3</th>\n",
              "      <td>ADIN</td>\n",
              "      <td>05.11.2024</td>\n",
              "      <td>1.650,00</td>\n",
              "      <td>NaN</td>\n",
              "      <td>NaN</td>\n",
              "      <td>1.650,00</td>\n",
              "      <td>0,00</td>\n",
              "      <td>0.0</td>\n",
              "      <td>0</td>\n",
              "      <td>0</td>\n",
              "    </tr>\n",
              "    <tr>\n",
              "      <th>4</th>\n",
              "      <td>ADIN</td>\n",
              "      <td>04.11.2024</td>\n",
              "      <td>1.650,00</td>\n",
              "      <td>NaN</td>\n",
              "      <td>NaN</td>\n",
              "      <td>1.650,00</td>\n",
              "      <td>0,00</td>\n",
              "      <td>0.0</td>\n",
              "      <td>0</td>\n",
              "      <td>0</td>\n",
              "    </tr>\n",
              "    <tr>\n",
              "      <th>...</th>\n",
              "      <td>...</td>\n",
              "      <td>...</td>\n",
              "      <td>...</td>\n",
              "      <td>...</td>\n",
              "      <td>...</td>\n",
              "      <td>...</td>\n",
              "      <td>...</td>\n",
              "      <td>...</td>\n",
              "      <td>...</td>\n",
              "      <td>...</td>\n",
              "    </tr>\n",
              "    <tr>\n",
              "      <th>322106</th>\n",
              "      <td>ZUAS</td>\n",
              "      <td>14.11.2014</td>\n",
              "      <td>2.155,00</td>\n",
              "      <td>NaN</td>\n",
              "      <td>NaN</td>\n",
              "      <td>2.155,00</td>\n",
              "      <td>0,00</td>\n",
              "      <td>0.0</td>\n",
              "      <td>0</td>\n",
              "      <td>0</td>\n",
              "    </tr>\n",
              "    <tr>\n",
              "      <th>322107</th>\n",
              "      <td>ZUAS</td>\n",
              "      <td>13.11.2014</td>\n",
              "      <td>2.155,00</td>\n",
              "      <td>NaN</td>\n",
              "      <td>NaN</td>\n",
              "      <td>2.155,00</td>\n",
              "      <td>0,00</td>\n",
              "      <td>0.0</td>\n",
              "      <td>0</td>\n",
              "      <td>0</td>\n",
              "    </tr>\n",
              "    <tr>\n",
              "      <th>322108</th>\n",
              "      <td>ZUAS</td>\n",
              "      <td>12.11.2014</td>\n",
              "      <td>2.155,00</td>\n",
              "      <td>NaN</td>\n",
              "      <td>NaN</td>\n",
              "      <td>2.155,00</td>\n",
              "      <td>0,00</td>\n",
              "      <td>0.0</td>\n",
              "      <td>0</td>\n",
              "      <td>0</td>\n",
              "    </tr>\n",
              "    <tr>\n",
              "      <th>322109</th>\n",
              "      <td>ZUAS</td>\n",
              "      <td>11.11.2014</td>\n",
              "      <td>2.155,00</td>\n",
              "      <td>NaN</td>\n",
              "      <td>NaN</td>\n",
              "      <td>2.155,00</td>\n",
              "      <td>0,00</td>\n",
              "      <td>0.0</td>\n",
              "      <td>0</td>\n",
              "      <td>0</td>\n",
              "    </tr>\n",
              "    <tr>\n",
              "      <th>322110</th>\n",
              "      <td>ZUAS</td>\n",
              "      <td>10.11.2014</td>\n",
              "      <td>2.155,00</td>\n",
              "      <td>NaN</td>\n",
              "      <td>NaN</td>\n",
              "      <td>2.155,00</td>\n",
              "      <td>0,00</td>\n",
              "      <td>0.0</td>\n",
              "      <td>0</td>\n",
              "      <td>0</td>\n",
              "    </tr>\n",
              "  </tbody>\n",
              "</table>\n",
              "<p>322111 rows × 10 columns</p>\n",
              "</div>\n",
              "    <div class=\"colab-df-buttons\">\n",
              "\n",
              "  <div class=\"colab-df-container\">\n",
              "    <button class=\"colab-df-convert\" onclick=\"convertToInteractive('df-66d6b8cf-23f5-4ca7-a38e-cc3e5d540f25')\"\n",
              "            title=\"Convert this dataframe to an interactive table.\"\n",
              "            style=\"display:none;\">\n",
              "\n",
              "  <svg xmlns=\"http://www.w3.org/2000/svg\" height=\"24px\" viewBox=\"0 -960 960 960\">\n",
              "    <path d=\"M120-120v-720h720v720H120Zm60-500h600v-160H180v160Zm220 220h160v-160H400v160Zm0 220h160v-160H400v160ZM180-400h160v-160H180v160Zm440 0h160v-160H620v160ZM180-180h160v-160H180v160Zm440 0h160v-160H620v160Z\"/>\n",
              "  </svg>\n",
              "    </button>\n",
              "\n",
              "  <style>\n",
              "    .colab-df-container {\n",
              "      display:flex;\n",
              "      gap: 12px;\n",
              "    }\n",
              "\n",
              "    .colab-df-convert {\n",
              "      background-color: #E8F0FE;\n",
              "      border: none;\n",
              "      border-radius: 50%;\n",
              "      cursor: pointer;\n",
              "      display: none;\n",
              "      fill: #1967D2;\n",
              "      height: 32px;\n",
              "      padding: 0 0 0 0;\n",
              "      width: 32px;\n",
              "    }\n",
              "\n",
              "    .colab-df-convert:hover {\n",
              "      background-color: #E2EBFA;\n",
              "      box-shadow: 0px 1px 2px rgba(60, 64, 67, 0.3), 0px 1px 3px 1px rgba(60, 64, 67, 0.15);\n",
              "      fill: #174EA6;\n",
              "    }\n",
              "\n",
              "    .colab-df-buttons div {\n",
              "      margin-bottom: 4px;\n",
              "    }\n",
              "\n",
              "    [theme=dark] .colab-df-convert {\n",
              "      background-color: #3B4455;\n",
              "      fill: #D2E3FC;\n",
              "    }\n",
              "\n",
              "    [theme=dark] .colab-df-convert:hover {\n",
              "      background-color: #434B5C;\n",
              "      box-shadow: 0px 1px 3px 1px rgba(0, 0, 0, 0.15);\n",
              "      filter: drop-shadow(0px 1px 2px rgba(0, 0, 0, 0.3));\n",
              "      fill: #FFFFFF;\n",
              "    }\n",
              "  </style>\n",
              "\n",
              "    <script>\n",
              "      const buttonEl =\n",
              "        document.querySelector('#df-66d6b8cf-23f5-4ca7-a38e-cc3e5d540f25 button.colab-df-convert');\n",
              "      buttonEl.style.display =\n",
              "        google.colab.kernel.accessAllowed ? 'block' : 'none';\n",
              "\n",
              "      async function convertToInteractive(key) {\n",
              "        const element = document.querySelector('#df-66d6b8cf-23f5-4ca7-a38e-cc3e5d540f25');\n",
              "        const dataTable =\n",
              "          await google.colab.kernel.invokeFunction('convertToInteractive',\n",
              "                                                    [key], {});\n",
              "        if (!dataTable) return;\n",
              "\n",
              "        const docLinkHtml = 'Like what you see? Visit the ' +\n",
              "          '<a target=\"_blank\" href=https://colab.research.google.com/notebooks/data_table.ipynb>data table notebook</a>'\n",
              "          + ' to learn more about interactive tables.';\n",
              "        element.innerHTML = '';\n",
              "        dataTable['output_type'] = 'display_data';\n",
              "        await google.colab.output.renderOutput(dataTable, element);\n",
              "        const docLink = document.createElement('div');\n",
              "        docLink.innerHTML = docLinkHtml;\n",
              "        element.appendChild(docLink);\n",
              "      }\n",
              "    </script>\n",
              "  </div>\n",
              "\n",
              "\n",
              "<div id=\"df-a578b0a2-b7c0-428f-899f-3e2876f80e74\">\n",
              "  <button class=\"colab-df-quickchart\" onclick=\"quickchart('df-a578b0a2-b7c0-428f-899f-3e2876f80e74')\"\n",
              "            title=\"Suggest charts\"\n",
              "            style=\"display:none;\">\n",
              "\n",
              "<svg xmlns=\"http://www.w3.org/2000/svg\" height=\"24px\"viewBox=\"0 0 24 24\"\n",
              "     width=\"24px\">\n",
              "    <g>\n",
              "        <path d=\"M19 3H5c-1.1 0-2 .9-2 2v14c0 1.1.9 2 2 2h14c1.1 0 2-.9 2-2V5c0-1.1-.9-2-2-2zM9 17H7v-7h2v7zm4 0h-2V7h2v10zm4 0h-2v-4h2v4z\"/>\n",
              "    </g>\n",
              "</svg>\n",
              "  </button>\n",
              "\n",
              "<style>\n",
              "  .colab-df-quickchart {\n",
              "      --bg-color: #E8F0FE;\n",
              "      --fill-color: #1967D2;\n",
              "      --hover-bg-color: #E2EBFA;\n",
              "      --hover-fill-color: #174EA6;\n",
              "      --disabled-fill-color: #AAA;\n",
              "      --disabled-bg-color: #DDD;\n",
              "  }\n",
              "\n",
              "  [theme=dark] .colab-df-quickchart {\n",
              "      --bg-color: #3B4455;\n",
              "      --fill-color: #D2E3FC;\n",
              "      --hover-bg-color: #434B5C;\n",
              "      --hover-fill-color: #FFFFFF;\n",
              "      --disabled-bg-color: #3B4455;\n",
              "      --disabled-fill-color: #666;\n",
              "  }\n",
              "\n",
              "  .colab-df-quickchart {\n",
              "    background-color: var(--bg-color);\n",
              "    border: none;\n",
              "    border-radius: 50%;\n",
              "    cursor: pointer;\n",
              "    display: none;\n",
              "    fill: var(--fill-color);\n",
              "    height: 32px;\n",
              "    padding: 0;\n",
              "    width: 32px;\n",
              "  }\n",
              "\n",
              "  .colab-df-quickchart:hover {\n",
              "    background-color: var(--hover-bg-color);\n",
              "    box-shadow: 0 1px 2px rgba(60, 64, 67, 0.3), 0 1px 3px 1px rgba(60, 64, 67, 0.15);\n",
              "    fill: var(--button-hover-fill-color);\n",
              "  }\n",
              "\n",
              "  .colab-df-quickchart-complete:disabled,\n",
              "  .colab-df-quickchart-complete:disabled:hover {\n",
              "    background-color: var(--disabled-bg-color);\n",
              "    fill: var(--disabled-fill-color);\n",
              "    box-shadow: none;\n",
              "  }\n",
              "\n",
              "  .colab-df-spinner {\n",
              "    border: 2px solid var(--fill-color);\n",
              "    border-color: transparent;\n",
              "    border-bottom-color: var(--fill-color);\n",
              "    animation:\n",
              "      spin 1s steps(1) infinite;\n",
              "  }\n",
              "\n",
              "  @keyframes spin {\n",
              "    0% {\n",
              "      border-color: transparent;\n",
              "      border-bottom-color: var(--fill-color);\n",
              "      border-left-color: var(--fill-color);\n",
              "    }\n",
              "    20% {\n",
              "      border-color: transparent;\n",
              "      border-left-color: var(--fill-color);\n",
              "      border-top-color: var(--fill-color);\n",
              "    }\n",
              "    30% {\n",
              "      border-color: transparent;\n",
              "      border-left-color: var(--fill-color);\n",
              "      border-top-color: var(--fill-color);\n",
              "      border-right-color: var(--fill-color);\n",
              "    }\n",
              "    40% {\n",
              "      border-color: transparent;\n",
              "      border-right-color: var(--fill-color);\n",
              "      border-top-color: var(--fill-color);\n",
              "    }\n",
              "    60% {\n",
              "      border-color: transparent;\n",
              "      border-right-color: var(--fill-color);\n",
              "    }\n",
              "    80% {\n",
              "      border-color: transparent;\n",
              "      border-right-color: var(--fill-color);\n",
              "      border-bottom-color: var(--fill-color);\n",
              "    }\n",
              "    90% {\n",
              "      border-color: transparent;\n",
              "      border-bottom-color: var(--fill-color);\n",
              "    }\n",
              "  }\n",
              "</style>\n",
              "\n",
              "  <script>\n",
              "    async function quickchart(key) {\n",
              "      const quickchartButtonEl =\n",
              "        document.querySelector('#' + key + ' button');\n",
              "      quickchartButtonEl.disabled = true;  // To prevent multiple clicks.\n",
              "      quickchartButtonEl.classList.add('colab-df-spinner');\n",
              "      try {\n",
              "        const charts = await google.colab.kernel.invokeFunction(\n",
              "            'suggestCharts', [key], {});\n",
              "      } catch (error) {\n",
              "        console.error('Error during call to suggestCharts:', error);\n",
              "      }\n",
              "      quickchartButtonEl.classList.remove('colab-df-spinner');\n",
              "      quickchartButtonEl.classList.add('colab-df-quickchart-complete');\n",
              "    }\n",
              "    (() => {\n",
              "      let quickchartButtonEl =\n",
              "        document.querySelector('#df-a578b0a2-b7c0-428f-899f-3e2876f80e74 button');\n",
              "      quickchartButtonEl.style.display =\n",
              "        google.colab.kernel.accessAllowed ? 'block' : 'none';\n",
              "    })();\n",
              "  </script>\n",
              "</div>\n",
              "    </div>\n",
              "  </div>\n"
            ],
            "application/vnd.google.colaboratory.intrinsic+json": {
              "type": "dataframe",
              "variable_name": "data"
            }
          },
          "metadata": {},
          "execution_count": 7
        }
      ],
      "source": [
        "data"
      ]
    },
    {
      "cell_type": "code",
      "execution_count": 8,
      "metadata": {
        "colab": {
          "base_uri": "https://localhost:8080/",
          "height": 1000
        },
        "id": "Lp9vamyCY59E",
        "outputId": "b5d692d7-4937-4bd1-9c85-cc944e978ffc"
      },
      "outputs": [
        {
          "output_type": "execute_result",
          "data": {
            "text/plain": [
              "    Name        Date PoslednaCena       Max       Min ProsecnaCena  %Prom  \\\n",
              "0   ADIN  08.11.2024     1.650,00       NaN       NaN     1.650,00   0,00   \n",
              "1   ADIN  07.11.2024     1.650,00       NaN       NaN     1.650,00   0,00   \n",
              "2   ADIN  06.11.2024     1.650,00       NaN       NaN     1.650,00   0,00   \n",
              "3   ADIN  05.11.2024     1.650,00       NaN       NaN     1.650,00   0,00   \n",
              "4   ADIN  04.11.2024     1.650,00       NaN       NaN     1.650,00   0,00   \n",
              "5   ADIN  01.11.2024     1.650,00       NaN       NaN     1.650,00   0,00   \n",
              "6   ADIN  31.10.2024     1.650,00       NaN       NaN     1.650,00   0,00   \n",
              "7   ADIN  30.10.2024     1.650,00       NaN       NaN     1.650,00   0,00   \n",
              "8   ADIN  29.10.2024     1.650,00       NaN       NaN     1.650,00   0,00   \n",
              "9   ADIN  28.10.2024     1.650,00       NaN       NaN     1.650,00   0,00   \n",
              "10  ADIN  25.10.2024     1.650,00       NaN       NaN     1.650,00   0,00   \n",
              "11  ADIN  24.10.2024     1.650,00       NaN       NaN     1.650,00   0,00   \n",
              "12  ADIN  22.10.2024     1.650,00       NaN       NaN     1.650,00   0,00   \n",
              "13  ADIN  21.10.2024     1.650,00  1.650,00  1.650,00     1.650,00  -2,94   \n",
              "14  ADIN  18.10.2024     1.700,00  1.700,00  1.700,00     1.700,00   0,00   \n",
              "15  ADIN  17.10.2024     1.700,00       NaN       NaN     1.700,00   0,00   \n",
              "16  ADIN  16.10.2024     1.700,00       NaN       NaN     1.700,00   0,00   \n",
              "17  ADIN  15.10.2024     1.700,00       NaN       NaN     1.700,00   0,00   \n",
              "18  ADIN  14.10.2024     1.700,00       NaN       NaN     1.700,00   0,00   \n",
              "19  ADIN  10.10.2024     1.700,00  1.700,00  1.700,00     1.700,00  -2,86   \n",
              "20  ADIN  09.10.2024     1.750,00  1.750,00  1.750,00     1.750,00  -2,78   \n",
              "21  ADIN  08.10.2024     1.800,00       NaN       NaN     1.800,00   0,00   \n",
              "22  ADIN  07.10.2024     1.800,00       NaN       NaN     1.800,00   0,00   \n",
              "23  ADIN  04.10.2024     1.800,00       NaN       NaN     1.800,00   0,00   \n",
              "24  ADIN  03.10.2024     1.800,00       NaN       NaN     1.800,00   0,00   \n",
              "25  ADIN  02.10.2024     1.800,00  1.800,00  1.800,00     1.800,00   0,00   \n",
              "26  ADIN  01.10.2024     1.800,00       NaN       NaN     1.800,00   0,00   \n",
              "27  ADIN   30.9.2024     1.800,00       NaN       NaN     1.800,00   0,00   \n",
              "28  ADIN   27.9.2024     1.800,00       NaN       NaN     1.800,00   0,00   \n",
              "29  ADIN   26.9.2024     1.800,00       NaN       NaN     1.800,00   0,00   \n",
              "30  ADIN   25.9.2024     1.800,00       NaN       NaN     1.800,00   0,00   \n",
              "31  ADIN   24.9.2024     1.800,00  1.800,00  1.800,00     1.800,00   0,00   \n",
              "32  ADIN   23.9.2024     1.800,00  1.800,00  1.800,00     1.800,00   1,69   \n",
              "33  ADIN   20.9.2024     1.770,00  1.770,00  1.770,00     1.770,00   4,12   \n",
              "34  ADIN   19.9.2024     1.700,00  1.700,00  1.700,00     1.700,00   3,28   \n",
              "35  ADIN   18.9.2024     1.646,00  1.646,00  1.646,00     1.646,00   0,00   \n",
              "36  ADIN   17.9.2024     1.646,00  1.646,00  1.646,00     1.646,00   0,00   \n",
              "37  ADIN   16.9.2024     1.646,00       NaN       NaN     1.646,00   0,00   \n",
              "38  ADIN   13.9.2024     1.646,00  1.646,00  1.646,00     1.646,00   2,88   \n",
              "39  ADIN   12.9.2024     1.600,00       NaN       NaN     1.600,00   0,00   \n",
              "40  ADIN   11.9.2024     1.600,00       NaN       NaN     1.600,00   0,00   \n",
              "41  ADIN   10.9.2024     1.600,00       NaN       NaN     1.600,00   0,00   \n",
              "42  ADIN   06.9.2024     1.600,00       NaN       NaN     1.600,00   0,00   \n",
              "43  ADIN   05.9.2024     1.600,00       NaN       NaN     1.600,00   0,00   \n",
              "44  ADIN   04.9.2024     1.600,00       NaN       NaN     1.600,00   0,00   \n",
              "45  ADIN   03.9.2024     1.600,00       NaN       NaN     1.600,00   0,00   \n",
              "46  ADIN   02.9.2024     1.600,00       NaN       NaN     1.600,00   0,00   \n",
              "47  ADIN   30.8.2024     1.600,00       NaN       NaN     1.600,00   0,00   \n",
              "48  ADIN   29.8.2024     1.600,00       NaN       NaN     1.600,00   0,00   \n",
              "49  ADIN   27.8.2024     1.600,00       NaN       NaN     1.600,00   0,00   \n",
              "\n",
              "    Kolicina   Promet   Vkupno  \n",
              "0        0.0        0        0  \n",
              "1        0.0        0        0  \n",
              "2        0.0        0        0  \n",
              "3        0.0        0        0  \n",
              "4        0.0        0        0  \n",
              "5        0.0        0        0  \n",
              "6        0.0        0        0  \n",
              "7        0.0        0        0  \n",
              "8        0.0        0        0  \n",
              "9        0.0        0        0  \n",
              "10       0.0        0        0  \n",
              "11       0.0        0        0  \n",
              "12       0.0        0        0  \n",
              "13     208.0  343.200  343.200  \n",
              "14       2.0    3.400    3.400  \n",
              "15       0.0        0        0  \n",
              "16       0.0        0        0  \n",
              "17       0.0        0        0  \n",
              "18       0.0        0        0  \n",
              "19     200.0  340.000  340.000  \n",
              "20      16.0   28.000   28.000  \n",
              "21       0.0        0        0  \n",
              "22       0.0        0        0  \n",
              "23       0.0        0        0  \n",
              "24       0.0        0        0  \n",
              "25     100.0  180.000  180.000  \n",
              "26       0.0        0        0  \n",
              "27       0.0        0        0  \n",
              "28       0.0        0        0  \n",
              "29       0.0        0        0  \n",
              "30       0.0        0        0  \n",
              "31      16.0   28.800   28.800  \n",
              "32      94.0  169.200  169.200  \n",
              "33     135.0  238.950  238.950  \n",
              "34     200.0  340.000  340.000  \n",
              "35      10.0   16.460   16.460  \n",
              "36     265.0  436.190  436.190  \n",
              "37       0.0        0        0  \n",
              "38     120.0  197.520  197.520  \n",
              "39       0.0        0        0  \n",
              "40       0.0        0        0  \n",
              "41       0.0        0        0  \n",
              "42       0.0        0        0  \n",
              "43       0.0        0        0  \n",
              "44       0.0        0        0  \n",
              "45       0.0        0        0  \n",
              "46       0.0        0        0  \n",
              "47       0.0        0        0  \n",
              "48       0.0        0        0  \n",
              "49       0.0        0        0  "
            ],
            "text/html": [
              "\n",
              "  <div id=\"df-7f6c98b7-a1a2-4dee-8e84-0c9da3ebe198\" class=\"colab-df-container\">\n",
              "    <div>\n",
              "<style scoped>\n",
              "    .dataframe tbody tr th:only-of-type {\n",
              "        vertical-align: middle;\n",
              "    }\n",
              "\n",
              "    .dataframe tbody tr th {\n",
              "        vertical-align: top;\n",
              "    }\n",
              "\n",
              "    .dataframe thead th {\n",
              "        text-align: right;\n",
              "    }\n",
              "</style>\n",
              "<table border=\"1\" class=\"dataframe\">\n",
              "  <thead>\n",
              "    <tr style=\"text-align: right;\">\n",
              "      <th></th>\n",
              "      <th>Name</th>\n",
              "      <th>Date</th>\n",
              "      <th>PoslednaCena</th>\n",
              "      <th>Max</th>\n",
              "      <th>Min</th>\n",
              "      <th>ProsecnaCena</th>\n",
              "      <th>%Prom</th>\n",
              "      <th>Kolicina</th>\n",
              "      <th>Promet</th>\n",
              "      <th>Vkupno</th>\n",
              "    </tr>\n",
              "  </thead>\n",
              "  <tbody>\n",
              "    <tr>\n",
              "      <th>0</th>\n",
              "      <td>ADIN</td>\n",
              "      <td>08.11.2024</td>\n",
              "      <td>1.650,00</td>\n",
              "      <td>NaN</td>\n",
              "      <td>NaN</td>\n",
              "      <td>1.650,00</td>\n",
              "      <td>0,00</td>\n",
              "      <td>0.0</td>\n",
              "      <td>0</td>\n",
              "      <td>0</td>\n",
              "    </tr>\n",
              "    <tr>\n",
              "      <th>1</th>\n",
              "      <td>ADIN</td>\n",
              "      <td>07.11.2024</td>\n",
              "      <td>1.650,00</td>\n",
              "      <td>NaN</td>\n",
              "      <td>NaN</td>\n",
              "      <td>1.650,00</td>\n",
              "      <td>0,00</td>\n",
              "      <td>0.0</td>\n",
              "      <td>0</td>\n",
              "      <td>0</td>\n",
              "    </tr>\n",
              "    <tr>\n",
              "      <th>2</th>\n",
              "      <td>ADIN</td>\n",
              "      <td>06.11.2024</td>\n",
              "      <td>1.650,00</td>\n",
              "      <td>NaN</td>\n",
              "      <td>NaN</td>\n",
              "      <td>1.650,00</td>\n",
              "      <td>0,00</td>\n",
              "      <td>0.0</td>\n",
              "      <td>0</td>\n",
              "      <td>0</td>\n",
              "    </tr>\n",
              "    <tr>\n",
              "      <th>3</th>\n",
              "      <td>ADIN</td>\n",
              "      <td>05.11.2024</td>\n",
              "      <td>1.650,00</td>\n",
              "      <td>NaN</td>\n",
              "      <td>NaN</td>\n",
              "      <td>1.650,00</td>\n",
              "      <td>0,00</td>\n",
              "      <td>0.0</td>\n",
              "      <td>0</td>\n",
              "      <td>0</td>\n",
              "    </tr>\n",
              "    <tr>\n",
              "      <th>4</th>\n",
              "      <td>ADIN</td>\n",
              "      <td>04.11.2024</td>\n",
              "      <td>1.650,00</td>\n",
              "      <td>NaN</td>\n",
              "      <td>NaN</td>\n",
              "      <td>1.650,00</td>\n",
              "      <td>0,00</td>\n",
              "      <td>0.0</td>\n",
              "      <td>0</td>\n",
              "      <td>0</td>\n",
              "    </tr>\n",
              "    <tr>\n",
              "      <th>5</th>\n",
              "      <td>ADIN</td>\n",
              "      <td>01.11.2024</td>\n",
              "      <td>1.650,00</td>\n",
              "      <td>NaN</td>\n",
              "      <td>NaN</td>\n",
              "      <td>1.650,00</td>\n",
              "      <td>0,00</td>\n",
              "      <td>0.0</td>\n",
              "      <td>0</td>\n",
              "      <td>0</td>\n",
              "    </tr>\n",
              "    <tr>\n",
              "      <th>6</th>\n",
              "      <td>ADIN</td>\n",
              "      <td>31.10.2024</td>\n",
              "      <td>1.650,00</td>\n",
              "      <td>NaN</td>\n",
              "      <td>NaN</td>\n",
              "      <td>1.650,00</td>\n",
              "      <td>0,00</td>\n",
              "      <td>0.0</td>\n",
              "      <td>0</td>\n",
              "      <td>0</td>\n",
              "    </tr>\n",
              "    <tr>\n",
              "      <th>7</th>\n",
              "      <td>ADIN</td>\n",
              "      <td>30.10.2024</td>\n",
              "      <td>1.650,00</td>\n",
              "      <td>NaN</td>\n",
              "      <td>NaN</td>\n",
              "      <td>1.650,00</td>\n",
              "      <td>0,00</td>\n",
              "      <td>0.0</td>\n",
              "      <td>0</td>\n",
              "      <td>0</td>\n",
              "    </tr>\n",
              "    <tr>\n",
              "      <th>8</th>\n",
              "      <td>ADIN</td>\n",
              "      <td>29.10.2024</td>\n",
              "      <td>1.650,00</td>\n",
              "      <td>NaN</td>\n",
              "      <td>NaN</td>\n",
              "      <td>1.650,00</td>\n",
              "      <td>0,00</td>\n",
              "      <td>0.0</td>\n",
              "      <td>0</td>\n",
              "      <td>0</td>\n",
              "    </tr>\n",
              "    <tr>\n",
              "      <th>9</th>\n",
              "      <td>ADIN</td>\n",
              "      <td>28.10.2024</td>\n",
              "      <td>1.650,00</td>\n",
              "      <td>NaN</td>\n",
              "      <td>NaN</td>\n",
              "      <td>1.650,00</td>\n",
              "      <td>0,00</td>\n",
              "      <td>0.0</td>\n",
              "      <td>0</td>\n",
              "      <td>0</td>\n",
              "    </tr>\n",
              "    <tr>\n",
              "      <th>10</th>\n",
              "      <td>ADIN</td>\n",
              "      <td>25.10.2024</td>\n",
              "      <td>1.650,00</td>\n",
              "      <td>NaN</td>\n",
              "      <td>NaN</td>\n",
              "      <td>1.650,00</td>\n",
              "      <td>0,00</td>\n",
              "      <td>0.0</td>\n",
              "      <td>0</td>\n",
              "      <td>0</td>\n",
              "    </tr>\n",
              "    <tr>\n",
              "      <th>11</th>\n",
              "      <td>ADIN</td>\n",
              "      <td>24.10.2024</td>\n",
              "      <td>1.650,00</td>\n",
              "      <td>NaN</td>\n",
              "      <td>NaN</td>\n",
              "      <td>1.650,00</td>\n",
              "      <td>0,00</td>\n",
              "      <td>0.0</td>\n",
              "      <td>0</td>\n",
              "      <td>0</td>\n",
              "    </tr>\n",
              "    <tr>\n",
              "      <th>12</th>\n",
              "      <td>ADIN</td>\n",
              "      <td>22.10.2024</td>\n",
              "      <td>1.650,00</td>\n",
              "      <td>NaN</td>\n",
              "      <td>NaN</td>\n",
              "      <td>1.650,00</td>\n",
              "      <td>0,00</td>\n",
              "      <td>0.0</td>\n",
              "      <td>0</td>\n",
              "      <td>0</td>\n",
              "    </tr>\n",
              "    <tr>\n",
              "      <th>13</th>\n",
              "      <td>ADIN</td>\n",
              "      <td>21.10.2024</td>\n",
              "      <td>1.650,00</td>\n",
              "      <td>1.650,00</td>\n",
              "      <td>1.650,00</td>\n",
              "      <td>1.650,00</td>\n",
              "      <td>-2,94</td>\n",
              "      <td>208.0</td>\n",
              "      <td>343.200</td>\n",
              "      <td>343.200</td>\n",
              "    </tr>\n",
              "    <tr>\n",
              "      <th>14</th>\n",
              "      <td>ADIN</td>\n",
              "      <td>18.10.2024</td>\n",
              "      <td>1.700,00</td>\n",
              "      <td>1.700,00</td>\n",
              "      <td>1.700,00</td>\n",
              "      <td>1.700,00</td>\n",
              "      <td>0,00</td>\n",
              "      <td>2.0</td>\n",
              "      <td>3.400</td>\n",
              "      <td>3.400</td>\n",
              "    </tr>\n",
              "    <tr>\n",
              "      <th>15</th>\n",
              "      <td>ADIN</td>\n",
              "      <td>17.10.2024</td>\n",
              "      <td>1.700,00</td>\n",
              "      <td>NaN</td>\n",
              "      <td>NaN</td>\n",
              "      <td>1.700,00</td>\n",
              "      <td>0,00</td>\n",
              "      <td>0.0</td>\n",
              "      <td>0</td>\n",
              "      <td>0</td>\n",
              "    </tr>\n",
              "    <tr>\n",
              "      <th>16</th>\n",
              "      <td>ADIN</td>\n",
              "      <td>16.10.2024</td>\n",
              "      <td>1.700,00</td>\n",
              "      <td>NaN</td>\n",
              "      <td>NaN</td>\n",
              "      <td>1.700,00</td>\n",
              "      <td>0,00</td>\n",
              "      <td>0.0</td>\n",
              "      <td>0</td>\n",
              "      <td>0</td>\n",
              "    </tr>\n",
              "    <tr>\n",
              "      <th>17</th>\n",
              "      <td>ADIN</td>\n",
              "      <td>15.10.2024</td>\n",
              "      <td>1.700,00</td>\n",
              "      <td>NaN</td>\n",
              "      <td>NaN</td>\n",
              "      <td>1.700,00</td>\n",
              "      <td>0,00</td>\n",
              "      <td>0.0</td>\n",
              "      <td>0</td>\n",
              "      <td>0</td>\n",
              "    </tr>\n",
              "    <tr>\n",
              "      <th>18</th>\n",
              "      <td>ADIN</td>\n",
              "      <td>14.10.2024</td>\n",
              "      <td>1.700,00</td>\n",
              "      <td>NaN</td>\n",
              "      <td>NaN</td>\n",
              "      <td>1.700,00</td>\n",
              "      <td>0,00</td>\n",
              "      <td>0.0</td>\n",
              "      <td>0</td>\n",
              "      <td>0</td>\n",
              "    </tr>\n",
              "    <tr>\n",
              "      <th>19</th>\n",
              "      <td>ADIN</td>\n",
              "      <td>10.10.2024</td>\n",
              "      <td>1.700,00</td>\n",
              "      <td>1.700,00</td>\n",
              "      <td>1.700,00</td>\n",
              "      <td>1.700,00</td>\n",
              "      <td>-2,86</td>\n",
              "      <td>200.0</td>\n",
              "      <td>340.000</td>\n",
              "      <td>340.000</td>\n",
              "    </tr>\n",
              "    <tr>\n",
              "      <th>20</th>\n",
              "      <td>ADIN</td>\n",
              "      <td>09.10.2024</td>\n",
              "      <td>1.750,00</td>\n",
              "      <td>1.750,00</td>\n",
              "      <td>1.750,00</td>\n",
              "      <td>1.750,00</td>\n",
              "      <td>-2,78</td>\n",
              "      <td>16.0</td>\n",
              "      <td>28.000</td>\n",
              "      <td>28.000</td>\n",
              "    </tr>\n",
              "    <tr>\n",
              "      <th>21</th>\n",
              "      <td>ADIN</td>\n",
              "      <td>08.10.2024</td>\n",
              "      <td>1.800,00</td>\n",
              "      <td>NaN</td>\n",
              "      <td>NaN</td>\n",
              "      <td>1.800,00</td>\n",
              "      <td>0,00</td>\n",
              "      <td>0.0</td>\n",
              "      <td>0</td>\n",
              "      <td>0</td>\n",
              "    </tr>\n",
              "    <tr>\n",
              "      <th>22</th>\n",
              "      <td>ADIN</td>\n",
              "      <td>07.10.2024</td>\n",
              "      <td>1.800,00</td>\n",
              "      <td>NaN</td>\n",
              "      <td>NaN</td>\n",
              "      <td>1.800,00</td>\n",
              "      <td>0,00</td>\n",
              "      <td>0.0</td>\n",
              "      <td>0</td>\n",
              "      <td>0</td>\n",
              "    </tr>\n",
              "    <tr>\n",
              "      <th>23</th>\n",
              "      <td>ADIN</td>\n",
              "      <td>04.10.2024</td>\n",
              "      <td>1.800,00</td>\n",
              "      <td>NaN</td>\n",
              "      <td>NaN</td>\n",
              "      <td>1.800,00</td>\n",
              "      <td>0,00</td>\n",
              "      <td>0.0</td>\n",
              "      <td>0</td>\n",
              "      <td>0</td>\n",
              "    </tr>\n",
              "    <tr>\n",
              "      <th>24</th>\n",
              "      <td>ADIN</td>\n",
              "      <td>03.10.2024</td>\n",
              "      <td>1.800,00</td>\n",
              "      <td>NaN</td>\n",
              "      <td>NaN</td>\n",
              "      <td>1.800,00</td>\n",
              "      <td>0,00</td>\n",
              "      <td>0.0</td>\n",
              "      <td>0</td>\n",
              "      <td>0</td>\n",
              "    </tr>\n",
              "    <tr>\n",
              "      <th>25</th>\n",
              "      <td>ADIN</td>\n",
              "      <td>02.10.2024</td>\n",
              "      <td>1.800,00</td>\n",
              "      <td>1.800,00</td>\n",
              "      <td>1.800,00</td>\n",
              "      <td>1.800,00</td>\n",
              "      <td>0,00</td>\n",
              "      <td>100.0</td>\n",
              "      <td>180.000</td>\n",
              "      <td>180.000</td>\n",
              "    </tr>\n",
              "    <tr>\n",
              "      <th>26</th>\n",
              "      <td>ADIN</td>\n",
              "      <td>01.10.2024</td>\n",
              "      <td>1.800,00</td>\n",
              "      <td>NaN</td>\n",
              "      <td>NaN</td>\n",
              "      <td>1.800,00</td>\n",
              "      <td>0,00</td>\n",
              "      <td>0.0</td>\n",
              "      <td>0</td>\n",
              "      <td>0</td>\n",
              "    </tr>\n",
              "    <tr>\n",
              "      <th>27</th>\n",
              "      <td>ADIN</td>\n",
              "      <td>30.9.2024</td>\n",
              "      <td>1.800,00</td>\n",
              "      <td>NaN</td>\n",
              "      <td>NaN</td>\n",
              "      <td>1.800,00</td>\n",
              "      <td>0,00</td>\n",
              "      <td>0.0</td>\n",
              "      <td>0</td>\n",
              "      <td>0</td>\n",
              "    </tr>\n",
              "    <tr>\n",
              "      <th>28</th>\n",
              "      <td>ADIN</td>\n",
              "      <td>27.9.2024</td>\n",
              "      <td>1.800,00</td>\n",
              "      <td>NaN</td>\n",
              "      <td>NaN</td>\n",
              "      <td>1.800,00</td>\n",
              "      <td>0,00</td>\n",
              "      <td>0.0</td>\n",
              "      <td>0</td>\n",
              "      <td>0</td>\n",
              "    </tr>\n",
              "    <tr>\n",
              "      <th>29</th>\n",
              "      <td>ADIN</td>\n",
              "      <td>26.9.2024</td>\n",
              "      <td>1.800,00</td>\n",
              "      <td>NaN</td>\n",
              "      <td>NaN</td>\n",
              "      <td>1.800,00</td>\n",
              "      <td>0,00</td>\n",
              "      <td>0.0</td>\n",
              "      <td>0</td>\n",
              "      <td>0</td>\n",
              "    </tr>\n",
              "    <tr>\n",
              "      <th>30</th>\n",
              "      <td>ADIN</td>\n",
              "      <td>25.9.2024</td>\n",
              "      <td>1.800,00</td>\n",
              "      <td>NaN</td>\n",
              "      <td>NaN</td>\n",
              "      <td>1.800,00</td>\n",
              "      <td>0,00</td>\n",
              "      <td>0.0</td>\n",
              "      <td>0</td>\n",
              "      <td>0</td>\n",
              "    </tr>\n",
              "    <tr>\n",
              "      <th>31</th>\n",
              "      <td>ADIN</td>\n",
              "      <td>24.9.2024</td>\n",
              "      <td>1.800,00</td>\n",
              "      <td>1.800,00</td>\n",
              "      <td>1.800,00</td>\n",
              "      <td>1.800,00</td>\n",
              "      <td>0,00</td>\n",
              "      <td>16.0</td>\n",
              "      <td>28.800</td>\n",
              "      <td>28.800</td>\n",
              "    </tr>\n",
              "    <tr>\n",
              "      <th>32</th>\n",
              "      <td>ADIN</td>\n",
              "      <td>23.9.2024</td>\n",
              "      <td>1.800,00</td>\n",
              "      <td>1.800,00</td>\n",
              "      <td>1.800,00</td>\n",
              "      <td>1.800,00</td>\n",
              "      <td>1,69</td>\n",
              "      <td>94.0</td>\n",
              "      <td>169.200</td>\n",
              "      <td>169.200</td>\n",
              "    </tr>\n",
              "    <tr>\n",
              "      <th>33</th>\n",
              "      <td>ADIN</td>\n",
              "      <td>20.9.2024</td>\n",
              "      <td>1.770,00</td>\n",
              "      <td>1.770,00</td>\n",
              "      <td>1.770,00</td>\n",
              "      <td>1.770,00</td>\n",
              "      <td>4,12</td>\n",
              "      <td>135.0</td>\n",
              "      <td>238.950</td>\n",
              "      <td>238.950</td>\n",
              "    </tr>\n",
              "    <tr>\n",
              "      <th>34</th>\n",
              "      <td>ADIN</td>\n",
              "      <td>19.9.2024</td>\n",
              "      <td>1.700,00</td>\n",
              "      <td>1.700,00</td>\n",
              "      <td>1.700,00</td>\n",
              "      <td>1.700,00</td>\n",
              "      <td>3,28</td>\n",
              "      <td>200.0</td>\n",
              "      <td>340.000</td>\n",
              "      <td>340.000</td>\n",
              "    </tr>\n",
              "    <tr>\n",
              "      <th>35</th>\n",
              "      <td>ADIN</td>\n",
              "      <td>18.9.2024</td>\n",
              "      <td>1.646,00</td>\n",
              "      <td>1.646,00</td>\n",
              "      <td>1.646,00</td>\n",
              "      <td>1.646,00</td>\n",
              "      <td>0,00</td>\n",
              "      <td>10.0</td>\n",
              "      <td>16.460</td>\n",
              "      <td>16.460</td>\n",
              "    </tr>\n",
              "    <tr>\n",
              "      <th>36</th>\n",
              "      <td>ADIN</td>\n",
              "      <td>17.9.2024</td>\n",
              "      <td>1.646,00</td>\n",
              "      <td>1.646,00</td>\n",
              "      <td>1.646,00</td>\n",
              "      <td>1.646,00</td>\n",
              "      <td>0,00</td>\n",
              "      <td>265.0</td>\n",
              "      <td>436.190</td>\n",
              "      <td>436.190</td>\n",
              "    </tr>\n",
              "    <tr>\n",
              "      <th>37</th>\n",
              "      <td>ADIN</td>\n",
              "      <td>16.9.2024</td>\n",
              "      <td>1.646,00</td>\n",
              "      <td>NaN</td>\n",
              "      <td>NaN</td>\n",
              "      <td>1.646,00</td>\n",
              "      <td>0,00</td>\n",
              "      <td>0.0</td>\n",
              "      <td>0</td>\n",
              "      <td>0</td>\n",
              "    </tr>\n",
              "    <tr>\n",
              "      <th>38</th>\n",
              "      <td>ADIN</td>\n",
              "      <td>13.9.2024</td>\n",
              "      <td>1.646,00</td>\n",
              "      <td>1.646,00</td>\n",
              "      <td>1.646,00</td>\n",
              "      <td>1.646,00</td>\n",
              "      <td>2,88</td>\n",
              "      <td>120.0</td>\n",
              "      <td>197.520</td>\n",
              "      <td>197.520</td>\n",
              "    </tr>\n",
              "    <tr>\n",
              "      <th>39</th>\n",
              "      <td>ADIN</td>\n",
              "      <td>12.9.2024</td>\n",
              "      <td>1.600,00</td>\n",
              "      <td>NaN</td>\n",
              "      <td>NaN</td>\n",
              "      <td>1.600,00</td>\n",
              "      <td>0,00</td>\n",
              "      <td>0.0</td>\n",
              "      <td>0</td>\n",
              "      <td>0</td>\n",
              "    </tr>\n",
              "    <tr>\n",
              "      <th>40</th>\n",
              "      <td>ADIN</td>\n",
              "      <td>11.9.2024</td>\n",
              "      <td>1.600,00</td>\n",
              "      <td>NaN</td>\n",
              "      <td>NaN</td>\n",
              "      <td>1.600,00</td>\n",
              "      <td>0,00</td>\n",
              "      <td>0.0</td>\n",
              "      <td>0</td>\n",
              "      <td>0</td>\n",
              "    </tr>\n",
              "    <tr>\n",
              "      <th>41</th>\n",
              "      <td>ADIN</td>\n",
              "      <td>10.9.2024</td>\n",
              "      <td>1.600,00</td>\n",
              "      <td>NaN</td>\n",
              "      <td>NaN</td>\n",
              "      <td>1.600,00</td>\n",
              "      <td>0,00</td>\n",
              "      <td>0.0</td>\n",
              "      <td>0</td>\n",
              "      <td>0</td>\n",
              "    </tr>\n",
              "    <tr>\n",
              "      <th>42</th>\n",
              "      <td>ADIN</td>\n",
              "      <td>06.9.2024</td>\n",
              "      <td>1.600,00</td>\n",
              "      <td>NaN</td>\n",
              "      <td>NaN</td>\n",
              "      <td>1.600,00</td>\n",
              "      <td>0,00</td>\n",
              "      <td>0.0</td>\n",
              "      <td>0</td>\n",
              "      <td>0</td>\n",
              "    </tr>\n",
              "    <tr>\n",
              "      <th>43</th>\n",
              "      <td>ADIN</td>\n",
              "      <td>05.9.2024</td>\n",
              "      <td>1.600,00</td>\n",
              "      <td>NaN</td>\n",
              "      <td>NaN</td>\n",
              "      <td>1.600,00</td>\n",
              "      <td>0,00</td>\n",
              "      <td>0.0</td>\n",
              "      <td>0</td>\n",
              "      <td>0</td>\n",
              "    </tr>\n",
              "    <tr>\n",
              "      <th>44</th>\n",
              "      <td>ADIN</td>\n",
              "      <td>04.9.2024</td>\n",
              "      <td>1.600,00</td>\n",
              "      <td>NaN</td>\n",
              "      <td>NaN</td>\n",
              "      <td>1.600,00</td>\n",
              "      <td>0,00</td>\n",
              "      <td>0.0</td>\n",
              "      <td>0</td>\n",
              "      <td>0</td>\n",
              "    </tr>\n",
              "    <tr>\n",
              "      <th>45</th>\n",
              "      <td>ADIN</td>\n",
              "      <td>03.9.2024</td>\n",
              "      <td>1.600,00</td>\n",
              "      <td>NaN</td>\n",
              "      <td>NaN</td>\n",
              "      <td>1.600,00</td>\n",
              "      <td>0,00</td>\n",
              "      <td>0.0</td>\n",
              "      <td>0</td>\n",
              "      <td>0</td>\n",
              "    </tr>\n",
              "    <tr>\n",
              "      <th>46</th>\n",
              "      <td>ADIN</td>\n",
              "      <td>02.9.2024</td>\n",
              "      <td>1.600,00</td>\n",
              "      <td>NaN</td>\n",
              "      <td>NaN</td>\n",
              "      <td>1.600,00</td>\n",
              "      <td>0,00</td>\n",
              "      <td>0.0</td>\n",
              "      <td>0</td>\n",
              "      <td>0</td>\n",
              "    </tr>\n",
              "    <tr>\n",
              "      <th>47</th>\n",
              "      <td>ADIN</td>\n",
              "      <td>30.8.2024</td>\n",
              "      <td>1.600,00</td>\n",
              "      <td>NaN</td>\n",
              "      <td>NaN</td>\n",
              "      <td>1.600,00</td>\n",
              "      <td>0,00</td>\n",
              "      <td>0.0</td>\n",
              "      <td>0</td>\n",
              "      <td>0</td>\n",
              "    </tr>\n",
              "    <tr>\n",
              "      <th>48</th>\n",
              "      <td>ADIN</td>\n",
              "      <td>29.8.2024</td>\n",
              "      <td>1.600,00</td>\n",
              "      <td>NaN</td>\n",
              "      <td>NaN</td>\n",
              "      <td>1.600,00</td>\n",
              "      <td>0,00</td>\n",
              "      <td>0.0</td>\n",
              "      <td>0</td>\n",
              "      <td>0</td>\n",
              "    </tr>\n",
              "    <tr>\n",
              "      <th>49</th>\n",
              "      <td>ADIN</td>\n",
              "      <td>27.8.2024</td>\n",
              "      <td>1.600,00</td>\n",
              "      <td>NaN</td>\n",
              "      <td>NaN</td>\n",
              "      <td>1.600,00</td>\n",
              "      <td>0,00</td>\n",
              "      <td>0.0</td>\n",
              "      <td>0</td>\n",
              "      <td>0</td>\n",
              "    </tr>\n",
              "  </tbody>\n",
              "</table>\n",
              "</div>\n",
              "    <div class=\"colab-df-buttons\">\n",
              "\n",
              "  <div class=\"colab-df-container\">\n",
              "    <button class=\"colab-df-convert\" onclick=\"convertToInteractive('df-7f6c98b7-a1a2-4dee-8e84-0c9da3ebe198')\"\n",
              "            title=\"Convert this dataframe to an interactive table.\"\n",
              "            style=\"display:none;\">\n",
              "\n",
              "  <svg xmlns=\"http://www.w3.org/2000/svg\" height=\"24px\" viewBox=\"0 -960 960 960\">\n",
              "    <path d=\"M120-120v-720h720v720H120Zm60-500h600v-160H180v160Zm220 220h160v-160H400v160Zm0 220h160v-160H400v160ZM180-400h160v-160H180v160Zm440 0h160v-160H620v160ZM180-180h160v-160H180v160Zm440 0h160v-160H620v160Z\"/>\n",
              "  </svg>\n",
              "    </button>\n",
              "\n",
              "  <style>\n",
              "    .colab-df-container {\n",
              "      display:flex;\n",
              "      gap: 12px;\n",
              "    }\n",
              "\n",
              "    .colab-df-convert {\n",
              "      background-color: #E8F0FE;\n",
              "      border: none;\n",
              "      border-radius: 50%;\n",
              "      cursor: pointer;\n",
              "      display: none;\n",
              "      fill: #1967D2;\n",
              "      height: 32px;\n",
              "      padding: 0 0 0 0;\n",
              "      width: 32px;\n",
              "    }\n",
              "\n",
              "    .colab-df-convert:hover {\n",
              "      background-color: #E2EBFA;\n",
              "      box-shadow: 0px 1px 2px rgba(60, 64, 67, 0.3), 0px 1px 3px 1px rgba(60, 64, 67, 0.15);\n",
              "      fill: #174EA6;\n",
              "    }\n",
              "\n",
              "    .colab-df-buttons div {\n",
              "      margin-bottom: 4px;\n",
              "    }\n",
              "\n",
              "    [theme=dark] .colab-df-convert {\n",
              "      background-color: #3B4455;\n",
              "      fill: #D2E3FC;\n",
              "    }\n",
              "\n",
              "    [theme=dark] .colab-df-convert:hover {\n",
              "      background-color: #434B5C;\n",
              "      box-shadow: 0px 1px 3px 1px rgba(0, 0, 0, 0.15);\n",
              "      filter: drop-shadow(0px 1px 2px rgba(0, 0, 0, 0.3));\n",
              "      fill: #FFFFFF;\n",
              "    }\n",
              "  </style>\n",
              "\n",
              "    <script>\n",
              "      const buttonEl =\n",
              "        document.querySelector('#df-7f6c98b7-a1a2-4dee-8e84-0c9da3ebe198 button.colab-df-convert');\n",
              "      buttonEl.style.display =\n",
              "        google.colab.kernel.accessAllowed ? 'block' : 'none';\n",
              "\n",
              "      async function convertToInteractive(key) {\n",
              "        const element = document.querySelector('#df-7f6c98b7-a1a2-4dee-8e84-0c9da3ebe198');\n",
              "        const dataTable =\n",
              "          await google.colab.kernel.invokeFunction('convertToInteractive',\n",
              "                                                    [key], {});\n",
              "        if (!dataTable) return;\n",
              "\n",
              "        const docLinkHtml = 'Like what you see? Visit the ' +\n",
              "          '<a target=\"_blank\" href=https://colab.research.google.com/notebooks/data_table.ipynb>data table notebook</a>'\n",
              "          + ' to learn more about interactive tables.';\n",
              "        element.innerHTML = '';\n",
              "        dataTable['output_type'] = 'display_data';\n",
              "        await google.colab.output.renderOutput(dataTable, element);\n",
              "        const docLink = document.createElement('div');\n",
              "        docLink.innerHTML = docLinkHtml;\n",
              "        element.appendChild(docLink);\n",
              "      }\n",
              "    </script>\n",
              "  </div>\n",
              "\n",
              "\n",
              "<div id=\"df-e8092365-0c7e-4fe6-899e-73ef69c855a1\">\n",
              "  <button class=\"colab-df-quickchart\" onclick=\"quickchart('df-e8092365-0c7e-4fe6-899e-73ef69c855a1')\"\n",
              "            title=\"Suggest charts\"\n",
              "            style=\"display:none;\">\n",
              "\n",
              "<svg xmlns=\"http://www.w3.org/2000/svg\" height=\"24px\"viewBox=\"0 0 24 24\"\n",
              "     width=\"24px\">\n",
              "    <g>\n",
              "        <path d=\"M19 3H5c-1.1 0-2 .9-2 2v14c0 1.1.9 2 2 2h14c1.1 0 2-.9 2-2V5c0-1.1-.9-2-2-2zM9 17H7v-7h2v7zm4 0h-2V7h2v10zm4 0h-2v-4h2v4z\"/>\n",
              "    </g>\n",
              "</svg>\n",
              "  </button>\n",
              "\n",
              "<style>\n",
              "  .colab-df-quickchart {\n",
              "      --bg-color: #E8F0FE;\n",
              "      --fill-color: #1967D2;\n",
              "      --hover-bg-color: #E2EBFA;\n",
              "      --hover-fill-color: #174EA6;\n",
              "      --disabled-fill-color: #AAA;\n",
              "      --disabled-bg-color: #DDD;\n",
              "  }\n",
              "\n",
              "  [theme=dark] .colab-df-quickchart {\n",
              "      --bg-color: #3B4455;\n",
              "      --fill-color: #D2E3FC;\n",
              "      --hover-bg-color: #434B5C;\n",
              "      --hover-fill-color: #FFFFFF;\n",
              "      --disabled-bg-color: #3B4455;\n",
              "      --disabled-fill-color: #666;\n",
              "  }\n",
              "\n",
              "  .colab-df-quickchart {\n",
              "    background-color: var(--bg-color);\n",
              "    border: none;\n",
              "    border-radius: 50%;\n",
              "    cursor: pointer;\n",
              "    display: none;\n",
              "    fill: var(--fill-color);\n",
              "    height: 32px;\n",
              "    padding: 0;\n",
              "    width: 32px;\n",
              "  }\n",
              "\n",
              "  .colab-df-quickchart:hover {\n",
              "    background-color: var(--hover-bg-color);\n",
              "    box-shadow: 0 1px 2px rgba(60, 64, 67, 0.3), 0 1px 3px 1px rgba(60, 64, 67, 0.15);\n",
              "    fill: var(--button-hover-fill-color);\n",
              "  }\n",
              "\n",
              "  .colab-df-quickchart-complete:disabled,\n",
              "  .colab-df-quickchart-complete:disabled:hover {\n",
              "    background-color: var(--disabled-bg-color);\n",
              "    fill: var(--disabled-fill-color);\n",
              "    box-shadow: none;\n",
              "  }\n",
              "\n",
              "  .colab-df-spinner {\n",
              "    border: 2px solid var(--fill-color);\n",
              "    border-color: transparent;\n",
              "    border-bottom-color: var(--fill-color);\n",
              "    animation:\n",
              "      spin 1s steps(1) infinite;\n",
              "  }\n",
              "\n",
              "  @keyframes spin {\n",
              "    0% {\n",
              "      border-color: transparent;\n",
              "      border-bottom-color: var(--fill-color);\n",
              "      border-left-color: var(--fill-color);\n",
              "    }\n",
              "    20% {\n",
              "      border-color: transparent;\n",
              "      border-left-color: var(--fill-color);\n",
              "      border-top-color: var(--fill-color);\n",
              "    }\n",
              "    30% {\n",
              "      border-color: transparent;\n",
              "      border-left-color: var(--fill-color);\n",
              "      border-top-color: var(--fill-color);\n",
              "      border-right-color: var(--fill-color);\n",
              "    }\n",
              "    40% {\n",
              "      border-color: transparent;\n",
              "      border-right-color: var(--fill-color);\n",
              "      border-top-color: var(--fill-color);\n",
              "    }\n",
              "    60% {\n",
              "      border-color: transparent;\n",
              "      border-right-color: var(--fill-color);\n",
              "    }\n",
              "    80% {\n",
              "      border-color: transparent;\n",
              "      border-right-color: var(--fill-color);\n",
              "      border-bottom-color: var(--fill-color);\n",
              "    }\n",
              "    90% {\n",
              "      border-color: transparent;\n",
              "      border-bottom-color: var(--fill-color);\n",
              "    }\n",
              "  }\n",
              "</style>\n",
              "\n",
              "  <script>\n",
              "    async function quickchart(key) {\n",
              "      const quickchartButtonEl =\n",
              "        document.querySelector('#' + key + ' button');\n",
              "      quickchartButtonEl.disabled = true;  // To prevent multiple clicks.\n",
              "      quickchartButtonEl.classList.add('colab-df-spinner');\n",
              "      try {\n",
              "        const charts = await google.colab.kernel.invokeFunction(\n",
              "            'suggestCharts', [key], {});\n",
              "      } catch (error) {\n",
              "        console.error('Error during call to suggestCharts:', error);\n",
              "      }\n",
              "      quickchartButtonEl.classList.remove('colab-df-spinner');\n",
              "      quickchartButtonEl.classList.add('colab-df-quickchart-complete');\n",
              "    }\n",
              "    (() => {\n",
              "      let quickchartButtonEl =\n",
              "        document.querySelector('#df-e8092365-0c7e-4fe6-899e-73ef69c855a1 button');\n",
              "      quickchartButtonEl.style.display =\n",
              "        google.colab.kernel.accessAllowed ? 'block' : 'none';\n",
              "    })();\n",
              "  </script>\n",
              "</div>\n",
              "    </div>\n",
              "  </div>\n"
            ],
            "application/vnd.google.colaboratory.intrinsic+json": {
              "type": "dataframe",
              "variable_name": "data"
            }
          },
          "metadata": {},
          "execution_count": 8
        }
      ],
      "source": [
        "data.head(50)"
      ]
    },
    {
      "cell_type": "code",
      "execution_count": 9,
      "metadata": {
        "id": "xZcebzwOY7Pp"
      },
      "outputs": [],
      "source": [
        "data_copy = data.copy()"
      ]
    },
    {
      "cell_type": "code",
      "execution_count": 10,
      "metadata": {
        "colab": {
          "base_uri": "https://localhost:8080/",
          "height": 676
        },
        "id": "eofmnqKmaYGJ",
        "outputId": "58232d6c-f7a9-45df-bdf7-d85bfcf9991a"
      },
      "outputs": [
        {
          "output_type": "execute_result",
          "data": {
            "text/plain": [
              "    Name        Date PoslednaCena       Max       Min ProsecnaCena  %Prom  \\\n",
              "0   ADIN  08.11.2024     1.650,00       NaN       NaN     1.650,00   0,00   \n",
              "1   ADIN  07.11.2024     1.650,00       NaN       NaN     1.650,00   0,00   \n",
              "2   ADIN  06.11.2024     1.650,00       NaN       NaN     1.650,00   0,00   \n",
              "3   ADIN  05.11.2024     1.650,00       NaN       NaN     1.650,00   0,00   \n",
              "4   ADIN  04.11.2024     1.650,00       NaN       NaN     1.650,00   0,00   \n",
              "5   ADIN  01.11.2024     1.650,00       NaN       NaN     1.650,00   0,00   \n",
              "6   ADIN  31.10.2024     1.650,00       NaN       NaN     1.650,00   0,00   \n",
              "7   ADIN  30.10.2024     1.650,00       NaN       NaN     1.650,00   0,00   \n",
              "8   ADIN  29.10.2024     1.650,00       NaN       NaN     1.650,00   0,00   \n",
              "9   ADIN  28.10.2024     1.650,00       NaN       NaN     1.650,00   0,00   \n",
              "10  ADIN  25.10.2024     1.650,00       NaN       NaN     1.650,00   0,00   \n",
              "11  ADIN  24.10.2024     1.650,00       NaN       NaN     1.650,00   0,00   \n",
              "12  ADIN  22.10.2024     1.650,00       NaN       NaN     1.650,00   0,00   \n",
              "13  ADIN  21.10.2024     1.650,00  1.650,00  1.650,00     1.650,00  -2,94   \n",
              "14  ADIN  18.10.2024     1.700,00  1.700,00  1.700,00     1.700,00   0,00   \n",
              "15  ADIN  17.10.2024     1.700,00       NaN       NaN     1.700,00   0,00   \n",
              "16  ADIN  16.10.2024     1.700,00       NaN       NaN     1.700,00   0,00   \n",
              "17  ADIN  15.10.2024     1.700,00       NaN       NaN     1.700,00   0,00   \n",
              "18  ADIN  14.10.2024     1.700,00       NaN       NaN     1.700,00   0,00   \n",
              "19  ADIN  10.10.2024     1.700,00  1.700,00  1.700,00     1.700,00  -2,86   \n",
              "\n",
              "    Kolicina   Promet   Vkupno  \n",
              "0        0.0        0        0  \n",
              "1        0.0        0        0  \n",
              "2        0.0        0        0  \n",
              "3        0.0        0        0  \n",
              "4        0.0        0        0  \n",
              "5        0.0        0        0  \n",
              "6        0.0        0        0  \n",
              "7        0.0        0        0  \n",
              "8        0.0        0        0  \n",
              "9        0.0        0        0  \n",
              "10       0.0        0        0  \n",
              "11       0.0        0        0  \n",
              "12       0.0        0        0  \n",
              "13     208.0  343.200  343.200  \n",
              "14       2.0    3.400    3.400  \n",
              "15       0.0        0        0  \n",
              "16       0.0        0        0  \n",
              "17       0.0        0        0  \n",
              "18       0.0        0        0  \n",
              "19     200.0  340.000  340.000  "
            ],
            "text/html": [
              "\n",
              "  <div id=\"df-e6e5bc9a-dd4d-4823-8e8f-a3b29d411a8d\" class=\"colab-df-container\">\n",
              "    <div>\n",
              "<style scoped>\n",
              "    .dataframe tbody tr th:only-of-type {\n",
              "        vertical-align: middle;\n",
              "    }\n",
              "\n",
              "    .dataframe tbody tr th {\n",
              "        vertical-align: top;\n",
              "    }\n",
              "\n",
              "    .dataframe thead th {\n",
              "        text-align: right;\n",
              "    }\n",
              "</style>\n",
              "<table border=\"1\" class=\"dataframe\">\n",
              "  <thead>\n",
              "    <tr style=\"text-align: right;\">\n",
              "      <th></th>\n",
              "      <th>Name</th>\n",
              "      <th>Date</th>\n",
              "      <th>PoslednaCena</th>\n",
              "      <th>Max</th>\n",
              "      <th>Min</th>\n",
              "      <th>ProsecnaCena</th>\n",
              "      <th>%Prom</th>\n",
              "      <th>Kolicina</th>\n",
              "      <th>Promet</th>\n",
              "      <th>Vkupno</th>\n",
              "    </tr>\n",
              "  </thead>\n",
              "  <tbody>\n",
              "    <tr>\n",
              "      <th>0</th>\n",
              "      <td>ADIN</td>\n",
              "      <td>08.11.2024</td>\n",
              "      <td>1.650,00</td>\n",
              "      <td>NaN</td>\n",
              "      <td>NaN</td>\n",
              "      <td>1.650,00</td>\n",
              "      <td>0,00</td>\n",
              "      <td>0.0</td>\n",
              "      <td>0</td>\n",
              "      <td>0</td>\n",
              "    </tr>\n",
              "    <tr>\n",
              "      <th>1</th>\n",
              "      <td>ADIN</td>\n",
              "      <td>07.11.2024</td>\n",
              "      <td>1.650,00</td>\n",
              "      <td>NaN</td>\n",
              "      <td>NaN</td>\n",
              "      <td>1.650,00</td>\n",
              "      <td>0,00</td>\n",
              "      <td>0.0</td>\n",
              "      <td>0</td>\n",
              "      <td>0</td>\n",
              "    </tr>\n",
              "    <tr>\n",
              "      <th>2</th>\n",
              "      <td>ADIN</td>\n",
              "      <td>06.11.2024</td>\n",
              "      <td>1.650,00</td>\n",
              "      <td>NaN</td>\n",
              "      <td>NaN</td>\n",
              "      <td>1.650,00</td>\n",
              "      <td>0,00</td>\n",
              "      <td>0.0</td>\n",
              "      <td>0</td>\n",
              "      <td>0</td>\n",
              "    </tr>\n",
              "    <tr>\n",
              "      <th>3</th>\n",
              "      <td>ADIN</td>\n",
              "      <td>05.11.2024</td>\n",
              "      <td>1.650,00</td>\n",
              "      <td>NaN</td>\n",
              "      <td>NaN</td>\n",
              "      <td>1.650,00</td>\n",
              "      <td>0,00</td>\n",
              "      <td>0.0</td>\n",
              "      <td>0</td>\n",
              "      <td>0</td>\n",
              "    </tr>\n",
              "    <tr>\n",
              "      <th>4</th>\n",
              "      <td>ADIN</td>\n",
              "      <td>04.11.2024</td>\n",
              "      <td>1.650,00</td>\n",
              "      <td>NaN</td>\n",
              "      <td>NaN</td>\n",
              "      <td>1.650,00</td>\n",
              "      <td>0,00</td>\n",
              "      <td>0.0</td>\n",
              "      <td>0</td>\n",
              "      <td>0</td>\n",
              "    </tr>\n",
              "    <tr>\n",
              "      <th>5</th>\n",
              "      <td>ADIN</td>\n",
              "      <td>01.11.2024</td>\n",
              "      <td>1.650,00</td>\n",
              "      <td>NaN</td>\n",
              "      <td>NaN</td>\n",
              "      <td>1.650,00</td>\n",
              "      <td>0,00</td>\n",
              "      <td>0.0</td>\n",
              "      <td>0</td>\n",
              "      <td>0</td>\n",
              "    </tr>\n",
              "    <tr>\n",
              "      <th>6</th>\n",
              "      <td>ADIN</td>\n",
              "      <td>31.10.2024</td>\n",
              "      <td>1.650,00</td>\n",
              "      <td>NaN</td>\n",
              "      <td>NaN</td>\n",
              "      <td>1.650,00</td>\n",
              "      <td>0,00</td>\n",
              "      <td>0.0</td>\n",
              "      <td>0</td>\n",
              "      <td>0</td>\n",
              "    </tr>\n",
              "    <tr>\n",
              "      <th>7</th>\n",
              "      <td>ADIN</td>\n",
              "      <td>30.10.2024</td>\n",
              "      <td>1.650,00</td>\n",
              "      <td>NaN</td>\n",
              "      <td>NaN</td>\n",
              "      <td>1.650,00</td>\n",
              "      <td>0,00</td>\n",
              "      <td>0.0</td>\n",
              "      <td>0</td>\n",
              "      <td>0</td>\n",
              "    </tr>\n",
              "    <tr>\n",
              "      <th>8</th>\n",
              "      <td>ADIN</td>\n",
              "      <td>29.10.2024</td>\n",
              "      <td>1.650,00</td>\n",
              "      <td>NaN</td>\n",
              "      <td>NaN</td>\n",
              "      <td>1.650,00</td>\n",
              "      <td>0,00</td>\n",
              "      <td>0.0</td>\n",
              "      <td>0</td>\n",
              "      <td>0</td>\n",
              "    </tr>\n",
              "    <tr>\n",
              "      <th>9</th>\n",
              "      <td>ADIN</td>\n",
              "      <td>28.10.2024</td>\n",
              "      <td>1.650,00</td>\n",
              "      <td>NaN</td>\n",
              "      <td>NaN</td>\n",
              "      <td>1.650,00</td>\n",
              "      <td>0,00</td>\n",
              "      <td>0.0</td>\n",
              "      <td>0</td>\n",
              "      <td>0</td>\n",
              "    </tr>\n",
              "    <tr>\n",
              "      <th>10</th>\n",
              "      <td>ADIN</td>\n",
              "      <td>25.10.2024</td>\n",
              "      <td>1.650,00</td>\n",
              "      <td>NaN</td>\n",
              "      <td>NaN</td>\n",
              "      <td>1.650,00</td>\n",
              "      <td>0,00</td>\n",
              "      <td>0.0</td>\n",
              "      <td>0</td>\n",
              "      <td>0</td>\n",
              "    </tr>\n",
              "    <tr>\n",
              "      <th>11</th>\n",
              "      <td>ADIN</td>\n",
              "      <td>24.10.2024</td>\n",
              "      <td>1.650,00</td>\n",
              "      <td>NaN</td>\n",
              "      <td>NaN</td>\n",
              "      <td>1.650,00</td>\n",
              "      <td>0,00</td>\n",
              "      <td>0.0</td>\n",
              "      <td>0</td>\n",
              "      <td>0</td>\n",
              "    </tr>\n",
              "    <tr>\n",
              "      <th>12</th>\n",
              "      <td>ADIN</td>\n",
              "      <td>22.10.2024</td>\n",
              "      <td>1.650,00</td>\n",
              "      <td>NaN</td>\n",
              "      <td>NaN</td>\n",
              "      <td>1.650,00</td>\n",
              "      <td>0,00</td>\n",
              "      <td>0.0</td>\n",
              "      <td>0</td>\n",
              "      <td>0</td>\n",
              "    </tr>\n",
              "    <tr>\n",
              "      <th>13</th>\n",
              "      <td>ADIN</td>\n",
              "      <td>21.10.2024</td>\n",
              "      <td>1.650,00</td>\n",
              "      <td>1.650,00</td>\n",
              "      <td>1.650,00</td>\n",
              "      <td>1.650,00</td>\n",
              "      <td>-2,94</td>\n",
              "      <td>208.0</td>\n",
              "      <td>343.200</td>\n",
              "      <td>343.200</td>\n",
              "    </tr>\n",
              "    <tr>\n",
              "      <th>14</th>\n",
              "      <td>ADIN</td>\n",
              "      <td>18.10.2024</td>\n",
              "      <td>1.700,00</td>\n",
              "      <td>1.700,00</td>\n",
              "      <td>1.700,00</td>\n",
              "      <td>1.700,00</td>\n",
              "      <td>0,00</td>\n",
              "      <td>2.0</td>\n",
              "      <td>3.400</td>\n",
              "      <td>3.400</td>\n",
              "    </tr>\n",
              "    <tr>\n",
              "      <th>15</th>\n",
              "      <td>ADIN</td>\n",
              "      <td>17.10.2024</td>\n",
              "      <td>1.700,00</td>\n",
              "      <td>NaN</td>\n",
              "      <td>NaN</td>\n",
              "      <td>1.700,00</td>\n",
              "      <td>0,00</td>\n",
              "      <td>0.0</td>\n",
              "      <td>0</td>\n",
              "      <td>0</td>\n",
              "    </tr>\n",
              "    <tr>\n",
              "      <th>16</th>\n",
              "      <td>ADIN</td>\n",
              "      <td>16.10.2024</td>\n",
              "      <td>1.700,00</td>\n",
              "      <td>NaN</td>\n",
              "      <td>NaN</td>\n",
              "      <td>1.700,00</td>\n",
              "      <td>0,00</td>\n",
              "      <td>0.0</td>\n",
              "      <td>0</td>\n",
              "      <td>0</td>\n",
              "    </tr>\n",
              "    <tr>\n",
              "      <th>17</th>\n",
              "      <td>ADIN</td>\n",
              "      <td>15.10.2024</td>\n",
              "      <td>1.700,00</td>\n",
              "      <td>NaN</td>\n",
              "      <td>NaN</td>\n",
              "      <td>1.700,00</td>\n",
              "      <td>0,00</td>\n",
              "      <td>0.0</td>\n",
              "      <td>0</td>\n",
              "      <td>0</td>\n",
              "    </tr>\n",
              "    <tr>\n",
              "      <th>18</th>\n",
              "      <td>ADIN</td>\n",
              "      <td>14.10.2024</td>\n",
              "      <td>1.700,00</td>\n",
              "      <td>NaN</td>\n",
              "      <td>NaN</td>\n",
              "      <td>1.700,00</td>\n",
              "      <td>0,00</td>\n",
              "      <td>0.0</td>\n",
              "      <td>0</td>\n",
              "      <td>0</td>\n",
              "    </tr>\n",
              "    <tr>\n",
              "      <th>19</th>\n",
              "      <td>ADIN</td>\n",
              "      <td>10.10.2024</td>\n",
              "      <td>1.700,00</td>\n",
              "      <td>1.700,00</td>\n",
              "      <td>1.700,00</td>\n",
              "      <td>1.700,00</td>\n",
              "      <td>-2,86</td>\n",
              "      <td>200.0</td>\n",
              "      <td>340.000</td>\n",
              "      <td>340.000</td>\n",
              "    </tr>\n",
              "  </tbody>\n",
              "</table>\n",
              "</div>\n",
              "    <div class=\"colab-df-buttons\">\n",
              "\n",
              "  <div class=\"colab-df-container\">\n",
              "    <button class=\"colab-df-convert\" onclick=\"convertToInteractive('df-e6e5bc9a-dd4d-4823-8e8f-a3b29d411a8d')\"\n",
              "            title=\"Convert this dataframe to an interactive table.\"\n",
              "            style=\"display:none;\">\n",
              "\n",
              "  <svg xmlns=\"http://www.w3.org/2000/svg\" height=\"24px\" viewBox=\"0 -960 960 960\">\n",
              "    <path d=\"M120-120v-720h720v720H120Zm60-500h600v-160H180v160Zm220 220h160v-160H400v160Zm0 220h160v-160H400v160ZM180-400h160v-160H180v160Zm440 0h160v-160H620v160ZM180-180h160v-160H180v160Zm440 0h160v-160H620v160Z\"/>\n",
              "  </svg>\n",
              "    </button>\n",
              "\n",
              "  <style>\n",
              "    .colab-df-container {\n",
              "      display:flex;\n",
              "      gap: 12px;\n",
              "    }\n",
              "\n",
              "    .colab-df-convert {\n",
              "      background-color: #E8F0FE;\n",
              "      border: none;\n",
              "      border-radius: 50%;\n",
              "      cursor: pointer;\n",
              "      display: none;\n",
              "      fill: #1967D2;\n",
              "      height: 32px;\n",
              "      padding: 0 0 0 0;\n",
              "      width: 32px;\n",
              "    }\n",
              "\n",
              "    .colab-df-convert:hover {\n",
              "      background-color: #E2EBFA;\n",
              "      box-shadow: 0px 1px 2px rgba(60, 64, 67, 0.3), 0px 1px 3px 1px rgba(60, 64, 67, 0.15);\n",
              "      fill: #174EA6;\n",
              "    }\n",
              "\n",
              "    .colab-df-buttons div {\n",
              "      margin-bottom: 4px;\n",
              "    }\n",
              "\n",
              "    [theme=dark] .colab-df-convert {\n",
              "      background-color: #3B4455;\n",
              "      fill: #D2E3FC;\n",
              "    }\n",
              "\n",
              "    [theme=dark] .colab-df-convert:hover {\n",
              "      background-color: #434B5C;\n",
              "      box-shadow: 0px 1px 3px 1px rgba(0, 0, 0, 0.15);\n",
              "      filter: drop-shadow(0px 1px 2px rgba(0, 0, 0, 0.3));\n",
              "      fill: #FFFFFF;\n",
              "    }\n",
              "  </style>\n",
              "\n",
              "    <script>\n",
              "      const buttonEl =\n",
              "        document.querySelector('#df-e6e5bc9a-dd4d-4823-8e8f-a3b29d411a8d button.colab-df-convert');\n",
              "      buttonEl.style.display =\n",
              "        google.colab.kernel.accessAllowed ? 'block' : 'none';\n",
              "\n",
              "      async function convertToInteractive(key) {\n",
              "        const element = document.querySelector('#df-e6e5bc9a-dd4d-4823-8e8f-a3b29d411a8d');\n",
              "        const dataTable =\n",
              "          await google.colab.kernel.invokeFunction('convertToInteractive',\n",
              "                                                    [key], {});\n",
              "        if (!dataTable) return;\n",
              "\n",
              "        const docLinkHtml = 'Like what you see? Visit the ' +\n",
              "          '<a target=\"_blank\" href=https://colab.research.google.com/notebooks/data_table.ipynb>data table notebook</a>'\n",
              "          + ' to learn more about interactive tables.';\n",
              "        element.innerHTML = '';\n",
              "        dataTable['output_type'] = 'display_data';\n",
              "        await google.colab.output.renderOutput(dataTable, element);\n",
              "        const docLink = document.createElement('div');\n",
              "        docLink.innerHTML = docLinkHtml;\n",
              "        element.appendChild(docLink);\n",
              "      }\n",
              "    </script>\n",
              "  </div>\n",
              "\n",
              "\n",
              "<div id=\"df-9666a3f5-cb94-4630-b0ab-3b7abf80044d\">\n",
              "  <button class=\"colab-df-quickchart\" onclick=\"quickchart('df-9666a3f5-cb94-4630-b0ab-3b7abf80044d')\"\n",
              "            title=\"Suggest charts\"\n",
              "            style=\"display:none;\">\n",
              "\n",
              "<svg xmlns=\"http://www.w3.org/2000/svg\" height=\"24px\"viewBox=\"0 0 24 24\"\n",
              "     width=\"24px\">\n",
              "    <g>\n",
              "        <path d=\"M19 3H5c-1.1 0-2 .9-2 2v14c0 1.1.9 2 2 2h14c1.1 0 2-.9 2-2V5c0-1.1-.9-2-2-2zM9 17H7v-7h2v7zm4 0h-2V7h2v10zm4 0h-2v-4h2v4z\"/>\n",
              "    </g>\n",
              "</svg>\n",
              "  </button>\n",
              "\n",
              "<style>\n",
              "  .colab-df-quickchart {\n",
              "      --bg-color: #E8F0FE;\n",
              "      --fill-color: #1967D2;\n",
              "      --hover-bg-color: #E2EBFA;\n",
              "      --hover-fill-color: #174EA6;\n",
              "      --disabled-fill-color: #AAA;\n",
              "      --disabled-bg-color: #DDD;\n",
              "  }\n",
              "\n",
              "  [theme=dark] .colab-df-quickchart {\n",
              "      --bg-color: #3B4455;\n",
              "      --fill-color: #D2E3FC;\n",
              "      --hover-bg-color: #434B5C;\n",
              "      --hover-fill-color: #FFFFFF;\n",
              "      --disabled-bg-color: #3B4455;\n",
              "      --disabled-fill-color: #666;\n",
              "  }\n",
              "\n",
              "  .colab-df-quickchart {\n",
              "    background-color: var(--bg-color);\n",
              "    border: none;\n",
              "    border-radius: 50%;\n",
              "    cursor: pointer;\n",
              "    display: none;\n",
              "    fill: var(--fill-color);\n",
              "    height: 32px;\n",
              "    padding: 0;\n",
              "    width: 32px;\n",
              "  }\n",
              "\n",
              "  .colab-df-quickchart:hover {\n",
              "    background-color: var(--hover-bg-color);\n",
              "    box-shadow: 0 1px 2px rgba(60, 64, 67, 0.3), 0 1px 3px 1px rgba(60, 64, 67, 0.15);\n",
              "    fill: var(--button-hover-fill-color);\n",
              "  }\n",
              "\n",
              "  .colab-df-quickchart-complete:disabled,\n",
              "  .colab-df-quickchart-complete:disabled:hover {\n",
              "    background-color: var(--disabled-bg-color);\n",
              "    fill: var(--disabled-fill-color);\n",
              "    box-shadow: none;\n",
              "  }\n",
              "\n",
              "  .colab-df-spinner {\n",
              "    border: 2px solid var(--fill-color);\n",
              "    border-color: transparent;\n",
              "    border-bottom-color: var(--fill-color);\n",
              "    animation:\n",
              "      spin 1s steps(1) infinite;\n",
              "  }\n",
              "\n",
              "  @keyframes spin {\n",
              "    0% {\n",
              "      border-color: transparent;\n",
              "      border-bottom-color: var(--fill-color);\n",
              "      border-left-color: var(--fill-color);\n",
              "    }\n",
              "    20% {\n",
              "      border-color: transparent;\n",
              "      border-left-color: var(--fill-color);\n",
              "      border-top-color: var(--fill-color);\n",
              "    }\n",
              "    30% {\n",
              "      border-color: transparent;\n",
              "      border-left-color: var(--fill-color);\n",
              "      border-top-color: var(--fill-color);\n",
              "      border-right-color: var(--fill-color);\n",
              "    }\n",
              "    40% {\n",
              "      border-color: transparent;\n",
              "      border-right-color: var(--fill-color);\n",
              "      border-top-color: var(--fill-color);\n",
              "    }\n",
              "    60% {\n",
              "      border-color: transparent;\n",
              "      border-right-color: var(--fill-color);\n",
              "    }\n",
              "    80% {\n",
              "      border-color: transparent;\n",
              "      border-right-color: var(--fill-color);\n",
              "      border-bottom-color: var(--fill-color);\n",
              "    }\n",
              "    90% {\n",
              "      border-color: transparent;\n",
              "      border-bottom-color: var(--fill-color);\n",
              "    }\n",
              "  }\n",
              "</style>\n",
              "\n",
              "  <script>\n",
              "    async function quickchart(key) {\n",
              "      const quickchartButtonEl =\n",
              "        document.querySelector('#' + key + ' button');\n",
              "      quickchartButtonEl.disabled = true;  // To prevent multiple clicks.\n",
              "      quickchartButtonEl.classList.add('colab-df-spinner');\n",
              "      try {\n",
              "        const charts = await google.colab.kernel.invokeFunction(\n",
              "            'suggestCharts', [key], {});\n",
              "      } catch (error) {\n",
              "        console.error('Error during call to suggestCharts:', error);\n",
              "      }\n",
              "      quickchartButtonEl.classList.remove('colab-df-spinner');\n",
              "      quickchartButtonEl.classList.add('colab-df-quickchart-complete');\n",
              "    }\n",
              "    (() => {\n",
              "      let quickchartButtonEl =\n",
              "        document.querySelector('#df-9666a3f5-cb94-4630-b0ab-3b7abf80044d button');\n",
              "      quickchartButtonEl.style.display =\n",
              "        google.colab.kernel.accessAllowed ? 'block' : 'none';\n",
              "    })();\n",
              "  </script>\n",
              "</div>\n",
              "    </div>\n",
              "  </div>\n"
            ],
            "application/vnd.google.colaboratory.intrinsic+json": {
              "type": "dataframe",
              "variable_name": "data"
            }
          },
          "metadata": {},
          "execution_count": 10
        }
      ],
      "source": [
        "data.head(20)"
      ]
    },
    {
      "cell_type": "code",
      "source": [
        "percent = data.isnull().sum()/len(data)*100"
      ],
      "metadata": {
        "id": "ED6YrSzs4ui9"
      },
      "execution_count": 11,
      "outputs": []
    },
    {
      "cell_type": "code",
      "source": [],
      "metadata": {
        "id": "-8kaWG5S482u"
      },
      "execution_count": 11,
      "outputs": []
    },
    {
      "cell_type": "code",
      "execution_count": 12,
      "metadata": {
        "id": "hetuXMdOaaM6"
      },
      "outputs": [],
      "source": [
        "data['PoslednaCena'] = data['PoslednaCena'].str.replace('.', '', regex=False)\n",
        "data['PoslednaCena'] = data['PoslednaCena'].str.replace(',', '.', regex=False)"
      ]
    },
    {
      "cell_type": "code",
      "execution_count": 13,
      "metadata": {
        "id": "inqvEYfWe6lz"
      },
      "outputs": [],
      "source": [
        "data['Max'] = data['Max'].str.replace('.', '', regex=False)\n",
        "data['Max'] = data['Max'].str.replace(',', '.', regex=False)\n",
        "data['Min'] = data['Min'].str.replace('.', '', regex=False)\n",
        "data['Min'] = data['Min'].str.replace(',', '.', regex=False)\n",
        "data['ProsecnaCena'] = data['ProsecnaCena'].str.replace('.', '', regex=False)  # Отстранува точки\n",
        "data['ProsecnaCena'] = data['ProsecnaCena'].str.replace(',', '.', regex=False)  #"
      ]
    },
    {
      "cell_type": "code",
      "execution_count": 14,
      "metadata": {
        "id": "MDxkFYf0fpAE"
      },
      "outputs": [],
      "source": [
        "data['ProsecnaCena'] = data['ProsecnaCena'].astype(float)"
      ]
    },
    {
      "cell_type": "code",
      "execution_count": 15,
      "metadata": {
        "id": "MnqLXd5Bfo1Z"
      },
      "outputs": [],
      "source": [
        "data['Max'] = data['Max'].astype(float)\n",
        "data['Min'] = data['Min'].astype(float)\n"
      ]
    },
    {
      "cell_type": "code",
      "execution_count": 16,
      "metadata": {
        "id": "gRs2ybIgiHvS"
      },
      "outputs": [],
      "source": [
        "data['Vkupno'] = data['Vkupno'].str.replace('.', '', regex=False)\n",
        "data['Vkupno'] = data['Vkupno'].str.replace(',', '.', regex=False)"
      ]
    },
    {
      "cell_type": "code",
      "execution_count": 17,
      "metadata": {
        "id": "fCkeikN6h0v3"
      },
      "outputs": [],
      "source": [
        "data['Promet'] = data['Promet'].str.replace('.', '', regex=False)\n",
        "data['Promet'] = data['Promet'].str.replace(',', '.', regex=False)"
      ]
    },
    {
      "cell_type": "code",
      "execution_count": 18,
      "metadata": {
        "id": "Rpm7NLMchoPu"
      },
      "outputs": [],
      "source": [
        "data['%Prom'] = data['%Prom'].str.replace('.', '', regex=False)\n",
        "data['%Prom'] = data['%Prom'].str.replace(',', '.', regex=False)"
      ]
    },
    {
      "cell_type": "code",
      "execution_count": 19,
      "metadata": {
        "id": "pKqYPVq2ewSc"
      },
      "outputs": [],
      "source": [
        "data['PoslednaCena'] = data['PoslednaCena'].astype(float)"
      ]
    },
    {
      "cell_type": "code",
      "execution_count": 20,
      "metadata": {
        "colab": {
          "base_uri": "https://localhost:8080/"
        },
        "id": "jym4-9YLiPUr",
        "outputId": "6dbf4e1c-9081-4ec2-bcbd-d1bb0d13a025"
      },
      "outputs": [
        {
          "output_type": "stream",
          "name": "stdout",
          "text": [
            "<class 'pandas.core.frame.DataFrame'>\n",
            "RangeIndex: 322111 entries, 0 to 322110\n",
            "Data columns (total 10 columns):\n",
            " #   Column        Non-Null Count   Dtype  \n",
            "---  ------        --------------   -----  \n",
            " 0   Name          322111 non-null  object \n",
            " 1   Date          322111 non-null  object \n",
            " 2   PoslednaCena  314762 non-null  float64\n",
            " 3   Max           28365 non-null   float64\n",
            " 4   Min           28365 non-null   float64\n",
            " 5   ProsecnaCena  314762 non-null  float64\n",
            " 6   %Prom         314748 non-null  object \n",
            " 7   Kolicina      322111 non-null  float64\n",
            " 8   Promet        322111 non-null  object \n",
            " 9   Vkupno        322111 non-null  object \n",
            "dtypes: float64(5), object(5)\n",
            "memory usage: 24.6+ MB\n"
          ]
        }
      ],
      "source": [
        "\n",
        "data.info()"
      ]
    },
    {
      "cell_type": "code",
      "execution_count": 21,
      "metadata": {
        "id": "D1xTgbjYg1PT"
      },
      "outputs": [],
      "source": [
        "data['%Prom'] = data['%Prom'].astype(float)\n",
        "data['Kolicina'] = data['Kolicina'].astype(float)\n",
        "data['Promet'] = data['Promet'].astype(float)\n",
        "data['Vkupno'] = data['Vkupno'].astype(float)"
      ]
    },
    {
      "cell_type": "code",
      "source": [
        "data['Max'] = data['Max'].fillna(data['PoslednaCena'])\n",
        "data['Min'] = data['Min'].fillna(data['PoslednaCena'])"
      ],
      "metadata": {
        "id": "TOuQqleb9FPf"
      },
      "execution_count": 22,
      "outputs": []
    },
    {
      "cell_type": "code",
      "source": [
        "data.dropna(subset='PoslednaCena', inplace=True)"
      ],
      "metadata": {
        "id": "XUU4i9GG9FbT"
      },
      "execution_count": 23,
      "outputs": []
    },
    {
      "cell_type": "code",
      "source": [
        "data.isnull().sum()"
      ],
      "metadata": {
        "colab": {
          "base_uri": "https://localhost:8080/",
          "height": 397
        },
        "id": "TlVz5oJU-Et7",
        "outputId": "1864f89c-be7e-4a82-afdf-6d7a17888983"
      },
      "execution_count": 24,
      "outputs": [
        {
          "output_type": "execute_result",
          "data": {
            "text/plain": [
              "Name             0\n",
              "Date             0\n",
              "PoslednaCena     0\n",
              "Max              0\n",
              "Min              0\n",
              "ProsecnaCena     0\n",
              "%Prom           14\n",
              "Kolicina         0\n",
              "Promet           0\n",
              "Vkupno           0\n",
              "dtype: int64"
            ],
            "text/html": [
              "<div>\n",
              "<style scoped>\n",
              "    .dataframe tbody tr th:only-of-type {\n",
              "        vertical-align: middle;\n",
              "    }\n",
              "\n",
              "    .dataframe tbody tr th {\n",
              "        vertical-align: top;\n",
              "    }\n",
              "\n",
              "    .dataframe thead th {\n",
              "        text-align: right;\n",
              "    }\n",
              "</style>\n",
              "<table border=\"1\" class=\"dataframe\">\n",
              "  <thead>\n",
              "    <tr style=\"text-align: right;\">\n",
              "      <th></th>\n",
              "      <th>0</th>\n",
              "    </tr>\n",
              "  </thead>\n",
              "  <tbody>\n",
              "    <tr>\n",
              "      <th>Name</th>\n",
              "      <td>0</td>\n",
              "    </tr>\n",
              "    <tr>\n",
              "      <th>Date</th>\n",
              "      <td>0</td>\n",
              "    </tr>\n",
              "    <tr>\n",
              "      <th>PoslednaCena</th>\n",
              "      <td>0</td>\n",
              "    </tr>\n",
              "    <tr>\n",
              "      <th>Max</th>\n",
              "      <td>0</td>\n",
              "    </tr>\n",
              "    <tr>\n",
              "      <th>Min</th>\n",
              "      <td>0</td>\n",
              "    </tr>\n",
              "    <tr>\n",
              "      <th>ProsecnaCena</th>\n",
              "      <td>0</td>\n",
              "    </tr>\n",
              "    <tr>\n",
              "      <th>%Prom</th>\n",
              "      <td>14</td>\n",
              "    </tr>\n",
              "    <tr>\n",
              "      <th>Kolicina</th>\n",
              "      <td>0</td>\n",
              "    </tr>\n",
              "    <tr>\n",
              "      <th>Promet</th>\n",
              "      <td>0</td>\n",
              "    </tr>\n",
              "    <tr>\n",
              "      <th>Vkupno</th>\n",
              "      <td>0</td>\n",
              "    </tr>\n",
              "  </tbody>\n",
              "</table>\n",
              "</div><br><label><b>dtype:</b> int64</label>"
            ]
          },
          "metadata": {},
          "execution_count": 24
        }
      ]
    },
    {
      "cell_type": "code",
      "execution_count": 25,
      "metadata": {
        "id": "Zs2YZieoacHf"
      },
      "outputs": [],
      "source": [
        "Names_companies = data.Name.unique()"
      ]
    },
    {
      "cell_type": "code",
      "execution_count": 26,
      "metadata": {
        "id": "CJterKGhc1mE"
      },
      "outputs": [],
      "source": [
        "df = data.groupby('Name')"
      ]
    },
    {
      "cell_type": "code",
      "execution_count": 27,
      "metadata": {
        "colab": {
          "base_uri": "https://localhost:8080/",
          "height": 186
        },
        "id": "iQMNOZItchNC",
        "outputId": "c087a9d3-72e6-4220-977f-cab70a2f8558"
      },
      "outputs": [
        {
          "output_type": "execute_result",
          "data": {
            "text/plain": [
              "<bound method GroupBy.first of <pandas.core.groupby.generic.DataFrameGroupBy object at 0x7e7d1a9a37c0>>"
            ],
            "text/html": [
              "<div style=\"max-width:800px; border: 1px solid var(--colab-border-color);\"><style>\n",
              "      pre.function-repr-contents {\n",
              "        overflow-x: auto;\n",
              "        padding: 8px 12px;\n",
              "        max-height: 500px;\n",
              "      }\n",
              "\n",
              "      pre.function-repr-contents.function-repr-contents-collapsed {\n",
              "        cursor: pointer;\n",
              "        max-height: 100px;\n",
              "      }\n",
              "    </style>\n",
              "    <pre style=\"white-space: initial; background:\n",
              "         var(--colab-secondary-surface-color); padding: 8px 12px;\n",
              "         border-bottom: 1px solid var(--colab-border-color);\"><b>pandas.core.groupby.groupby.GroupBy.first</b><br/>def first(numeric_only: bool=False, min_count: int=-1, skipna: bool=True) -&gt; NDFrameT</pre><pre class=\"function-repr-contents function-repr-contents-collapsed\" style=\"\"><a class=\"filepath\" style=\"display:none\" href=\"#\">/usr/local/lib/python3.10/dist-packages/pandas/core/groupby/groupby.py</a>Compute the first entry of each column within each group.\n",
              "\n",
              "Defaults to skipping NA elements.\n",
              "\n",
              "Parameters\n",
              "----------\n",
              "numeric_only : bool, default False\n",
              "    Include only float, int, boolean columns.\n",
              "min_count : int, default -1\n",
              "    The required number of valid values to perform the operation. If fewer\n",
              "    than ``min_count`` valid values are present the result will be NA.\n",
              "skipna : bool, default True\n",
              "    Exclude NA/null values. If an entire row/column is NA, the result\n",
              "    will be NA.\n",
              "\n",
              "    .. versionadded:: 2.2.1\n",
              "\n",
              "Returns\n",
              "-------\n",
              "Series or DataFrame\n",
              "    First values within each group.\n",
              "\n",
              "See Also\n",
              "--------\n",
              "DataFrame.groupby : Apply a function groupby to each row or column of a\n",
              "    DataFrame.\n",
              "pandas.core.groupby.DataFrameGroupBy.last : Compute the last non-null entry\n",
              "    of each column.\n",
              "pandas.core.groupby.DataFrameGroupBy.nth : Take the nth row from each group.\n",
              "\n",
              "Examples\n",
              "--------\n",
              "&gt;&gt;&gt; df = pd.DataFrame(dict(A=[1, 1, 3], B=[None, 5, 6], C=[1, 2, 3],\n",
              "...                        D=[&#x27;3/11/2000&#x27;, &#x27;3/12/2000&#x27;, &#x27;3/13/2000&#x27;]))\n",
              "&gt;&gt;&gt; df[&#x27;D&#x27;] = pd.to_datetime(df[&#x27;D&#x27;])\n",
              "&gt;&gt;&gt; df.groupby(&quot;A&quot;).first()\n",
              "     B  C          D\n",
              "A\n",
              "1  5.0  1 2000-03-11\n",
              "3  6.0  3 2000-03-13\n",
              "&gt;&gt;&gt; df.groupby(&quot;A&quot;).first(min_count=2)\n",
              "    B    C          D\n",
              "A\n",
              "1 NaN  1.0 2000-03-11\n",
              "3 NaN  NaN        NaT\n",
              "&gt;&gt;&gt; df.groupby(&quot;A&quot;).first(numeric_only=True)\n",
              "     B  C\n",
              "A\n",
              "1  5.0  1\n",
              "3  6.0  3</pre>\n",
              "      <script>\n",
              "      if (google.colab.kernel.accessAllowed && google.colab.files && google.colab.files.view) {\n",
              "        for (const element of document.querySelectorAll('.filepath')) {\n",
              "          element.style.display = 'block'\n",
              "          element.onclick = (event) => {\n",
              "            event.preventDefault();\n",
              "            event.stopPropagation();\n",
              "            google.colab.files.view(element.textContent, 3337);\n",
              "          };\n",
              "        }\n",
              "      }\n",
              "      for (const element of document.querySelectorAll('.function-repr-contents')) {\n",
              "        element.onclick = (event) => {\n",
              "          event.preventDefault();\n",
              "          event.stopPropagation();\n",
              "          element.classList.toggle('function-repr-contents-collapsed');\n",
              "        };\n",
              "      }\n",
              "      </script>\n",
              "      </div>"
            ]
          },
          "metadata": {},
          "execution_count": 27
        }
      ],
      "source": [
        "df.first"
      ]
    },
    {
      "cell_type": "code",
      "execution_count": 28,
      "metadata": {
        "id": "gTpJy-EPpi1z"
      },
      "outputs": [],
      "source": [
        "\n",
        "output_directory = \"kompanii/\"\n",
        "os.makedirs(output_directory, exist_ok=True)\n",
        "\n",
        "for company, group in df:\n",
        "    output_path = f\"{output_directory}{company}.csv\"\n",
        "    group.to_csv(output_path, index=False)"
      ]
    },
    {
      "cell_type": "code",
      "execution_count": 42,
      "metadata": {
        "colab": {
          "base_uri": "https://localhost:8080/"
        },
        "id": "MO6WU86fCAV3",
        "outputId": "1e22b8a4-3c54-486c-d27f-c977ff8cec41"
      },
      "outputs": [
        {
          "output_type": "stream",
          "name": "stdout",
          "text": [
            "Техничката анализа е завршена за компанијата SSPR. Резултатите се зачувани во kompanii-tehnicka-analiza/SSPR_tehnicka_analiza.csv.\n",
            "Техничката анализа е завршена за компанијата KOMU. Резултатите се зачувани во kompanii-tehnicka-analiza/KOMU_tehnicka_analiza.csv.\n",
            "Техничката анализа е завршена за компанијата LOTO. Резултатите се зачувани во kompanii-tehnicka-analiza/LOTO_tehnicka_analiza.csv.\n",
            "Техничката анализа е завршена за компанијата KARO. Резултатите се зачувани во kompanii-tehnicka-analiza/KARO_tehnicka_analiza.csv.\n",
            "Техничката анализа е завршена за компанијата OSPO. Резултатите се зачувани во kompanii-tehnicka-analiza/OSPO_tehnicka_analiza.csv.\n",
            "Техничката анализа е завршена за компанијата KONZ. Резултатите се зачувани во kompanii-tehnicka-analiza/KONZ_tehnicka_analiza.csv.\n",
            "Техничката анализа е завршена за компанијата EUHA. Резултатите се зачувани во kompanii-tehnicka-analiza/EUHA_tehnicka_analiza.csv.\n",
            "Техничката анализа е завршена за компанијата TKPR. Резултатите се зачувани во kompanii-tehnicka-analiza/TKPR_tehnicka_analiza.csv.\n",
            "Техничката анализа е завршена за компанијата KLST. Резултатите се зачувани во kompanii-tehnicka-analiza/KLST_tehnicka_analiza.csv.\n",
            "Техничката анализа е завршена за компанијата GECK. Резултатите се зачувани во kompanii-tehnicka-analiza/GECK_tehnicka_analiza.csv.\n",
            "Техничката анализа е завршена за компанијата SBT. Резултатите се зачувани во kompanii-tehnicka-analiza/SBT_tehnicka_analiza.csv.\n",
            "Техничката анализа е завршена за компанијата DEBA. Резултатите се зачувани во kompanii-tehnicka-analiza/DEBA_tehnicka_analiza.csv.\n",
            "Техничката анализа е завршена за компанијата TSMP. Резултатите се зачувани во kompanii-tehnicka-analiza/TSMP_tehnicka_analiza.csv.\n",
            "Техничката анализа е завршена за компанијата CKB. Резултатите се зачувани во kompanii-tehnicka-analiza/CKB_tehnicka_analiza.csv.\n",
            "Техничката анализа е завршена за компанијата TEHN. Резултатите се зачувани во kompanii-tehnicka-analiza/TEHN_tehnicka_analiza.csv.\n",
            "Техничката анализа е завршена за компанијата TNB. Резултатите се зачувани во kompanii-tehnicka-analiza/TNB_tehnicka_analiza.csv.\n",
            "Техничката анализа е завршена за компанијата KVAS. Резултатите се зачувани во kompanii-tehnicka-analiza/KVAS_tehnicka_analiza.csv.\n",
            "Техничката анализа е завршена за компанијата ATPP. Резултатите се зачувани во kompanii-tehnicka-analiza/ATPP_tehnicka_analiza.csv.\n",
            "Техничката анализа е завршена за компанијата RZIZ. Резултатите се зачувани во kompanii-tehnicka-analiza/RZIZ_tehnicka_analiza.csv.\n",
            "Техничката анализа е завршена за компанијата KJUBI. Резултатите се зачувани во kompanii-tehnicka-analiza/KJUBI_tehnicka_analiza.csv.\n",
            "Техничката анализа е завршена за компанијата STB. Резултатите се зачувани во kompanii-tehnicka-analiza/STB_tehnicka_analiza.csv.\n",
            "Техничката анализа е завршена за компанијата ALK. Резултатите се зачувани во kompanii-tehnicka-analiza/ALK_tehnicka_analiza.csv.\n",
            "Техничката анализа е завршена за компанијата VROS. Резултатите се зачувани во kompanii-tehnicka-analiza/VROS_tehnicka_analiza.csv.\n",
            "Техничката анализа е завршена за компанијата TIKV. Резултатите се зачувани во kompanii-tehnicka-analiza/TIKV_tehnicka_analiza.csv.\n",
            "Техничката анализа е завршена за компанијата NEME. Резултатите се зачувани во kompanii-tehnicka-analiza/NEME_tehnicka_analiza.csv.\n",
            "Техничката анализа е завршена за компанијата RZLV. Резултатите се зачувани во kompanii-tehnicka-analiza/RZLV_tehnicka_analiza.csv.\n",
            "Техничката анализа е завршена за компанијата RZEK. Резултатите се зачувани во kompanii-tehnicka-analiza/RZEK_tehnicka_analiza.csv.\n",
            "Техничката анализа е завршена за компанијата ADIN. Резултатите се зачувани во kompanii-tehnicka-analiza/ADIN_tehnicka_analiza.csv.\n",
            "Техничката анализа е завршена за компанијата GRSN. Резултатите се зачувани во kompanii-tehnicka-analiza/GRSN_tehnicka_analiza.csv.\n",
            "Техничката анализа е завршена за компанијата TRPS. Резултатите се зачувани во kompanii-tehnicka-analiza/TRPS_tehnicka_analiza.csv.\n",
            "Техничката анализа е завршена за компанијата PGGV. Резултатите се зачувани во kompanii-tehnicka-analiza/PGGV_tehnicka_analiza.csv.\n",
            "Техничката анализа е завршена за компанијата GDKM. Резултатите се зачувани во kompanii-tehnicka-analiza/GDKM_tehnicka_analiza.csv.\n",
            "Техничката анализа е завршена за компанијата TTK. Резултатите се зачувани во kompanii-tehnicka-analiza/TTK_tehnicka_analiza.csv.\n",
            "Техничката анализа е завршена за компанијата BANA. Резултатите се зачувани во kompanii-tehnicka-analiza/BANA_tehnicka_analiza.csv.\n",
            "Техничката анализа е завршена за компанијата ZUAS. Резултатите се зачувани во kompanii-tehnicka-analiza/ZUAS_tehnicka_analiza.csv.\n",
            "Техничката анализа е завршена за компанијата SIL. Резултатите се зачувани во kompanii-tehnicka-analiza/SIL_tehnicka_analiza.csv.\n",
            "Техничката анализа е завршена за компанијата TETE. Резултатите се зачувани во kompanii-tehnicka-analiza/TETE_tehnicka_analiza.csv.\n",
            "Техничката анализа е завршена за компанијата OILK. Резултатите се зачувани во kompanii-tehnicka-analiza/OILK_tehnicka_analiza.csv.\n",
            "Техничката анализа е завршена за компанијата RZUS. Резултатите се зачувани во kompanii-tehnicka-analiza/RZUS_tehnicka_analiza.csv.\n",
            "Техничката анализа е завршена за компанијата MKSD. Резултатите се зачувани во kompanii-tehnicka-analiza/MKSD_tehnicka_analiza.csv.\n",
            "Техничката анализа е завршена за компанијата AMEH. Резултатите се зачувани во kompanii-tehnicka-analiza/AMEH_tehnicka_analiza.csv.\n",
            "Техничката анализа е завршена за компанијата TKVS. Резултатите се зачувани во kompanii-tehnicka-analiza/TKVS_tehnicka_analiza.csv.\n",
            "Техничката анализа е завршена за компанијата LOZP. Резултатите се зачувани во kompanii-tehnicka-analiza/LOZP_tehnicka_analiza.csv.\n",
            "Техничката анализа е завршена за компанијата CBNG. Резултатите се зачувани во kompanii-tehnicka-analiza/CBNG_tehnicka_analiza.csv.\n",
            "Техничката анализа е завршена за компанијата KMPR. Резултатите се зачувани во kompanii-tehnicka-analiza/KMPR_tehnicka_analiza.csv.\n",
            "Техничката анализа е завршена за компанијата FAKM. Резултатите се зачувани во kompanii-tehnicka-analiza/FAKM_tehnicka_analiza.csv.\n",
            "Техничката анализа е завршена за компанијата OPTK. Резултатите се зачувани во kompanii-tehnicka-analiza/OPTK_tehnicka_analiza.csv.\n",
            "Техничката анализа е завршена за компанијата TSZS. Резултатите се зачувани во kompanii-tehnicka-analiza/TSZS_tehnicka_analiza.csv.\n",
            "Техничката анализа е завршена за компанијата STBP. Резултатите се зачувани во kompanii-tehnicka-analiza/STBP_tehnicka_analiza.csv.\n",
            "Техничката анализа е завршена за компанијата ZKAR. Резултатите се зачувани во kompanii-tehnicka-analiza/ZKAR_tehnicka_analiza.csv.\n",
            "Техничката анализа е завршена за компанијата MAKP. Резултатите се зачувани во kompanii-tehnicka-analiza/MAKP_tehnicka_analiza.csv.\n",
            "Техничката анализа е завршена за компанијата ALKB. Резултатите се зачувани во kompanii-tehnicka-analiza/ALKB_tehnicka_analiza.csv.\n",
            "Техничката анализа е завршена за компанијата ENER. Резултатите се зачувани во kompanii-tehnicka-analiza/ENER_tehnicka_analiza.csv.\n",
            "Техничката анализа е завршена за компанијата SDOM. Резултатите се зачувани во kompanii-tehnicka-analiza/SDOM_tehnicka_analiza.csv.\n",
            "Компанијата PROT нема доволно податоци (110 редови). Пропуштам.\n",
            "Техничката анализа е завршена за компанијата RZTK. Резултатите се зачувани во kompanii-tehnicka-analiza/RZTK_tehnicka_analiza.csv.\n",
            "Техничката анализа е завршена за компанијата GRZD. Резултатите се зачувани во kompanii-tehnicka-analiza/GRZD_tehnicka_analiza.csv.\n",
            "Техничката анализа е завршена за компанијата RADE. Резултатите се зачувани во kompanii-tehnicka-analiza/RADE_tehnicka_analiza.csv.\n",
            "Техничката анализа е завршена за компанијата IJUG. Резултатите се зачувани во kompanii-tehnicka-analiza/IJUG_tehnicka_analiza.csv.\n",
            "Техничката анализа е завршена за компанијата ZAS. Резултатите се зачувани во kompanii-tehnicka-analiza/ZAS_tehnicka_analiza.csv.\n",
            "Техничката анализа е завршена за компанијата EUMK. Резултатите се зачувани во kompanii-tehnicka-analiza/EUMK_tehnicka_analiza.csv.\n",
            "Техничката анализа е завршена за компанијата INPR. Резултатите се зачувани во kompanii-tehnicka-analiza/INPR_tehnicka_analiza.csv.\n",
            "Техничката анализа е завршена за компанијата CDHV. Резултатите се зачувани во kompanii-tehnicka-analiza/CDHV_tehnicka_analiza.csv.\n",
            "Техничката анализа е завршена за компанијата VARG. Резултатите се зачувани во kompanii-tehnicka-analiza/VARG_tehnicka_analiza.csv.\n",
            "Техничката анализа е завршена за компанијата KDFO. Резултатите се зачувани во kompanii-tehnicka-analiza/KDFO_tehnicka_analiza.csv.\n",
            "Техничката анализа е завршена за компанијата ZPKO. Резултатите се зачувани во kompanii-tehnicka-analiza/ZPKO_tehnicka_analiza.csv.\n",
            "Техничката анализа е завршена за компанијата PKB. Резултатите се зачувани во kompanii-tehnicka-analiza/PKB_tehnicka_analiza.csv.\n",
            "Техничката анализа е завршена за компанијата RZUG. Резултатите се зачувани во kompanii-tehnicka-analiza/RZUG_tehnicka_analiza.csv.\n",
            "Техничката анализа е завршена за компанијата MTUR. Резултатите се зачувани во kompanii-tehnicka-analiza/MTUR_tehnicka_analiza.csv.\n",
            "Техничката анализа е завршена за компанијата MPT. Резултатите се зачувани во kompanii-tehnicka-analiza/MPT_tehnicka_analiza.csv.\n",
            "Техничката анализа е завршена за компанијата KKST. Резултатите се зачувани во kompanii-tehnicka-analiza/KKST_tehnicka_analiza.csv.\n",
            "Техничката анализа е завршена за компанијата SLAV. Резултатите се зачувани во kompanii-tehnicka-analiza/SLAV_tehnicka_analiza.csv.\n",
            "Техничката анализа е завршена за компанијата FERS. Резултатите се зачувани во kompanii-tehnicka-analiza/FERS_tehnicka_analiza.csv.\n",
            "Техничката анализа е завршена за компанијата USJE. Резултатите се зачувани во kompanii-tehnicka-analiza/USJE_tehnicka_analiza.csv.\n",
            "Техничката анализа е завршена за компанијата BLTU. Резултатите се зачувани во kompanii-tehnicka-analiza/BLTU_tehnicka_analiza.csv.\n",
            "Техничката анализа е завршена за компанијата FROT. Резултатите се зачувани во kompanii-tehnicka-analiza/FROT_tehnicka_analiza.csv.\n",
            "Техничката анализа е завршена за компанијата ORAN. Резултатите се зачувани во kompanii-tehnicka-analiza/ORAN_tehnicka_analiza.csv.\n",
            "Техничката анализа е завршена за компанијата FUBT. Резултатите се зачувани во kompanii-tehnicka-analiza/FUBT_tehnicka_analiza.csv.\n",
            "Техничката анализа е завршена за компанијата TEL. Резултатите се зачувани во kompanii-tehnicka-analiza/TEL_tehnicka_analiza.csv.\n",
            "Техничката анализа е завршена за компанијата RIMI. Резултатите се зачувани во kompanii-tehnicka-analiza/RIMI_tehnicka_analiza.csv.\n",
            "Техничката анализа е завршена за компанијата BIM. Резултатите се зачувани во kompanii-tehnicka-analiza/BIM_tehnicka_analiza.csv.\n",
            "Техничката анализа е завршена за компанијата MPOL. Резултатите се зачувани во kompanii-tehnicka-analiza/MPOL_tehnicka_analiza.csv.\n",
            "Техничката анализа е завршена за компанијата PELK. Резултатите се зачувани во kompanii-tehnicka-analiza/PELK_tehnicka_analiza.csv.\n",
            "Техничката анализа е завршена за компанијата RZLE. Резултатите се зачувани во kompanii-tehnicka-analiza/RZLE_tehnicka_analiza.csv.\n",
            "Техничката анализа е завршена за компанијата AUMK. Резултатите се зачувани во kompanii-tehnicka-analiza/AUMK_tehnicka_analiza.csv.\n",
            "Техничката анализа е завршена за компанијата APTK. Резултатите се зачувани во kompanii-tehnicka-analiza/APTK_tehnicka_analiza.csv.\n",
            "Техничката анализа е завршена за компанијата TEAL. Резултатите се зачувани во kompanii-tehnicka-analiza/TEAL_tehnicka_analiza.csv.\n",
            "Техничката анализа е завршена за компанијата SKP. Резултатите се зачувани во kompanii-tehnicka-analiza/SKP_tehnicka_analiza.csv.\n",
            "Техничката анализа е завршена за компанијата BIKF. Резултатите се зачувани во kompanii-tehnicka-analiza/BIKF_tehnicka_analiza.csv.\n",
            "Техничката анализа е завршена за компанијата MPTE. Резултатите се зачувани во kompanii-tehnicka-analiza/MPTE_tehnicka_analiza.csv.\n",
            "Техничката анализа е завршена за компанијата OKTA. Резултатите се зачувани во kompanii-tehnicka-analiza/OKTA_tehnicka_analiza.csv.\n",
            "Техничката анализа е завршена за компанијата OMOS. Резултатите се зачувани во kompanii-tehnicka-analiza/OMOS_tehnicka_analiza.csv.\n",
            "Техничката анализа е завршена за компанијата GECT. Резултатите се зачувани во kompanii-tehnicka-analiza/GECT_tehnicka_analiza.csv.\n",
            "Техничката анализа е завршена за компанијата REPL. Резултатите се зачувани во kompanii-tehnicka-analiza/REPL_tehnicka_analiza.csv.\n",
            "Техничката анализа е завршена за компанијата SPAZP. Резултатите се зачувани во kompanii-tehnicka-analiza/SPAZP_tehnicka_analiza.csv.\n",
            "Техничката анализа е завршена за компанијата ZIMS. Резултатите се зачувани во kompanii-tehnicka-analiza/ZIMS_tehnicka_analiza.csv.\n",
            "Техничката анализа е завршена за компанијата SKON. Резултатите се зачувани во kompanii-tehnicka-analiza/SKON_tehnicka_analiza.csv.\n",
            "Техничката анализа е завршена за компанијата GRNT. Резултатите се зачувани во kompanii-tehnicka-analiza/GRNT_tehnicka_analiza.csv.\n",
            "Техничката анализа е завршена за компанијата EVRO. Резултатите се зачувани во kompanii-tehnicka-analiza/EVRO_tehnicka_analiza.csv.\n",
            "Техничката анализа е завршена за компанијата BGOR. Резултатите се зачувани во kompanii-tehnicka-analiza/BGOR_tehnicka_analiza.csv.\n",
            "Техничката анализа е завршена за компанијата MERM. Резултатите се зачувани во kompanii-tehnicka-analiza/MERM_tehnicka_analiza.csv.\n",
            "Техничката анализа е завршена за компанијата RINS. Резултатите се зачувани во kompanii-tehnicka-analiza/RINS_tehnicka_analiza.csv.\n",
            "Техничката анализа е завршена за компанијата STIL. Резултатите се зачувани во kompanii-tehnicka-analiza/STIL_tehnicka_analiza.csv.\n",
            "Техничката анализа е завршена за компанијата ELMA. Резултатите се зачувани во kompanii-tehnicka-analiza/ELMA_tehnicka_analiza.csv.\n",
            "Техничката анализа е завршена за компанијата VSC. Резултатите се зачувани во kompanii-tehnicka-analiza/VSC_tehnicka_analiza.csv.\n",
            "Техничката анализа е завршена за компанијата MODA. Резултатите се зачувани во kompanii-tehnicka-analiza/MODA_tehnicka_analiza.csv.\n",
            "Техничката анализа е завршена за компанијата SOLN. Резултатите се зачувани во kompanii-tehnicka-analiza/SOLN_tehnicka_analiza.csv.\n",
            "Техничката анализа е завршена за компанијата MLKR. Резултатите се зачувани во kompanii-tehnicka-analiza/MLKR_tehnicka_analiza.csv.\n",
            "Техничката анализа е завршена за компанијата GALE. Резултатите се зачувани во kompanii-tehnicka-analiza/GALE_tehnicka_analiza.csv.\n",
            "Техничката анализа е завршена за компанијата LHND. Резултатите се зачувани во kompanii-tehnicka-analiza/LHND_tehnicka_analiza.csv.\n",
            "Техничката анализа е завршена за компанијата MB. Резултатите се зачувани во kompanii-tehnicka-analiza/MB_tehnicka_analiza.csv.\n",
            "Техничката анализа е завршена за компанијата MZPU. Резултатите се зачувани во kompanii-tehnicka-analiza/MZPU_tehnicka_analiza.csv.\n",
            "Техничката анализа е завршена за компанијата VTKS. Резултатите се зачувани во kompanii-tehnicka-analiza/VTKS_tehnicka_analiza.csv.\n",
            "Техничката анализа е завршена за компанијата TBKO. Резултатите се зачувани во kompanii-tehnicka-analiza/TBKO_tehnicka_analiza.csv.\n",
            "Техничката анализа е завршена за компанијата MZHE. Резултатите се зачувани во kompanii-tehnicka-analiza/MZHE_tehnicka_analiza.csv.\n",
            "Техничката анализа е завршена за компанијата OTEK. Резултатите се зачувани во kompanii-tehnicka-analiza/OTEK_tehnicka_analiza.csv.\n",
            "Техничката анализа е завршена за компанијата KMB. Резултатите се зачувани во kompanii-tehnicka-analiza/KMB_tehnicka_analiza.csv.\n",
            "Техничката анализа е завршена за компанијата TTKO. Резултатите се зачувани во kompanii-tehnicka-analiza/TTKO_tehnicka_analiza.csv.\n",
            "Техничката анализа е завршена за компанијата JAKO. Резултатите се зачувани во kompanii-tehnicka-analiza/JAKO_tehnicka_analiza.csv.\n",
            "Техничката анализа е завршена за компанијата VITA. Резултатите се зачувани во kompanii-tehnicka-analiza/VITA_tehnicka_analiza.csv.\n",
            "Техничката анализа е завршена за компанијата LAJO. Резултатите се зачувани во kompanii-tehnicka-analiza/LAJO_tehnicka_analiza.csv.\n",
            "Техничката анализа е завршена за компанијата GTRG. Резултатите се зачувани во kompanii-tehnicka-analiza/GTRG_tehnicka_analiza.csv.\n",
            "Техничката анализа е завршена за компанијата PTRS. Резултатите се зачувани во kompanii-tehnicka-analiza/PTRS_tehnicka_analiza.csv.\n",
            "Техничката анализа е завршена за компанијата KULT. Резултатите се зачувани во kompanii-tehnicka-analiza/KULT_tehnicka_analiza.csv.\n",
            "Техничката анализа е завршена за компанијата STOK. Резултатите се зачувани во kompanii-tehnicka-analiza/STOK_tehnicka_analiza.csv.\n",
            "Техничката анализа е завршена за компанијата GIMS. Резултатите се зачувани во kompanii-tehnicka-analiza/GIMS_tehnicka_analiza.csv.\n",
            "Техничката анализа е завршена за компанијата ZILUP. Резултатите се зачувани во kompanii-tehnicka-analiza/ZILUP_tehnicka_analiza.csv.\n",
            "Техничката анализа е завршена за компанијата GRDN. Резултатите се зачувани во kompanii-tehnicka-analiza/GRDN_tehnicka_analiza.csv.\n",
            "Техничката анализа е завршена за компанијата CEVI. Резултатите се зачувани во kompanii-tehnicka-analiza/CEVI_tehnicka_analiza.csv.\n",
            "Техничката анализа е завршена за компанијата KONF. Резултатите се зачувани во kompanii-tehnicka-analiza/KONF_tehnicka_analiza.csv.\n",
            "Техничката анализа е завршена за компанијата DIMI. Резултатите се зачувани во kompanii-tehnicka-analiza/DIMI_tehnicka_analiza.csv.\n",
            "Техничката анализа е завршена за компанијата RZIT. Резултатите се зачувани во kompanii-tehnicka-analiza/RZIT_tehnicka_analiza.csv.\n",
            "Техничката анализа е завршена за компанијата NOSK. Резултатите се зачувани во kompanii-tehnicka-analiza/NOSK_tehnicka_analiza.csv.\n",
            "Техничката анализа е завршена за компанијата INHO. Резултатите се зачувани во kompanii-tehnicka-analiza/INHO_tehnicka_analiza.csv.\n",
            "Техничката анализа е завршена за компанијата PROD. Резултатите се зачувани во kompanii-tehnicka-analiza/PROD_tehnicka_analiza.csv.\n",
            "Техничката анализа е завршена за компанијата CKBKO. Резултатите се зачувани во kompanii-tehnicka-analiza/CKBKO_tehnicka_analiza.csv.\n",
            "Техничката анализа е завршена за компанијата PPIV. Резултатите се зачувани во kompanii-tehnicka-analiza/PPIV_tehnicka_analiza.csv.\n",
            "Техничката анализа е завршена за компанијата ZPOG. Резултатите се зачувани во kompanii-tehnicka-analiza/ZPOG_tehnicka_analiza.csv.\n",
            "Техничката анализа е завршена за компанијата UNI. Резултатите се зачувани во kompanii-tehnicka-analiza/UNI_tehnicka_analiza.csv.\n",
            "Техничката анализа е завршена за компанијата ZILU. Резултатите се зачувани во kompanii-tehnicka-analiza/ZILU_tehnicka_analiza.csv.\n",
            "Техничката анализа е завршена за компанијата INTP. Резултатите се зачувани во kompanii-tehnicka-analiza/INTP_tehnicka_analiza.csv.\n",
            "Техничката анализа е завршена за компанијата INB. Резултатите се зачувани во kompanii-tehnicka-analiza/INB_tehnicka_analiza.csv.\n",
            "Техничката анализа е завршена за компанијата EDST. Резултатите се зачувани во kompanii-tehnicka-analiza/EDST_tehnicka_analiza.csv.\n",
            "Техничката анализа е завршена за компанијата ELNC. Резултатите се зачувани во kompanii-tehnicka-analiza/ELNC_tehnicka_analiza.csv.\n",
            "Техничката анализа е завршена за компанијата MAGP. Резултатите се зачувани во kompanii-tehnicka-analiza/MAGP_tehnicka_analiza.csv.\n",
            "Техничката анализа е завршена за компанијата SNBTO. Резултатите се зачувани во kompanii-tehnicka-analiza/SNBTO_tehnicka_analiza.csv.\n",
            "Техничката анализа е завршена за компанијата SNBT. Резултатите се зачувани во kompanii-tehnicka-analiza/SNBT_tehnicka_analiza.csv.\n",
            "Техничката анализа е завршена за компанијата GTC. Резултатите се зачувани во kompanii-tehnicka-analiza/GTC_tehnicka_analiza.csv.\n",
            "Техничката анализа е завршена за компанијата KPSS. Резултатите се зачувани во kompanii-tehnicka-analiza/KPSS_tehnicka_analiza.csv.\n",
            "Техничката анализа е завршена за компанијата SPAZ. Резултатите се зачувани во kompanii-tehnicka-analiza/SPAZ_tehnicka_analiza.csv.\n",
            "Техничката анализа е завршена за компанијата FKTL. Резултатите се зачувани во kompanii-tehnicka-analiza/FKTL_tehnicka_analiza.csv.\n",
            "Техничката анализа е завршена за компанијата MAKS. Резултатите се зачувани во kompanii-tehnicka-analiza/MAKS_tehnicka_analiza.csv.\n",
            "Техничката анализа е завршена за компанијата KORZ. Резултатите се зачувани во kompanii-tehnicka-analiza/KORZ_tehnicka_analiza.csv.\n",
            "Техничката анализа е завршена за компанијата OPFO. Резултатите се зачувани во kompanii-tehnicka-analiza/OPFO_tehnicka_analiza.csv.\n",
            "Техничката анализа е завршена за компанијата TAJM. Резултатите се зачувани во kompanii-tehnicka-analiza/TAJM_tehnicka_analiza.csv.\n",
            "Техничката анализа е завршена за компанијата TRUB. Резултатите се зачувани во kompanii-tehnicka-analiza/TRUB_tehnicka_analiza.csv.\n",
            "Техничката анализа е завршена за компанијата JUSK. Резултатите се зачувани во kompanii-tehnicka-analiza/JUSK_tehnicka_analiza.csv.\n",
            "Техничката анализа е завршена за компанијата POPK. Резултатите се зачувани во kompanii-tehnicka-analiza/POPK_tehnicka_analiza.csv.\n",
            "Техничката анализа е завршена за компанијата INOV. Резултатите се зачувани во kompanii-tehnicka-analiza/INOV_tehnicka_analiza.csv.\n",
            "Обработката е завршена за сите компании.\n"
          ]
        }
      ],
      "source": [
        "companies_folder = 'kompanii/'\n",
        "output_folder = 'kompanii-tehnicka-analiza/'\n",
        "\n",
        "\n",
        "if not os.path.exists(output_folder):\n",
        "    os.makedirs(output_folder)\n",
        "\n",
        "\n",
        "company_files = [f for f in os.listdir(companies_folder) if f.endswith('.csv')]\n",
        "\n",
        "MINIMUM_ROWS = 200\n",
        "\n",
        "\n",
        "def calculate_technical_indicators(data):\n",
        "\n",
        "    data['SMA_20'] = data['PoslednaCena'].rolling(window=20).mean()\n",
        "    data['EMA_20'] = data['PoslednaCena'].ewm(span=20, adjust=False).mean()\n",
        "    data['WMA_20'] = data['PoslednaCena'].rolling(window=20).apply(lambda x: np.dot(x, np.arange(1, 21)) / np.sum(np.arange(1, 21)), raw=True)\n",
        "    data['HMA_20'] = 2 * data['PoslednaCena'].rolling(window=10).mean() - data['PoslednaCena'].rolling(window=20).mean()\n",
        "    data['TMA_20'] = data['PoslednaCena'].rolling(window=20).mean().rolling(window=20).mean()\n",
        "\n",
        "    data['RSI'] = ta.momentum.RSIIndicator(data['PoslednaCena']).rsi()\n",
        "    data['MACD'] = ta.trend.MACD(data['PoslednaCena']).macd()\n",
        "    data['CCI'] = ta.trend.CCIIndicator(data['Max'], data['Min'], data['PoslednaCena']).cci()\n",
        "    data['ADX'] = ta.trend.ADXIndicator(data['Max'], data['Min'], data['PoslednaCena']).adx()\n",
        "    data['Stoch'] = ta.momentum.StochasticOscillator(data['Max'], data['Min'], data['PoslednaCena']).stoch()\n",
        "\n",
        "    data['Signal'] = 'Hold'\n",
        "    data.loc[data['RSI'] < 30, 'Signal'] = 'Buy'\n",
        "    data.loc[data['RSI'] > 70, 'Signal'] = 'Sell'\n",
        "    data.loc[data['MACD'] > 0, 'Signal'] = 'Buy'\n",
        "    data.loc[data['MACD'] < 0, 'Signal'] = 'Sell'\n",
        "    data.loc[data['SMA_20'] > data['EMA_20'], 'Signal'] = 'Buy'\n",
        "    data.loc[data['SMA_20'] < data['EMA_20'], 'Signal'] = 'Sell'\n",
        "\n",
        "    return data\n",
        "\n",
        "\n",
        "for file in company_files:\n",
        "    company_name = file.split('.')[0]\n",
        "    company_data_path = os.path.join(companies_folder, file)\n",
        "\n",
        "\n",
        "    data_company = pd.read_csv(company_data_path)\n",
        "\n",
        "\n",
        "    columns_to_drop = ['Name', 'ProsecnaCena', '%Prom', 'Kolicina', 'Promet', 'Vkupno']\n",
        "    data_company = data_company.drop(columns=columns_to_drop, errors='ignore')\n",
        "\n",
        "    if len(data_company) < MINIMUM_ROWS:\n",
        "        print(f\"Компанијата {company_name} нема доволно податоци ({len(data_company)} редови). Пропуштам.\")\n",
        "        continue\n",
        "\n",
        "\n",
        "    try:\n",
        "        data_company = calculate_technical_indicators(data_company)\n",
        "    except Exception as e:\n",
        "        print(f\"Грешка при обработката на компанијата {company_name}: {e}\")\n",
        "        continue\n",
        "\n",
        "\n",
        "\n",
        "    output_file = os.path.join(output_folder, f'{company_name}_tehnicka_analiza.csv')\n",
        "    data_company.to_csv(output_file, index=False)\n",
        "    print(f'Техничката анализа е завршена за компанијата {company_name}. Резултатите се зачувани во {output_file}.')\n",
        "\n",
        "print(\"Обработката е завршена за сите компании.\")\n"
      ]
    },
    {
      "cell_type": "code",
      "source": [
        "\n",
        "\n",
        "# Патеки за влезни и излезни директориуми\n",
        "companies_folder = 'kompanii/'\n",
        "indicators_folder = 'kompanii-indikatori/'\n",
        "\n",
        "if not os.path.exists(indicators_folder):\n",
        "    os.makedirs(indicators_folder)\n",
        "\n",
        "company_files = [f for f in os.listdir(companies_folder) if f.endswith('.csv')]\n",
        "\n",
        "MINIMUM_ROWS = 200\n",
        "\n",
        "def calculate_technical_indicators(data):\n",
        "    # Осцилатори и Moving Averages од првиот код\n",
        "    data['SMA_20'] = data['PoslednaCena'].rolling(window=20).mean()\n",
        "    data['EMA_20'] = data['PoslednaCena'].ewm(span=20, adjust=False).mean()\n",
        "    data['WMA_20'] = data['PoslednaCena'].rolling(window=20).apply(lambda x: np.dot(x, np.arange(1, 21)) / np.sum(np.arange(1, 21)), raw=True)\n",
        "    data['HMA_20'] = 2 * data['PoslednaCena'].rolling(window=10).mean() - data['PoslednaCena'].rolling(window=20).mean()\n",
        "    data['TMA_20'] = data['PoslednaCena'].rolling(window=20).mean().rolling(window=20).mean()\n",
        "\n",
        "    data['RSI'] = ta.momentum.RSIIndicator(data['PoslednaCena']).rsi()\n",
        "    data['MACD'] = ta.trend.MACD(data['PoslednaCena']).macd()\n",
        "    data['CCI'] = ta.trend.CCIIndicator(data['Max'], data['Min'], data['PoslednaCena']).cci()\n",
        "    data['ADX'] = ta.trend.ADXIndicator(data['Max'], data['Min'], data['PoslednaCena']).adx()\n",
        "    data['Stoch'] = ta.momentum.StochasticOscillator(data['Max'], data['Min'], data['PoslednaCena']).stoch()\n",
        "\n",
        "    data['Signal'] = 'Hold'\n",
        "    data.loc[data['RSI'] < 30, 'Signal'] = 'Buy'\n",
        "    data.loc[data['RSI'] > 70, 'Signal'] = 'Sell'\n",
        "    data.loc[data['MACD'] > 0, 'Signal'] = 'Buy'\n",
        "    data.loc[data['MACD'] < 0, 'Signal'] = 'Sell'\n",
        "    data.loc[data['SMA_20'] > data['EMA_20'], 'Signal'] = 'Buy'\n",
        "    data.loc[data['SMA_20'] < data['EMA_20'], 'Signal'] = 'Sell'\n",
        "\n",
        "    return data\n",
        "\n",
        "def calculate_indicators_for_timeframes(data):\n",
        "    data['Date'] = pd.to_datetime(data['Date'], format='%d.%m.%Y')\n",
        "\n",
        "    # Ресемплирање на дневни, неделни и месечни податоци\n",
        "    data_daily = data.resample('D', on='Date').last()\n",
        "    data_weekly = data.resample('W-MON', on='Date').last()\n",
        "    data_monthly = data.resample('M', on='Date').last()\n",
        "\n",
        "    data_daily = calculate_technical_indicators(data_daily)\n",
        "    data_weekly = calculate_technical_indicators(data_weekly)\n",
        "    data_monthly = calculate_technical_indicators(data_monthly)\n",
        "\n",
        "    return data_daily, data_weekly, data_monthly\n",
        "\n",
        "for file in company_files:\n",
        "    company_name = file.split('.')[0]\n",
        "    company_data_path = os.path.join(companies_folder, file)\n",
        "\n",
        "    data_company = pd.read_csv(company_data_path)\n",
        "\n",
        "    # Отстранување на непотребни колони\n",
        "    columns_to_drop = ['Name', 'ProsecnaCena', '%Prom', 'Kolicina', 'Promet', 'Vkupno']\n",
        "    data_company = data_company.drop(columns=columns_to_drop, errors='ignore')\n",
        "\n",
        "    if len(data_company) < MINIMUM_ROWS:\n",
        "        print(f\"Компанијата {company_name} нема доволно податоци ({len(data_company)} редови). Пропуштам.\")\n",
        "        continue\n",
        "\n",
        "    try:\n",
        "        data_daily, data_weekly, data_monthly = calculate_indicators_for_timeframes(data_company)\n",
        "\n",
        "        # Додавање на почетни и крајни датуми\n",
        "        data_daily['Start Date'] = data_daily.index.date\n",
        "        data_daily['End Date'] = data_daily.index.date\n",
        "\n",
        "        data_weekly['Start Date'] = data_weekly.index.to_period('W').start_time.date\n",
        "        data_weekly['End Date'] = data_weekly.index.to_period('W').end_time.date\n",
        "\n",
        "        data_monthly['Start Date'] = data_monthly.index.to_period('M').start_time.date\n",
        "        data_monthly['End Date'] = data_monthly.index.to_period('M').end_time.date\n",
        "\n",
        "        # Зачувување на резултатите во CSV фајлови\n",
        "        output_file_daily = os.path.join(indicators_folder, f'{company_name}_daily_indicators.csv')\n",
        "        output_file_weekly = os.path.join(indicators_folder, f'{company_name}_weekly_indicators.csv')\n",
        "        output_file_monthly = os.path.join(indicators_folder, f'{company_name}_monthly_indicators.csv')\n",
        "\n",
        "        data_daily.to_csv(output_file_daily, index=True)\n",
        "        data_weekly.to_csv(output_file_weekly, index=True)\n",
        "        data_monthly.to_csv(output_file_monthly, index=True)\n",
        "\n",
        "        print(f\"Завршено со компанијата {company_name}. Резултатите се зачувани.\")\n",
        "\n",
        "    except Exception as e:\n",
        "        print(f\"Грешка при обработката на компанијата {company_name}: {e}\")\n",
        "\n",
        "print(\"Обработката е завршена за сите компании.\")\n"
      ],
      "metadata": {
        "id": "x54Tnq1cJaOt",
        "colab": {
          "base_uri": "https://localhost:8080/"
        },
        "outputId": "1327553b-34ec-4706-a7c3-7f15f31f44a5"
      },
      "execution_count": 45,
      "outputs": [
        {
          "output_type": "stream",
          "name": "stderr",
          "text": [
            "<ipython-input-45-eefb8ab6fe0d>:42: FutureWarning: 'M' is deprecated and will be removed in a future version, please use 'ME' instead.\n",
            "  data_monthly = data.resample('M', on='Date').last()\n"
          ]
        },
        {
          "output_type": "stream",
          "name": "stdout",
          "text": [
            "Завршено со компанијата SSPR. Резултатите се зачувани.\n"
          ]
        },
        {
          "output_type": "stream",
          "name": "stderr",
          "text": [
            "<ipython-input-45-eefb8ab6fe0d>:42: FutureWarning: 'M' is deprecated and will be removed in a future version, please use 'ME' instead.\n",
            "  data_monthly = data.resample('M', on='Date').last()\n"
          ]
        },
        {
          "output_type": "stream",
          "name": "stdout",
          "text": [
            "Завршено со компанијата KOMU. Резултатите се зачувани.\n"
          ]
        },
        {
          "output_type": "stream",
          "name": "stderr",
          "text": [
            "<ipython-input-45-eefb8ab6fe0d>:42: FutureWarning: 'M' is deprecated and will be removed in a future version, please use 'ME' instead.\n",
            "  data_monthly = data.resample('M', on='Date').last()\n"
          ]
        },
        {
          "output_type": "stream",
          "name": "stdout",
          "text": [
            "Завршено со компанијата LOTO. Резултатите се зачувани.\n"
          ]
        },
        {
          "output_type": "stream",
          "name": "stderr",
          "text": [
            "<ipython-input-45-eefb8ab6fe0d>:42: FutureWarning: 'M' is deprecated and will be removed in a future version, please use 'ME' instead.\n",
            "  data_monthly = data.resample('M', on='Date').last()\n"
          ]
        },
        {
          "output_type": "stream",
          "name": "stdout",
          "text": [
            "Завршено со компанијата KARO. Резултатите се зачувани.\n"
          ]
        },
        {
          "output_type": "stream",
          "name": "stderr",
          "text": [
            "<ipython-input-45-eefb8ab6fe0d>:42: FutureWarning: 'M' is deprecated and will be removed in a future version, please use 'ME' instead.\n",
            "  data_monthly = data.resample('M', on='Date').last()\n"
          ]
        },
        {
          "output_type": "stream",
          "name": "stdout",
          "text": [
            "Завршено со компанијата OSPO. Резултатите се зачувани.\n"
          ]
        },
        {
          "output_type": "stream",
          "name": "stderr",
          "text": [
            "<ipython-input-45-eefb8ab6fe0d>:42: FutureWarning: 'M' is deprecated and will be removed in a future version, please use 'ME' instead.\n",
            "  data_monthly = data.resample('M', on='Date').last()\n"
          ]
        },
        {
          "output_type": "stream",
          "name": "stdout",
          "text": [
            "Завршено со компанијата KONZ. Резултатите се зачувани.\n"
          ]
        },
        {
          "output_type": "stream",
          "name": "stderr",
          "text": [
            "<ipython-input-45-eefb8ab6fe0d>:42: FutureWarning: 'M' is deprecated and will be removed in a future version, please use 'ME' instead.\n",
            "  data_monthly = data.resample('M', on='Date').last()\n"
          ]
        },
        {
          "output_type": "stream",
          "name": "stdout",
          "text": [
            "Завршено со компанијата EUHA. Резултатите се зачувани.\n"
          ]
        },
        {
          "output_type": "stream",
          "name": "stderr",
          "text": [
            "<ipython-input-45-eefb8ab6fe0d>:42: FutureWarning: 'M' is deprecated and will be removed in a future version, please use 'ME' instead.\n",
            "  data_monthly = data.resample('M', on='Date').last()\n"
          ]
        },
        {
          "output_type": "stream",
          "name": "stdout",
          "text": [
            "Завршено со компанијата TKPR. Резултатите се зачувани.\n"
          ]
        },
        {
          "output_type": "stream",
          "name": "stderr",
          "text": [
            "<ipython-input-45-eefb8ab6fe0d>:42: FutureWarning: 'M' is deprecated and will be removed in a future version, please use 'ME' instead.\n",
            "  data_monthly = data.resample('M', on='Date').last()\n"
          ]
        },
        {
          "output_type": "stream",
          "name": "stdout",
          "text": [
            "Завршено со компанијата KLST. Резултатите се зачувани.\n"
          ]
        },
        {
          "output_type": "stream",
          "name": "stderr",
          "text": [
            "<ipython-input-45-eefb8ab6fe0d>:42: FutureWarning: 'M' is deprecated and will be removed in a future version, please use 'ME' instead.\n",
            "  data_monthly = data.resample('M', on='Date').last()\n"
          ]
        },
        {
          "output_type": "stream",
          "name": "stdout",
          "text": [
            "Завршено со компанијата GECK. Резултатите се зачувани.\n"
          ]
        },
        {
          "output_type": "stream",
          "name": "stderr",
          "text": [
            "<ipython-input-45-eefb8ab6fe0d>:42: FutureWarning: 'M' is deprecated and will be removed in a future version, please use 'ME' instead.\n",
            "  data_monthly = data.resample('M', on='Date').last()\n"
          ]
        },
        {
          "output_type": "stream",
          "name": "stdout",
          "text": [
            "Завршено со компанијата SBT. Резултатите се зачувани.\n"
          ]
        },
        {
          "output_type": "stream",
          "name": "stderr",
          "text": [
            "<ipython-input-45-eefb8ab6fe0d>:42: FutureWarning: 'M' is deprecated and will be removed in a future version, please use 'ME' instead.\n",
            "  data_monthly = data.resample('M', on='Date').last()\n"
          ]
        },
        {
          "output_type": "stream",
          "name": "stdout",
          "text": [
            "Завршено со компанијата DEBA. Резултатите се зачувани.\n"
          ]
        },
        {
          "output_type": "stream",
          "name": "stderr",
          "text": [
            "<ipython-input-45-eefb8ab6fe0d>:42: FutureWarning: 'M' is deprecated and will be removed in a future version, please use 'ME' instead.\n",
            "  data_monthly = data.resample('M', on='Date').last()\n"
          ]
        },
        {
          "output_type": "stream",
          "name": "stdout",
          "text": [
            "Завршено со компанијата TSMP. Резултатите се зачувани.\n"
          ]
        },
        {
          "output_type": "stream",
          "name": "stderr",
          "text": [
            "<ipython-input-45-eefb8ab6fe0d>:42: FutureWarning: 'M' is deprecated and will be removed in a future version, please use 'ME' instead.\n",
            "  data_monthly = data.resample('M', on='Date').last()\n"
          ]
        },
        {
          "output_type": "stream",
          "name": "stdout",
          "text": [
            "Завршено со компанијата CKB. Резултатите се зачувани.\n"
          ]
        },
        {
          "output_type": "stream",
          "name": "stderr",
          "text": [
            "<ipython-input-45-eefb8ab6fe0d>:42: FutureWarning: 'M' is deprecated and will be removed in a future version, please use 'ME' instead.\n",
            "  data_monthly = data.resample('M', on='Date').last()\n"
          ]
        },
        {
          "output_type": "stream",
          "name": "stdout",
          "text": [
            "Завршено со компанијата TEHN. Резултатите се зачувани.\n"
          ]
        },
        {
          "output_type": "stream",
          "name": "stderr",
          "text": [
            "<ipython-input-45-eefb8ab6fe0d>:42: FutureWarning: 'M' is deprecated and will be removed in a future version, please use 'ME' instead.\n",
            "  data_monthly = data.resample('M', on='Date').last()\n"
          ]
        },
        {
          "output_type": "stream",
          "name": "stdout",
          "text": [
            "Завршено со компанијата TNB. Резултатите се зачувани.\n"
          ]
        },
        {
          "output_type": "stream",
          "name": "stderr",
          "text": [
            "<ipython-input-45-eefb8ab6fe0d>:42: FutureWarning: 'M' is deprecated and will be removed in a future version, please use 'ME' instead.\n",
            "  data_monthly = data.resample('M', on='Date').last()\n"
          ]
        },
        {
          "output_type": "stream",
          "name": "stdout",
          "text": [
            "Завршено со компанијата KVAS. Резултатите се зачувани.\n"
          ]
        },
        {
          "output_type": "stream",
          "name": "stderr",
          "text": [
            "<ipython-input-45-eefb8ab6fe0d>:42: FutureWarning: 'M' is deprecated and will be removed in a future version, please use 'ME' instead.\n",
            "  data_monthly = data.resample('M', on='Date').last()\n"
          ]
        },
        {
          "output_type": "stream",
          "name": "stdout",
          "text": [
            "Завршено со компанијата ATPP. Резултатите се зачувани.\n"
          ]
        },
        {
          "output_type": "stream",
          "name": "stderr",
          "text": [
            "<ipython-input-45-eefb8ab6fe0d>:42: FutureWarning: 'M' is deprecated and will be removed in a future version, please use 'ME' instead.\n",
            "  data_monthly = data.resample('M', on='Date').last()\n"
          ]
        },
        {
          "output_type": "stream",
          "name": "stdout",
          "text": [
            "Завршено со компанијата RZIZ. Резултатите се зачувани.\n"
          ]
        },
        {
          "output_type": "stream",
          "name": "stderr",
          "text": [
            "<ipython-input-45-eefb8ab6fe0d>:42: FutureWarning: 'M' is deprecated and will be removed in a future version, please use 'ME' instead.\n",
            "  data_monthly = data.resample('M', on='Date').last()\n"
          ]
        },
        {
          "output_type": "stream",
          "name": "stdout",
          "text": [
            "Завршено со компанијата KJUBI. Резултатите се зачувани.\n"
          ]
        },
        {
          "output_type": "stream",
          "name": "stderr",
          "text": [
            "<ipython-input-45-eefb8ab6fe0d>:42: FutureWarning: 'M' is deprecated and will be removed in a future version, please use 'ME' instead.\n",
            "  data_monthly = data.resample('M', on='Date').last()\n"
          ]
        },
        {
          "output_type": "stream",
          "name": "stdout",
          "text": [
            "Завршено со компанијата STB. Резултатите се зачувани.\n"
          ]
        },
        {
          "output_type": "stream",
          "name": "stderr",
          "text": [
            "<ipython-input-45-eefb8ab6fe0d>:42: FutureWarning: 'M' is deprecated and will be removed in a future version, please use 'ME' instead.\n",
            "  data_monthly = data.resample('M', on='Date').last()\n"
          ]
        },
        {
          "output_type": "stream",
          "name": "stdout",
          "text": [
            "Завршено со компанијата ALK. Резултатите се зачувани.\n"
          ]
        },
        {
          "output_type": "stream",
          "name": "stderr",
          "text": [
            "<ipython-input-45-eefb8ab6fe0d>:42: FutureWarning: 'M' is deprecated and will be removed in a future version, please use 'ME' instead.\n",
            "  data_monthly = data.resample('M', on='Date').last()\n"
          ]
        },
        {
          "output_type": "stream",
          "name": "stdout",
          "text": [
            "Завршено со компанијата VROS. Резултатите се зачувани.\n"
          ]
        },
        {
          "output_type": "stream",
          "name": "stderr",
          "text": [
            "<ipython-input-45-eefb8ab6fe0d>:42: FutureWarning: 'M' is deprecated and will be removed in a future version, please use 'ME' instead.\n",
            "  data_monthly = data.resample('M', on='Date').last()\n"
          ]
        },
        {
          "output_type": "stream",
          "name": "stdout",
          "text": [
            "Завршено со компанијата TIKV. Резултатите се зачувани.\n"
          ]
        },
        {
          "output_type": "stream",
          "name": "stderr",
          "text": [
            "<ipython-input-45-eefb8ab6fe0d>:42: FutureWarning: 'M' is deprecated and will be removed in a future version, please use 'ME' instead.\n",
            "  data_monthly = data.resample('M', on='Date').last()\n"
          ]
        },
        {
          "output_type": "stream",
          "name": "stdout",
          "text": [
            "Завршено со компанијата NEME. Резултатите се зачувани.\n"
          ]
        },
        {
          "output_type": "stream",
          "name": "stderr",
          "text": [
            "<ipython-input-45-eefb8ab6fe0d>:42: FutureWarning: 'M' is deprecated and will be removed in a future version, please use 'ME' instead.\n",
            "  data_monthly = data.resample('M', on='Date').last()\n"
          ]
        },
        {
          "output_type": "stream",
          "name": "stdout",
          "text": [
            "Завршено со компанијата RZLV. Резултатите се зачувани.\n"
          ]
        },
        {
          "output_type": "stream",
          "name": "stderr",
          "text": [
            "<ipython-input-45-eefb8ab6fe0d>:42: FutureWarning: 'M' is deprecated and will be removed in a future version, please use 'ME' instead.\n",
            "  data_monthly = data.resample('M', on='Date').last()\n"
          ]
        },
        {
          "output_type": "stream",
          "name": "stdout",
          "text": [
            "Завршено со компанијата RZEK. Резултатите се зачувани.\n"
          ]
        },
        {
          "output_type": "stream",
          "name": "stderr",
          "text": [
            "<ipython-input-45-eefb8ab6fe0d>:42: FutureWarning: 'M' is deprecated and will be removed in a future version, please use 'ME' instead.\n",
            "  data_monthly = data.resample('M', on='Date').last()\n"
          ]
        },
        {
          "output_type": "stream",
          "name": "stdout",
          "text": [
            "Завршено со компанијата ADIN. Резултатите се зачувани.\n"
          ]
        },
        {
          "output_type": "stream",
          "name": "stderr",
          "text": [
            "<ipython-input-45-eefb8ab6fe0d>:42: FutureWarning: 'M' is deprecated and will be removed in a future version, please use 'ME' instead.\n",
            "  data_monthly = data.resample('M', on='Date').last()\n"
          ]
        },
        {
          "output_type": "stream",
          "name": "stdout",
          "text": [
            "Завршено со компанијата GRSN. Резултатите се зачувани.\n"
          ]
        },
        {
          "output_type": "stream",
          "name": "stderr",
          "text": [
            "<ipython-input-45-eefb8ab6fe0d>:42: FutureWarning: 'M' is deprecated and will be removed in a future version, please use 'ME' instead.\n",
            "  data_monthly = data.resample('M', on='Date').last()\n"
          ]
        },
        {
          "output_type": "stream",
          "name": "stdout",
          "text": [
            "Завршено со компанијата TRPS. Резултатите се зачувани.\n"
          ]
        },
        {
          "output_type": "stream",
          "name": "stderr",
          "text": [
            "<ipython-input-45-eefb8ab6fe0d>:42: FutureWarning: 'M' is deprecated and will be removed in a future version, please use 'ME' instead.\n",
            "  data_monthly = data.resample('M', on='Date').last()\n"
          ]
        },
        {
          "output_type": "stream",
          "name": "stdout",
          "text": [
            "Завршено со компанијата PGGV. Резултатите се зачувани.\n"
          ]
        },
        {
          "output_type": "stream",
          "name": "stderr",
          "text": [
            "<ipython-input-45-eefb8ab6fe0d>:42: FutureWarning: 'M' is deprecated and will be removed in a future version, please use 'ME' instead.\n",
            "  data_monthly = data.resample('M', on='Date').last()\n"
          ]
        },
        {
          "output_type": "stream",
          "name": "stdout",
          "text": [
            "Завршено со компанијата GDKM. Резултатите се зачувани.\n"
          ]
        },
        {
          "output_type": "stream",
          "name": "stderr",
          "text": [
            "<ipython-input-45-eefb8ab6fe0d>:42: FutureWarning: 'M' is deprecated and will be removed in a future version, please use 'ME' instead.\n",
            "  data_monthly = data.resample('M', on='Date').last()\n"
          ]
        },
        {
          "output_type": "stream",
          "name": "stdout",
          "text": [
            "Завршено со компанијата TTK. Резултатите се зачувани.\n"
          ]
        },
        {
          "output_type": "stream",
          "name": "stderr",
          "text": [
            "<ipython-input-45-eefb8ab6fe0d>:42: FutureWarning: 'M' is deprecated and will be removed in a future version, please use 'ME' instead.\n",
            "  data_monthly = data.resample('M', on='Date').last()\n"
          ]
        },
        {
          "output_type": "stream",
          "name": "stdout",
          "text": [
            "Завршено со компанијата BANA. Резултатите се зачувани.\n"
          ]
        },
        {
          "output_type": "stream",
          "name": "stderr",
          "text": [
            "<ipython-input-45-eefb8ab6fe0d>:42: FutureWarning: 'M' is deprecated and will be removed in a future version, please use 'ME' instead.\n",
            "  data_monthly = data.resample('M', on='Date').last()\n"
          ]
        },
        {
          "output_type": "stream",
          "name": "stdout",
          "text": [
            "Завршено со компанијата ZUAS. Резултатите се зачувани.\n"
          ]
        },
        {
          "output_type": "stream",
          "name": "stderr",
          "text": [
            "<ipython-input-45-eefb8ab6fe0d>:42: FutureWarning: 'M' is deprecated and will be removed in a future version, please use 'ME' instead.\n",
            "  data_monthly = data.resample('M', on='Date').last()\n"
          ]
        },
        {
          "output_type": "stream",
          "name": "stdout",
          "text": [
            "Завршено со компанијата SIL. Резултатите се зачувани.\n"
          ]
        },
        {
          "output_type": "stream",
          "name": "stderr",
          "text": [
            "<ipython-input-45-eefb8ab6fe0d>:42: FutureWarning: 'M' is deprecated and will be removed in a future version, please use 'ME' instead.\n",
            "  data_monthly = data.resample('M', on='Date').last()\n"
          ]
        },
        {
          "output_type": "stream",
          "name": "stdout",
          "text": [
            "Завршено со компанијата TETE. Резултатите се зачувани.\n"
          ]
        },
        {
          "output_type": "stream",
          "name": "stderr",
          "text": [
            "<ipython-input-45-eefb8ab6fe0d>:42: FutureWarning: 'M' is deprecated and will be removed in a future version, please use 'ME' instead.\n",
            "  data_monthly = data.resample('M', on='Date').last()\n"
          ]
        },
        {
          "output_type": "stream",
          "name": "stdout",
          "text": [
            "Завршено со компанијата OILK. Резултатите се зачувани.\n"
          ]
        },
        {
          "output_type": "stream",
          "name": "stderr",
          "text": [
            "<ipython-input-45-eefb8ab6fe0d>:42: FutureWarning: 'M' is deprecated and will be removed in a future version, please use 'ME' instead.\n",
            "  data_monthly = data.resample('M', on='Date').last()\n"
          ]
        },
        {
          "output_type": "stream",
          "name": "stdout",
          "text": [
            "Завршено со компанијата RZUS. Резултатите се зачувани.\n"
          ]
        },
        {
          "output_type": "stream",
          "name": "stderr",
          "text": [
            "<ipython-input-45-eefb8ab6fe0d>:42: FutureWarning: 'M' is deprecated and will be removed in a future version, please use 'ME' instead.\n",
            "  data_monthly = data.resample('M', on='Date').last()\n"
          ]
        },
        {
          "output_type": "stream",
          "name": "stdout",
          "text": [
            "Завршено со компанијата MKSD. Резултатите се зачувани.\n"
          ]
        },
        {
          "output_type": "stream",
          "name": "stderr",
          "text": [
            "<ipython-input-45-eefb8ab6fe0d>:42: FutureWarning: 'M' is deprecated and will be removed in a future version, please use 'ME' instead.\n",
            "  data_monthly = data.resample('M', on='Date').last()\n"
          ]
        },
        {
          "output_type": "stream",
          "name": "stdout",
          "text": [
            "Завршено со компанијата AMEH. Резултатите се зачувани.\n"
          ]
        },
        {
          "output_type": "stream",
          "name": "stderr",
          "text": [
            "<ipython-input-45-eefb8ab6fe0d>:42: FutureWarning: 'M' is deprecated and will be removed in a future version, please use 'ME' instead.\n",
            "  data_monthly = data.resample('M', on='Date').last()\n"
          ]
        },
        {
          "output_type": "stream",
          "name": "stdout",
          "text": [
            "Завршено со компанијата TKVS. Резултатите се зачувани.\n"
          ]
        },
        {
          "output_type": "stream",
          "name": "stderr",
          "text": [
            "<ipython-input-45-eefb8ab6fe0d>:42: FutureWarning: 'M' is deprecated and will be removed in a future version, please use 'ME' instead.\n",
            "  data_monthly = data.resample('M', on='Date').last()\n"
          ]
        },
        {
          "output_type": "stream",
          "name": "stdout",
          "text": [
            "Завршено со компанијата LOZP. Резултатите се зачувани.\n"
          ]
        },
        {
          "output_type": "stream",
          "name": "stderr",
          "text": [
            "<ipython-input-45-eefb8ab6fe0d>:42: FutureWarning: 'M' is deprecated and will be removed in a future version, please use 'ME' instead.\n",
            "  data_monthly = data.resample('M', on='Date').last()\n"
          ]
        },
        {
          "output_type": "stream",
          "name": "stdout",
          "text": [
            "Завршено со компанијата CBNG. Резултатите се зачувани.\n"
          ]
        },
        {
          "output_type": "stream",
          "name": "stderr",
          "text": [
            "<ipython-input-45-eefb8ab6fe0d>:42: FutureWarning: 'M' is deprecated and will be removed in a future version, please use 'ME' instead.\n",
            "  data_monthly = data.resample('M', on='Date').last()\n"
          ]
        },
        {
          "output_type": "stream",
          "name": "stdout",
          "text": [
            "Завршено со компанијата KMPR. Резултатите се зачувани.\n"
          ]
        },
        {
          "output_type": "stream",
          "name": "stderr",
          "text": [
            "<ipython-input-45-eefb8ab6fe0d>:42: FutureWarning: 'M' is deprecated and will be removed in a future version, please use 'ME' instead.\n",
            "  data_monthly = data.resample('M', on='Date').last()\n"
          ]
        },
        {
          "output_type": "stream",
          "name": "stdout",
          "text": [
            "Завршено со компанијата FAKM. Резултатите се зачувани.\n"
          ]
        },
        {
          "output_type": "stream",
          "name": "stderr",
          "text": [
            "<ipython-input-45-eefb8ab6fe0d>:42: FutureWarning: 'M' is deprecated and will be removed in a future version, please use 'ME' instead.\n",
            "  data_monthly = data.resample('M', on='Date').last()\n"
          ]
        },
        {
          "output_type": "stream",
          "name": "stdout",
          "text": [
            "Завршено со компанијата OPTK. Резултатите се зачувани.\n"
          ]
        },
        {
          "output_type": "stream",
          "name": "stderr",
          "text": [
            "<ipython-input-45-eefb8ab6fe0d>:42: FutureWarning: 'M' is deprecated and will be removed in a future version, please use 'ME' instead.\n",
            "  data_monthly = data.resample('M', on='Date').last()\n"
          ]
        },
        {
          "output_type": "stream",
          "name": "stdout",
          "text": [
            "Завршено со компанијата TSZS. Резултатите се зачувани.\n"
          ]
        },
        {
          "output_type": "stream",
          "name": "stderr",
          "text": [
            "<ipython-input-45-eefb8ab6fe0d>:42: FutureWarning: 'M' is deprecated and will be removed in a future version, please use 'ME' instead.\n",
            "  data_monthly = data.resample('M', on='Date').last()\n"
          ]
        },
        {
          "output_type": "stream",
          "name": "stdout",
          "text": [
            "Завршено со компанијата STBP. Резултатите се зачувани.\n"
          ]
        },
        {
          "output_type": "stream",
          "name": "stderr",
          "text": [
            "<ipython-input-45-eefb8ab6fe0d>:42: FutureWarning: 'M' is deprecated and will be removed in a future version, please use 'ME' instead.\n",
            "  data_monthly = data.resample('M', on='Date').last()\n"
          ]
        },
        {
          "output_type": "stream",
          "name": "stdout",
          "text": [
            "Завршено со компанијата ZKAR. Резултатите се зачувани.\n"
          ]
        },
        {
          "output_type": "stream",
          "name": "stderr",
          "text": [
            "<ipython-input-45-eefb8ab6fe0d>:42: FutureWarning: 'M' is deprecated and will be removed in a future version, please use 'ME' instead.\n",
            "  data_monthly = data.resample('M', on='Date').last()\n"
          ]
        },
        {
          "output_type": "stream",
          "name": "stdout",
          "text": [
            "Завршено со компанијата MAKP. Резултатите се зачувани.\n"
          ]
        },
        {
          "output_type": "stream",
          "name": "stderr",
          "text": [
            "<ipython-input-45-eefb8ab6fe0d>:42: FutureWarning: 'M' is deprecated and will be removed in a future version, please use 'ME' instead.\n",
            "  data_monthly = data.resample('M', on='Date').last()\n"
          ]
        },
        {
          "output_type": "stream",
          "name": "stdout",
          "text": [
            "Завршено со компанијата ALKB. Резултатите се зачувани.\n"
          ]
        },
        {
          "output_type": "stream",
          "name": "stderr",
          "text": [
            "<ipython-input-45-eefb8ab6fe0d>:42: FutureWarning: 'M' is deprecated and will be removed in a future version, please use 'ME' instead.\n",
            "  data_monthly = data.resample('M', on='Date').last()\n"
          ]
        },
        {
          "output_type": "stream",
          "name": "stdout",
          "text": [
            "Завршено со компанијата ENER. Резултатите се зачувани.\n"
          ]
        },
        {
          "output_type": "stream",
          "name": "stderr",
          "text": [
            "<ipython-input-45-eefb8ab6fe0d>:42: FutureWarning: 'M' is deprecated and will be removed in a future version, please use 'ME' instead.\n",
            "  data_monthly = data.resample('M', on='Date').last()\n"
          ]
        },
        {
          "output_type": "stream",
          "name": "stdout",
          "text": [
            "Завршено со компанијата SDOM. Резултатите се зачувани.\n",
            "Компанијата PROT нема доволно податоци (110 редови). Пропуштам.\n"
          ]
        },
        {
          "output_type": "stream",
          "name": "stderr",
          "text": [
            "<ipython-input-45-eefb8ab6fe0d>:42: FutureWarning: 'M' is deprecated and will be removed in a future version, please use 'ME' instead.\n",
            "  data_monthly = data.resample('M', on='Date').last()\n"
          ]
        },
        {
          "output_type": "stream",
          "name": "stdout",
          "text": [
            "Завршено со компанијата RZTK. Резултатите се зачувани.\n"
          ]
        },
        {
          "output_type": "stream",
          "name": "stderr",
          "text": [
            "<ipython-input-45-eefb8ab6fe0d>:42: FutureWarning: 'M' is deprecated and will be removed in a future version, please use 'ME' instead.\n",
            "  data_monthly = data.resample('M', on='Date').last()\n"
          ]
        },
        {
          "output_type": "stream",
          "name": "stdout",
          "text": [
            "Завршено со компанијата GRZD. Резултатите се зачувани.\n"
          ]
        },
        {
          "output_type": "stream",
          "name": "stderr",
          "text": [
            "<ipython-input-45-eefb8ab6fe0d>:42: FutureWarning: 'M' is deprecated and will be removed in a future version, please use 'ME' instead.\n",
            "  data_monthly = data.resample('M', on='Date').last()\n"
          ]
        },
        {
          "output_type": "stream",
          "name": "stdout",
          "text": [
            "Завршено со компанијата RADE. Резултатите се зачувани.\n"
          ]
        },
        {
          "output_type": "stream",
          "name": "stderr",
          "text": [
            "<ipython-input-45-eefb8ab6fe0d>:42: FutureWarning: 'M' is deprecated and will be removed in a future version, please use 'ME' instead.\n",
            "  data_monthly = data.resample('M', on='Date').last()\n"
          ]
        },
        {
          "output_type": "stream",
          "name": "stdout",
          "text": [
            "Завршено со компанијата IJUG. Резултатите се зачувани.\n"
          ]
        },
        {
          "output_type": "stream",
          "name": "stderr",
          "text": [
            "<ipython-input-45-eefb8ab6fe0d>:42: FutureWarning: 'M' is deprecated and will be removed in a future version, please use 'ME' instead.\n",
            "  data_monthly = data.resample('M', on='Date').last()\n"
          ]
        },
        {
          "output_type": "stream",
          "name": "stdout",
          "text": [
            "Завршено со компанијата ZAS. Резултатите се зачувани.\n"
          ]
        },
        {
          "output_type": "stream",
          "name": "stderr",
          "text": [
            "<ipython-input-45-eefb8ab6fe0d>:42: FutureWarning: 'M' is deprecated and will be removed in a future version, please use 'ME' instead.\n",
            "  data_monthly = data.resample('M', on='Date').last()\n"
          ]
        },
        {
          "output_type": "stream",
          "name": "stdout",
          "text": [
            "Завршено со компанијата EUMK. Резултатите се зачувани.\n"
          ]
        },
        {
          "output_type": "stream",
          "name": "stderr",
          "text": [
            "<ipython-input-45-eefb8ab6fe0d>:42: FutureWarning: 'M' is deprecated and will be removed in a future version, please use 'ME' instead.\n",
            "  data_monthly = data.resample('M', on='Date').last()\n"
          ]
        },
        {
          "output_type": "stream",
          "name": "stdout",
          "text": [
            "Завршено со компанијата INPR. Резултатите се зачувани.\n"
          ]
        },
        {
          "output_type": "stream",
          "name": "stderr",
          "text": [
            "<ipython-input-45-eefb8ab6fe0d>:42: FutureWarning: 'M' is deprecated and will be removed in a future version, please use 'ME' instead.\n",
            "  data_monthly = data.resample('M', on='Date').last()\n"
          ]
        },
        {
          "output_type": "stream",
          "name": "stdout",
          "text": [
            "Завршено со компанијата CDHV. Резултатите се зачувани.\n"
          ]
        },
        {
          "output_type": "stream",
          "name": "stderr",
          "text": [
            "<ipython-input-45-eefb8ab6fe0d>:42: FutureWarning: 'M' is deprecated and will be removed in a future version, please use 'ME' instead.\n",
            "  data_monthly = data.resample('M', on='Date').last()\n"
          ]
        },
        {
          "output_type": "stream",
          "name": "stdout",
          "text": [
            "Завршено со компанијата VARG. Резултатите се зачувани.\n"
          ]
        },
        {
          "output_type": "stream",
          "name": "stderr",
          "text": [
            "<ipython-input-45-eefb8ab6fe0d>:42: FutureWarning: 'M' is deprecated and will be removed in a future version, please use 'ME' instead.\n",
            "  data_monthly = data.resample('M', on='Date').last()\n"
          ]
        },
        {
          "output_type": "stream",
          "name": "stdout",
          "text": [
            "Завршено со компанијата KDFO. Резултатите се зачувани.\n"
          ]
        },
        {
          "output_type": "stream",
          "name": "stderr",
          "text": [
            "<ipython-input-45-eefb8ab6fe0d>:42: FutureWarning: 'M' is deprecated and will be removed in a future version, please use 'ME' instead.\n",
            "  data_monthly = data.resample('M', on='Date').last()\n"
          ]
        },
        {
          "output_type": "stream",
          "name": "stdout",
          "text": [
            "Завршено со компанијата ZPKO. Резултатите се зачувани.\n"
          ]
        },
        {
          "output_type": "stream",
          "name": "stderr",
          "text": [
            "<ipython-input-45-eefb8ab6fe0d>:42: FutureWarning: 'M' is deprecated and will be removed in a future version, please use 'ME' instead.\n",
            "  data_monthly = data.resample('M', on='Date').last()\n"
          ]
        },
        {
          "output_type": "stream",
          "name": "stdout",
          "text": [
            "Завршено со компанијата PKB. Резултатите се зачувани.\n"
          ]
        },
        {
          "output_type": "stream",
          "name": "stderr",
          "text": [
            "<ipython-input-45-eefb8ab6fe0d>:42: FutureWarning: 'M' is deprecated and will be removed in a future version, please use 'ME' instead.\n",
            "  data_monthly = data.resample('M', on='Date').last()\n"
          ]
        },
        {
          "output_type": "stream",
          "name": "stdout",
          "text": [
            "Завршено со компанијата RZUG. Резултатите се зачувани.\n"
          ]
        },
        {
          "output_type": "stream",
          "name": "stderr",
          "text": [
            "<ipython-input-45-eefb8ab6fe0d>:42: FutureWarning: 'M' is deprecated and will be removed in a future version, please use 'ME' instead.\n",
            "  data_monthly = data.resample('M', on='Date').last()\n"
          ]
        },
        {
          "output_type": "stream",
          "name": "stdout",
          "text": [
            "Завршено со компанијата MTUR. Резултатите се зачувани.\n"
          ]
        },
        {
          "output_type": "stream",
          "name": "stderr",
          "text": [
            "<ipython-input-45-eefb8ab6fe0d>:42: FutureWarning: 'M' is deprecated and will be removed in a future version, please use 'ME' instead.\n",
            "  data_monthly = data.resample('M', on='Date').last()\n"
          ]
        },
        {
          "output_type": "stream",
          "name": "stdout",
          "text": [
            "Завршено со компанијата MPT. Резултатите се зачувани.\n",
            "Грешка при обработката на компанијата KKST: index 14 is out of bounds for axis 0 with size 4\n"
          ]
        },
        {
          "output_type": "stream",
          "name": "stderr",
          "text": [
            "<ipython-input-45-eefb8ab6fe0d>:42: FutureWarning: 'M' is deprecated and will be removed in a future version, please use 'ME' instead.\n",
            "  data_monthly = data.resample('M', on='Date').last()\n",
            "<ipython-input-45-eefb8ab6fe0d>:42: FutureWarning: 'M' is deprecated and will be removed in a future version, please use 'ME' instead.\n",
            "  data_monthly = data.resample('M', on='Date').last()\n"
          ]
        },
        {
          "output_type": "stream",
          "name": "stdout",
          "text": [
            "Завршено со компанијата SLAV. Резултатите се зачувани.\n"
          ]
        },
        {
          "output_type": "stream",
          "name": "stderr",
          "text": [
            "<ipython-input-45-eefb8ab6fe0d>:42: FutureWarning: 'M' is deprecated and will be removed in a future version, please use 'ME' instead.\n",
            "  data_monthly = data.resample('M', on='Date').last()\n"
          ]
        },
        {
          "output_type": "stream",
          "name": "stdout",
          "text": [
            "Завршено со компанијата FERS. Резултатите се зачувани.\n"
          ]
        },
        {
          "output_type": "stream",
          "name": "stderr",
          "text": [
            "<ipython-input-45-eefb8ab6fe0d>:42: FutureWarning: 'M' is deprecated and will be removed in a future version, please use 'ME' instead.\n",
            "  data_monthly = data.resample('M', on='Date').last()\n"
          ]
        },
        {
          "output_type": "stream",
          "name": "stdout",
          "text": [
            "Завршено со компанијата USJE. Резултатите се зачувани.\n"
          ]
        },
        {
          "output_type": "stream",
          "name": "stderr",
          "text": [
            "<ipython-input-45-eefb8ab6fe0d>:42: FutureWarning: 'M' is deprecated and will be removed in a future version, please use 'ME' instead.\n",
            "  data_monthly = data.resample('M', on='Date').last()\n"
          ]
        },
        {
          "output_type": "stream",
          "name": "stdout",
          "text": [
            "Завршено со компанијата BLTU. Резултатите се зачувани.\n"
          ]
        },
        {
          "output_type": "stream",
          "name": "stderr",
          "text": [
            "<ipython-input-45-eefb8ab6fe0d>:42: FutureWarning: 'M' is deprecated and will be removed in a future version, please use 'ME' instead.\n",
            "  data_monthly = data.resample('M', on='Date').last()\n"
          ]
        },
        {
          "output_type": "stream",
          "name": "stdout",
          "text": [
            "Завршено со компанијата FROT. Резултатите се зачувани.\n"
          ]
        },
        {
          "output_type": "stream",
          "name": "stderr",
          "text": [
            "<ipython-input-45-eefb8ab6fe0d>:42: FutureWarning: 'M' is deprecated and will be removed in a future version, please use 'ME' instead.\n",
            "  data_monthly = data.resample('M', on='Date').last()\n"
          ]
        },
        {
          "output_type": "stream",
          "name": "stdout",
          "text": [
            "Завршено со компанијата ORAN. Резултатите се зачувани.\n"
          ]
        },
        {
          "output_type": "stream",
          "name": "stderr",
          "text": [
            "<ipython-input-45-eefb8ab6fe0d>:42: FutureWarning: 'M' is deprecated and will be removed in a future version, please use 'ME' instead.\n",
            "  data_monthly = data.resample('M', on='Date').last()\n"
          ]
        },
        {
          "output_type": "stream",
          "name": "stdout",
          "text": [
            "Завршено со компанијата FUBT. Резултатите се зачувани.\n"
          ]
        },
        {
          "output_type": "stream",
          "name": "stderr",
          "text": [
            "<ipython-input-45-eefb8ab6fe0d>:42: FutureWarning: 'M' is deprecated and will be removed in a future version, please use 'ME' instead.\n",
            "  data_monthly = data.resample('M', on='Date').last()\n"
          ]
        },
        {
          "output_type": "stream",
          "name": "stdout",
          "text": [
            "Завршено со компанијата TEL. Резултатите се зачувани.\n"
          ]
        },
        {
          "output_type": "stream",
          "name": "stderr",
          "text": [
            "<ipython-input-45-eefb8ab6fe0d>:42: FutureWarning: 'M' is deprecated and will be removed in a future version, please use 'ME' instead.\n",
            "  data_monthly = data.resample('M', on='Date').last()\n"
          ]
        },
        {
          "output_type": "stream",
          "name": "stdout",
          "text": [
            "Завршено со компанијата RIMI. Резултатите се зачувани.\n"
          ]
        },
        {
          "output_type": "stream",
          "name": "stderr",
          "text": [
            "<ipython-input-45-eefb8ab6fe0d>:42: FutureWarning: 'M' is deprecated and will be removed in a future version, please use 'ME' instead.\n",
            "  data_monthly = data.resample('M', on='Date').last()\n"
          ]
        },
        {
          "output_type": "stream",
          "name": "stdout",
          "text": [
            "Завршено со компанијата BIM. Резултатите се зачувани.\n"
          ]
        },
        {
          "output_type": "stream",
          "name": "stderr",
          "text": [
            "<ipython-input-45-eefb8ab6fe0d>:42: FutureWarning: 'M' is deprecated and will be removed in a future version, please use 'ME' instead.\n",
            "  data_monthly = data.resample('M', on='Date').last()\n"
          ]
        },
        {
          "output_type": "stream",
          "name": "stdout",
          "text": [
            "Завршено со компанијата MPOL. Резултатите се зачувани.\n"
          ]
        },
        {
          "output_type": "stream",
          "name": "stderr",
          "text": [
            "<ipython-input-45-eefb8ab6fe0d>:42: FutureWarning: 'M' is deprecated and will be removed in a future version, please use 'ME' instead.\n",
            "  data_monthly = data.resample('M', on='Date').last()\n"
          ]
        },
        {
          "output_type": "stream",
          "name": "stdout",
          "text": [
            "Завршено со компанијата PELK. Резултатите се зачувани.\n"
          ]
        },
        {
          "output_type": "stream",
          "name": "stderr",
          "text": [
            "<ipython-input-45-eefb8ab6fe0d>:42: FutureWarning: 'M' is deprecated and will be removed in a future version, please use 'ME' instead.\n",
            "  data_monthly = data.resample('M', on='Date').last()\n"
          ]
        },
        {
          "output_type": "stream",
          "name": "stdout",
          "text": [
            "Завршено со компанијата RZLE. Резултатите се зачувани.\n"
          ]
        },
        {
          "output_type": "stream",
          "name": "stderr",
          "text": [
            "<ipython-input-45-eefb8ab6fe0d>:42: FutureWarning: 'M' is deprecated and will be removed in a future version, please use 'ME' instead.\n",
            "  data_monthly = data.resample('M', on='Date').last()\n"
          ]
        },
        {
          "output_type": "stream",
          "name": "stdout",
          "text": [
            "Завршено со компанијата AUMK. Резултатите се зачувани.\n"
          ]
        },
        {
          "output_type": "stream",
          "name": "stderr",
          "text": [
            "<ipython-input-45-eefb8ab6fe0d>:42: FutureWarning: 'M' is deprecated and will be removed in a future version, please use 'ME' instead.\n",
            "  data_monthly = data.resample('M', on='Date').last()\n"
          ]
        },
        {
          "output_type": "stream",
          "name": "stdout",
          "text": [
            "Завршено со компанијата APTK. Резултатите се зачувани.\n"
          ]
        },
        {
          "output_type": "stream",
          "name": "stderr",
          "text": [
            "<ipython-input-45-eefb8ab6fe0d>:42: FutureWarning: 'M' is deprecated and will be removed in a future version, please use 'ME' instead.\n",
            "  data_monthly = data.resample('M', on='Date').last()\n"
          ]
        },
        {
          "output_type": "stream",
          "name": "stdout",
          "text": [
            "Завршено со компанијата TEAL. Резултатите се зачувани.\n"
          ]
        },
        {
          "output_type": "stream",
          "name": "stderr",
          "text": [
            "<ipython-input-45-eefb8ab6fe0d>:42: FutureWarning: 'M' is deprecated and will be removed in a future version, please use 'ME' instead.\n",
            "  data_monthly = data.resample('M', on='Date').last()\n"
          ]
        },
        {
          "output_type": "stream",
          "name": "stdout",
          "text": [
            "Завршено со компанијата SKP. Резултатите се зачувани.\n"
          ]
        },
        {
          "output_type": "stream",
          "name": "stderr",
          "text": [
            "<ipython-input-45-eefb8ab6fe0d>:42: FutureWarning: 'M' is deprecated and will be removed in a future version, please use 'ME' instead.\n",
            "  data_monthly = data.resample('M', on='Date').last()\n"
          ]
        },
        {
          "output_type": "stream",
          "name": "stdout",
          "text": [
            "Завршено со компанијата BIKF. Резултатите се зачувани.\n",
            "Завршено со компанијата MPTE. Резултатите се зачувани.\n"
          ]
        },
        {
          "output_type": "stream",
          "name": "stderr",
          "text": [
            "<ipython-input-45-eefb8ab6fe0d>:42: FutureWarning: 'M' is deprecated and will be removed in a future version, please use 'ME' instead.\n",
            "  data_monthly = data.resample('M', on='Date').last()\n",
            "<ipython-input-45-eefb8ab6fe0d>:42: FutureWarning: 'M' is deprecated and will be removed in a future version, please use 'ME' instead.\n",
            "  data_monthly = data.resample('M', on='Date').last()\n"
          ]
        },
        {
          "output_type": "stream",
          "name": "stdout",
          "text": [
            "Завршено со компанијата OKTA. Резултатите се зачувани.\n",
            "Завршено со компанијата OMOS. Резултатите се зачувани.\n"
          ]
        },
        {
          "output_type": "stream",
          "name": "stderr",
          "text": [
            "<ipython-input-45-eefb8ab6fe0d>:42: FutureWarning: 'M' is deprecated and will be removed in a future version, please use 'ME' instead.\n",
            "  data_monthly = data.resample('M', on='Date').last()\n",
            "<ipython-input-45-eefb8ab6fe0d>:42: FutureWarning: 'M' is deprecated and will be removed in a future version, please use 'ME' instead.\n",
            "  data_monthly = data.resample('M', on='Date').last()\n"
          ]
        },
        {
          "output_type": "stream",
          "name": "stdout",
          "text": [
            "Завршено со компанијата GECT. Резултатите се зачувани.\n"
          ]
        },
        {
          "output_type": "stream",
          "name": "stderr",
          "text": [
            "<ipython-input-45-eefb8ab6fe0d>:42: FutureWarning: 'M' is deprecated and will be removed in a future version, please use 'ME' instead.\n",
            "  data_monthly = data.resample('M', on='Date').last()\n"
          ]
        },
        {
          "output_type": "stream",
          "name": "stdout",
          "text": [
            "Завршено со компанијата REPL. Резултатите се зачувани.\n"
          ]
        },
        {
          "output_type": "stream",
          "name": "stderr",
          "text": [
            "<ipython-input-45-eefb8ab6fe0d>:42: FutureWarning: 'M' is deprecated and will be removed in a future version, please use 'ME' instead.\n",
            "  data_monthly = data.resample('M', on='Date').last()\n"
          ]
        },
        {
          "output_type": "stream",
          "name": "stdout",
          "text": [
            "Завршено со компанијата SPAZP. Резултатите се зачувани.\n"
          ]
        },
        {
          "output_type": "stream",
          "name": "stderr",
          "text": [
            "<ipython-input-45-eefb8ab6fe0d>:42: FutureWarning: 'M' is deprecated and will be removed in a future version, please use 'ME' instead.\n",
            "  data_monthly = data.resample('M', on='Date').last()\n"
          ]
        },
        {
          "output_type": "stream",
          "name": "stdout",
          "text": [
            "Завршено со компанијата ZIMS. Резултатите се зачувани.\n"
          ]
        },
        {
          "output_type": "stream",
          "name": "stderr",
          "text": [
            "<ipython-input-45-eefb8ab6fe0d>:42: FutureWarning: 'M' is deprecated and will be removed in a future version, please use 'ME' instead.\n",
            "  data_monthly = data.resample('M', on='Date').last()\n"
          ]
        },
        {
          "output_type": "stream",
          "name": "stdout",
          "text": [
            "Завршено со компанијата SKON. Резултатите се зачувани.\n"
          ]
        },
        {
          "output_type": "stream",
          "name": "stderr",
          "text": [
            "<ipython-input-45-eefb8ab6fe0d>:42: FutureWarning: 'M' is deprecated and will be removed in a future version, please use 'ME' instead.\n",
            "  data_monthly = data.resample('M', on='Date').last()\n"
          ]
        },
        {
          "output_type": "stream",
          "name": "stdout",
          "text": [
            "Завршено со компанијата GRNT. Резултатите се зачувани.\n"
          ]
        },
        {
          "output_type": "stream",
          "name": "stderr",
          "text": [
            "<ipython-input-45-eefb8ab6fe0d>:42: FutureWarning: 'M' is deprecated and will be removed in a future version, please use 'ME' instead.\n",
            "  data_monthly = data.resample('M', on='Date').last()\n"
          ]
        },
        {
          "output_type": "stream",
          "name": "stdout",
          "text": [
            "Завршено со компанијата EVRO. Резултатите се зачувани.\n"
          ]
        },
        {
          "output_type": "stream",
          "name": "stderr",
          "text": [
            "<ipython-input-45-eefb8ab6fe0d>:42: FutureWarning: 'M' is deprecated and will be removed in a future version, please use 'ME' instead.\n",
            "  data_monthly = data.resample('M', on='Date').last()\n"
          ]
        },
        {
          "output_type": "stream",
          "name": "stdout",
          "text": [
            "Завршено со компанијата BGOR. Резултатите се зачувани.\n"
          ]
        },
        {
          "output_type": "stream",
          "name": "stderr",
          "text": [
            "<ipython-input-45-eefb8ab6fe0d>:42: FutureWarning: 'M' is deprecated and will be removed in a future version, please use 'ME' instead.\n",
            "  data_monthly = data.resample('M', on='Date').last()\n"
          ]
        },
        {
          "output_type": "stream",
          "name": "stdout",
          "text": [
            "Завршено со компанијата MERM. Резултатите се зачувани.\n"
          ]
        },
        {
          "output_type": "stream",
          "name": "stderr",
          "text": [
            "<ipython-input-45-eefb8ab6fe0d>:42: FutureWarning: 'M' is deprecated and will be removed in a future version, please use 'ME' instead.\n",
            "  data_monthly = data.resample('M', on='Date').last()\n"
          ]
        },
        {
          "output_type": "stream",
          "name": "stdout",
          "text": [
            "Завршено со компанијата RINS. Резултатите се зачувани.\n"
          ]
        },
        {
          "output_type": "stream",
          "name": "stderr",
          "text": [
            "<ipython-input-45-eefb8ab6fe0d>:42: FutureWarning: 'M' is deprecated and will be removed in a future version, please use 'ME' instead.\n",
            "  data_monthly = data.resample('M', on='Date').last()\n"
          ]
        },
        {
          "output_type": "stream",
          "name": "stdout",
          "text": [
            "Завршено со компанијата STIL. Резултатите се зачувани.\n"
          ]
        },
        {
          "output_type": "stream",
          "name": "stderr",
          "text": [
            "<ipython-input-45-eefb8ab6fe0d>:42: FutureWarning: 'M' is deprecated and will be removed in a future version, please use 'ME' instead.\n",
            "  data_monthly = data.resample('M', on='Date').last()\n"
          ]
        },
        {
          "output_type": "stream",
          "name": "stdout",
          "text": [
            "Завршено со компанијата ELMA. Резултатите се зачувани.\n"
          ]
        },
        {
          "output_type": "stream",
          "name": "stderr",
          "text": [
            "<ipython-input-45-eefb8ab6fe0d>:42: FutureWarning: 'M' is deprecated and will be removed in a future version, please use 'ME' instead.\n",
            "  data_monthly = data.resample('M', on='Date').last()\n"
          ]
        },
        {
          "output_type": "stream",
          "name": "stdout",
          "text": [
            "Завршено со компанијата VSC. Резултатите се зачувани.\n"
          ]
        },
        {
          "output_type": "stream",
          "name": "stderr",
          "text": [
            "<ipython-input-45-eefb8ab6fe0d>:42: FutureWarning: 'M' is deprecated and will be removed in a future version, please use 'ME' instead.\n",
            "  data_monthly = data.resample('M', on='Date').last()\n"
          ]
        },
        {
          "output_type": "stream",
          "name": "stdout",
          "text": [
            "Завршено со компанијата MODA. Резултатите се зачувани.\n"
          ]
        },
        {
          "output_type": "stream",
          "name": "stderr",
          "text": [
            "<ipython-input-45-eefb8ab6fe0d>:42: FutureWarning: 'M' is deprecated and will be removed in a future version, please use 'ME' instead.\n",
            "  data_monthly = data.resample('M', on='Date').last()\n"
          ]
        },
        {
          "output_type": "stream",
          "name": "stdout",
          "text": [
            "Завршено со компанијата SOLN. Резултатите се зачувани.\n"
          ]
        },
        {
          "output_type": "stream",
          "name": "stderr",
          "text": [
            "<ipython-input-45-eefb8ab6fe0d>:42: FutureWarning: 'M' is deprecated and will be removed in a future version, please use 'ME' instead.\n",
            "  data_monthly = data.resample('M', on='Date').last()\n"
          ]
        },
        {
          "output_type": "stream",
          "name": "stdout",
          "text": [
            "Завршено со компанијата MLKR. Резултатите се зачувани.\n"
          ]
        },
        {
          "output_type": "stream",
          "name": "stderr",
          "text": [
            "<ipython-input-45-eefb8ab6fe0d>:42: FutureWarning: 'M' is deprecated and will be removed in a future version, please use 'ME' instead.\n",
            "  data_monthly = data.resample('M', on='Date').last()\n"
          ]
        },
        {
          "output_type": "stream",
          "name": "stdout",
          "text": [
            "Завршено со компанијата GALE. Резултатите се зачувани.\n"
          ]
        },
        {
          "output_type": "stream",
          "name": "stderr",
          "text": [
            "<ipython-input-45-eefb8ab6fe0d>:42: FutureWarning: 'M' is deprecated and will be removed in a future version, please use 'ME' instead.\n",
            "  data_monthly = data.resample('M', on='Date').last()\n"
          ]
        },
        {
          "output_type": "stream",
          "name": "stdout",
          "text": [
            "Завршено со компанијата LHND. Резултатите се зачувани.\n"
          ]
        },
        {
          "output_type": "stream",
          "name": "stderr",
          "text": [
            "<ipython-input-45-eefb8ab6fe0d>:42: FutureWarning: 'M' is deprecated and will be removed in a future version, please use 'ME' instead.\n",
            "  data_monthly = data.resample('M', on='Date').last()\n"
          ]
        },
        {
          "output_type": "stream",
          "name": "stdout",
          "text": [
            "Завршено со компанијата MB. Резултатите се зачувани.\n"
          ]
        },
        {
          "output_type": "stream",
          "name": "stderr",
          "text": [
            "<ipython-input-45-eefb8ab6fe0d>:42: FutureWarning: 'M' is deprecated and will be removed in a future version, please use 'ME' instead.\n",
            "  data_monthly = data.resample('M', on='Date').last()\n"
          ]
        },
        {
          "output_type": "stream",
          "name": "stdout",
          "text": [
            "Завршено со компанијата MZPU. Резултатите се зачувани.\n"
          ]
        },
        {
          "output_type": "stream",
          "name": "stderr",
          "text": [
            "<ipython-input-45-eefb8ab6fe0d>:42: FutureWarning: 'M' is deprecated and will be removed in a future version, please use 'ME' instead.\n",
            "  data_monthly = data.resample('M', on='Date').last()\n"
          ]
        },
        {
          "output_type": "stream",
          "name": "stdout",
          "text": [
            "Завршено со компанијата VTKS. Резултатите се зачувани.\n"
          ]
        },
        {
          "output_type": "stream",
          "name": "stderr",
          "text": [
            "<ipython-input-45-eefb8ab6fe0d>:42: FutureWarning: 'M' is deprecated and will be removed in a future version, please use 'ME' instead.\n",
            "  data_monthly = data.resample('M', on='Date').last()\n"
          ]
        },
        {
          "output_type": "stream",
          "name": "stdout",
          "text": [
            "Завршено со компанијата TBKO. Резултатите се зачувани.\n"
          ]
        },
        {
          "output_type": "stream",
          "name": "stderr",
          "text": [
            "<ipython-input-45-eefb8ab6fe0d>:42: FutureWarning: 'M' is deprecated and will be removed in a future version, please use 'ME' instead.\n",
            "  data_monthly = data.resample('M', on='Date').last()\n"
          ]
        },
        {
          "output_type": "stream",
          "name": "stdout",
          "text": [
            "Завршено со компанијата MZHE. Резултатите се зачувани.\n"
          ]
        },
        {
          "output_type": "stream",
          "name": "stderr",
          "text": [
            "<ipython-input-45-eefb8ab6fe0d>:42: FutureWarning: 'M' is deprecated and will be removed in a future version, please use 'ME' instead.\n",
            "  data_monthly = data.resample('M', on='Date').last()\n"
          ]
        },
        {
          "output_type": "stream",
          "name": "stdout",
          "text": [
            "Завршено со компанијата OTEK. Резултатите се зачувани.\n"
          ]
        },
        {
          "output_type": "stream",
          "name": "stderr",
          "text": [
            "<ipython-input-45-eefb8ab6fe0d>:42: FutureWarning: 'M' is deprecated and will be removed in a future version, please use 'ME' instead.\n",
            "  data_monthly = data.resample('M', on='Date').last()\n"
          ]
        },
        {
          "output_type": "stream",
          "name": "stdout",
          "text": [
            "Завршено со компанијата KMB. Резултатите се зачувани.\n",
            "Завршено со компанијата TTKO. Резултатите се зачувани.\n"
          ]
        },
        {
          "output_type": "stream",
          "name": "stderr",
          "text": [
            "<ipython-input-45-eefb8ab6fe0d>:42: FutureWarning: 'M' is deprecated and will be removed in a future version, please use 'ME' instead.\n",
            "  data_monthly = data.resample('M', on='Date').last()\n",
            "<ipython-input-45-eefb8ab6fe0d>:42: FutureWarning: 'M' is deprecated and will be removed in a future version, please use 'ME' instead.\n",
            "  data_monthly = data.resample('M', on='Date').last()\n"
          ]
        },
        {
          "output_type": "stream",
          "name": "stdout",
          "text": [
            "Завршено со компанијата JAKO. Резултатите се зачувани.\n"
          ]
        },
        {
          "output_type": "stream",
          "name": "stderr",
          "text": [
            "<ipython-input-45-eefb8ab6fe0d>:42: FutureWarning: 'M' is deprecated and will be removed in a future version, please use 'ME' instead.\n",
            "  data_monthly = data.resample('M', on='Date').last()\n"
          ]
        },
        {
          "output_type": "stream",
          "name": "stdout",
          "text": [
            "Завршено со компанијата VITA. Резултатите се зачувани.\n"
          ]
        },
        {
          "output_type": "stream",
          "name": "stderr",
          "text": [
            "<ipython-input-45-eefb8ab6fe0d>:42: FutureWarning: 'M' is deprecated and will be removed in a future version, please use 'ME' instead.\n",
            "  data_monthly = data.resample('M', on='Date').last()\n"
          ]
        },
        {
          "output_type": "stream",
          "name": "stdout",
          "text": [
            "Завршено со компанијата LAJO. Резултатите се зачувани.\n"
          ]
        },
        {
          "output_type": "stream",
          "name": "stderr",
          "text": [
            "<ipython-input-45-eefb8ab6fe0d>:42: FutureWarning: 'M' is deprecated and will be removed in a future version, please use 'ME' instead.\n",
            "  data_monthly = data.resample('M', on='Date').last()\n"
          ]
        },
        {
          "output_type": "stream",
          "name": "stdout",
          "text": [
            "Завршено со компанијата GTRG. Резултатите се зачувани.\n"
          ]
        },
        {
          "output_type": "stream",
          "name": "stderr",
          "text": [
            "<ipython-input-45-eefb8ab6fe0d>:42: FutureWarning: 'M' is deprecated and will be removed in a future version, please use 'ME' instead.\n",
            "  data_monthly = data.resample('M', on='Date').last()\n"
          ]
        },
        {
          "output_type": "stream",
          "name": "stdout",
          "text": [
            "Завршено со компанијата PTRS. Резултатите се зачувани.\n"
          ]
        },
        {
          "output_type": "stream",
          "name": "stderr",
          "text": [
            "<ipython-input-45-eefb8ab6fe0d>:42: FutureWarning: 'M' is deprecated and will be removed in a future version, please use 'ME' instead.\n",
            "  data_monthly = data.resample('M', on='Date').last()\n"
          ]
        },
        {
          "output_type": "stream",
          "name": "stdout",
          "text": [
            "Завршено со компанијата KULT. Резултатите се зачувани.\n"
          ]
        },
        {
          "output_type": "stream",
          "name": "stderr",
          "text": [
            "<ipython-input-45-eefb8ab6fe0d>:42: FutureWarning: 'M' is deprecated and will be removed in a future version, please use 'ME' instead.\n",
            "  data_monthly = data.resample('M', on='Date').last()\n"
          ]
        },
        {
          "output_type": "stream",
          "name": "stdout",
          "text": [
            "Завршено со компанијата STOK. Резултатите се зачувани.\n"
          ]
        },
        {
          "output_type": "stream",
          "name": "stderr",
          "text": [
            "<ipython-input-45-eefb8ab6fe0d>:42: FutureWarning: 'M' is deprecated and will be removed in a future version, please use 'ME' instead.\n",
            "  data_monthly = data.resample('M', on='Date').last()\n"
          ]
        },
        {
          "output_type": "stream",
          "name": "stdout",
          "text": [
            "Завршено со компанијата GIMS. Резултатите се зачувани.\n"
          ]
        },
        {
          "output_type": "stream",
          "name": "stderr",
          "text": [
            "<ipython-input-45-eefb8ab6fe0d>:42: FutureWarning: 'M' is deprecated and will be removed in a future version, please use 'ME' instead.\n",
            "  data_monthly = data.resample('M', on='Date').last()\n"
          ]
        },
        {
          "output_type": "stream",
          "name": "stdout",
          "text": [
            "Завршено со компанијата ZILUP. Резултатите се зачувани.\n"
          ]
        },
        {
          "output_type": "stream",
          "name": "stderr",
          "text": [
            "<ipython-input-45-eefb8ab6fe0d>:42: FutureWarning: 'M' is deprecated and will be removed in a future version, please use 'ME' instead.\n",
            "  data_monthly = data.resample('M', on='Date').last()\n"
          ]
        },
        {
          "output_type": "stream",
          "name": "stdout",
          "text": [
            "Завршено со компанијата GRDN. Резултатите се зачувани.\n"
          ]
        },
        {
          "output_type": "stream",
          "name": "stderr",
          "text": [
            "<ipython-input-45-eefb8ab6fe0d>:42: FutureWarning: 'M' is deprecated and will be removed in a future version, please use 'ME' instead.\n",
            "  data_monthly = data.resample('M', on='Date').last()\n"
          ]
        },
        {
          "output_type": "stream",
          "name": "stdout",
          "text": [
            "Завршено со компанијата CEVI. Резултатите се зачувани.\n"
          ]
        },
        {
          "output_type": "stream",
          "name": "stderr",
          "text": [
            "<ipython-input-45-eefb8ab6fe0d>:42: FutureWarning: 'M' is deprecated and will be removed in a future version, please use 'ME' instead.\n",
            "  data_monthly = data.resample('M', on='Date').last()\n"
          ]
        },
        {
          "output_type": "stream",
          "name": "stdout",
          "text": [
            "Завршено со компанијата KONF. Резултатите се зачувани.\n"
          ]
        },
        {
          "output_type": "stream",
          "name": "stderr",
          "text": [
            "<ipython-input-45-eefb8ab6fe0d>:42: FutureWarning: 'M' is deprecated and will be removed in a future version, please use 'ME' instead.\n",
            "  data_monthly = data.resample('M', on='Date').last()\n"
          ]
        },
        {
          "output_type": "stream",
          "name": "stdout",
          "text": [
            "Завршено со компанијата DIMI. Резултатите се зачувани.\n"
          ]
        },
        {
          "output_type": "stream",
          "name": "stderr",
          "text": [
            "<ipython-input-45-eefb8ab6fe0d>:42: FutureWarning: 'M' is deprecated and will be removed in a future version, please use 'ME' instead.\n",
            "  data_monthly = data.resample('M', on='Date').last()\n"
          ]
        },
        {
          "output_type": "stream",
          "name": "stdout",
          "text": [
            "Завршено со компанијата RZIT. Резултатите се зачувани.\n"
          ]
        },
        {
          "output_type": "stream",
          "name": "stderr",
          "text": [
            "<ipython-input-45-eefb8ab6fe0d>:42: FutureWarning: 'M' is deprecated and will be removed in a future version, please use 'ME' instead.\n",
            "  data_monthly = data.resample('M', on='Date').last()\n"
          ]
        },
        {
          "output_type": "stream",
          "name": "stdout",
          "text": [
            "Завршено со компанијата NOSK. Резултатите се зачувани.\n"
          ]
        },
        {
          "output_type": "stream",
          "name": "stderr",
          "text": [
            "<ipython-input-45-eefb8ab6fe0d>:42: FutureWarning: 'M' is deprecated and will be removed in a future version, please use 'ME' instead.\n",
            "  data_monthly = data.resample('M', on='Date').last()\n"
          ]
        },
        {
          "output_type": "stream",
          "name": "stdout",
          "text": [
            "Завршено со компанијата INHO. Резултатите се зачувани.\n"
          ]
        },
        {
          "output_type": "stream",
          "name": "stderr",
          "text": [
            "<ipython-input-45-eefb8ab6fe0d>:42: FutureWarning: 'M' is deprecated and will be removed in a future version, please use 'ME' instead.\n",
            "  data_monthly = data.resample('M', on='Date').last()\n"
          ]
        },
        {
          "output_type": "stream",
          "name": "stdout",
          "text": [
            "Завршено со компанијата PROD. Резултатите се зачувани.\n",
            "Завршено со компанијата CKBKO. Резултатите се зачувани.\n"
          ]
        },
        {
          "output_type": "stream",
          "name": "stderr",
          "text": [
            "<ipython-input-45-eefb8ab6fe0d>:42: FutureWarning: 'M' is deprecated and will be removed in a future version, please use 'ME' instead.\n",
            "  data_monthly = data.resample('M', on='Date').last()\n",
            "<ipython-input-45-eefb8ab6fe0d>:42: FutureWarning: 'M' is deprecated and will be removed in a future version, please use 'ME' instead.\n",
            "  data_monthly = data.resample('M', on='Date').last()\n"
          ]
        },
        {
          "output_type": "stream",
          "name": "stdout",
          "text": [
            "Завршено со компанијата PPIV. Резултатите се зачувани.\n"
          ]
        },
        {
          "output_type": "stream",
          "name": "stderr",
          "text": [
            "<ipython-input-45-eefb8ab6fe0d>:42: FutureWarning: 'M' is deprecated and will be removed in a future version, please use 'ME' instead.\n",
            "  data_monthly = data.resample('M', on='Date').last()\n"
          ]
        },
        {
          "output_type": "stream",
          "name": "stdout",
          "text": [
            "Завршено со компанијата ZPOG. Резултатите се зачувани.\n"
          ]
        },
        {
          "output_type": "stream",
          "name": "stderr",
          "text": [
            "<ipython-input-45-eefb8ab6fe0d>:42: FutureWarning: 'M' is deprecated and will be removed in a future version, please use 'ME' instead.\n",
            "  data_monthly = data.resample('M', on='Date').last()\n"
          ]
        },
        {
          "output_type": "stream",
          "name": "stdout",
          "text": [
            "Завршено со компанијата UNI. Резултатите се зачувани.\n"
          ]
        },
        {
          "output_type": "stream",
          "name": "stderr",
          "text": [
            "<ipython-input-45-eefb8ab6fe0d>:42: FutureWarning: 'M' is deprecated and will be removed in a future version, please use 'ME' instead.\n",
            "  data_monthly = data.resample('M', on='Date').last()\n"
          ]
        },
        {
          "output_type": "stream",
          "name": "stdout",
          "text": [
            "Завршено со компанијата ZILU. Резултатите се зачувани.\n"
          ]
        },
        {
          "output_type": "stream",
          "name": "stderr",
          "text": [
            "<ipython-input-45-eefb8ab6fe0d>:42: FutureWarning: 'M' is deprecated and will be removed in a future version, please use 'ME' instead.\n",
            "  data_monthly = data.resample('M', on='Date').last()\n"
          ]
        },
        {
          "output_type": "stream",
          "name": "stdout",
          "text": [
            "Завршено со компанијата INTP. Резултатите се зачувани.\n"
          ]
        },
        {
          "output_type": "stream",
          "name": "stderr",
          "text": [
            "<ipython-input-45-eefb8ab6fe0d>:42: FutureWarning: 'M' is deprecated and will be removed in a future version, please use 'ME' instead.\n",
            "  data_monthly = data.resample('M', on='Date').last()\n"
          ]
        },
        {
          "output_type": "stream",
          "name": "stdout",
          "text": [
            "Завршено со компанијата INB. Резултатите се зачувани.\n"
          ]
        },
        {
          "output_type": "stream",
          "name": "stderr",
          "text": [
            "<ipython-input-45-eefb8ab6fe0d>:42: FutureWarning: 'M' is deprecated and will be removed in a future version, please use 'ME' instead.\n",
            "  data_monthly = data.resample('M', on='Date').last()\n"
          ]
        },
        {
          "output_type": "stream",
          "name": "stdout",
          "text": [
            "Завршено со компанијата EDST. Резултатите се зачувани.\n",
            "Завршено со компанијата ELNC. Резултатите се зачувани.\n"
          ]
        },
        {
          "output_type": "stream",
          "name": "stderr",
          "text": [
            "<ipython-input-45-eefb8ab6fe0d>:42: FutureWarning: 'M' is deprecated and will be removed in a future version, please use 'ME' instead.\n",
            "  data_monthly = data.resample('M', on='Date').last()\n",
            "<ipython-input-45-eefb8ab6fe0d>:42: FutureWarning: 'M' is deprecated and will be removed in a future version, please use 'ME' instead.\n",
            "  data_monthly = data.resample('M', on='Date').last()\n"
          ]
        },
        {
          "output_type": "stream",
          "name": "stdout",
          "text": [
            "Завршено со компанијата MAGP. Резултатите се зачувани.\n",
            "Грешка при обработката на компанијата SNBTO: index 14 is out of bounds for axis 0 with size 11\n"
          ]
        },
        {
          "output_type": "stream",
          "name": "stderr",
          "text": [
            "<ipython-input-45-eefb8ab6fe0d>:42: FutureWarning: 'M' is deprecated and will be removed in a future version, please use 'ME' instead.\n",
            "  data_monthly = data.resample('M', on='Date').last()\n",
            "<ipython-input-45-eefb8ab6fe0d>:42: FutureWarning: 'M' is deprecated and will be removed in a future version, please use 'ME' instead.\n",
            "  data_monthly = data.resample('M', on='Date').last()\n"
          ]
        },
        {
          "output_type": "stream",
          "name": "stdout",
          "text": [
            "Завршено со компанијата SNBT. Резултатите се зачувани.\n"
          ]
        },
        {
          "output_type": "stream",
          "name": "stderr",
          "text": [
            "<ipython-input-45-eefb8ab6fe0d>:42: FutureWarning: 'M' is deprecated and will be removed in a future version, please use 'ME' instead.\n",
            "  data_monthly = data.resample('M', on='Date').last()\n"
          ]
        },
        {
          "output_type": "stream",
          "name": "stdout",
          "text": [
            "Завршено со компанијата GTC. Резултатите се зачувани.\n"
          ]
        },
        {
          "output_type": "stream",
          "name": "stderr",
          "text": [
            "<ipython-input-45-eefb8ab6fe0d>:42: FutureWarning: 'M' is deprecated and will be removed in a future version, please use 'ME' instead.\n",
            "  data_monthly = data.resample('M', on='Date').last()\n"
          ]
        },
        {
          "output_type": "stream",
          "name": "stdout",
          "text": [
            "Завршено со компанијата KPSS. Резултатите се зачувани.\n"
          ]
        },
        {
          "output_type": "stream",
          "name": "stderr",
          "text": [
            "<ipython-input-45-eefb8ab6fe0d>:42: FutureWarning: 'M' is deprecated and will be removed in a future version, please use 'ME' instead.\n",
            "  data_monthly = data.resample('M', on='Date').last()\n"
          ]
        },
        {
          "output_type": "stream",
          "name": "stdout",
          "text": [
            "Завршено со компанијата SPAZ. Резултатите се зачувани.\n",
            "Грешка при обработката на компанијата FKTL: index 14 is out of bounds for axis 0 with size 2\n"
          ]
        },
        {
          "output_type": "stream",
          "name": "stderr",
          "text": [
            "<ipython-input-45-eefb8ab6fe0d>:42: FutureWarning: 'M' is deprecated and will be removed in a future version, please use 'ME' instead.\n",
            "  data_monthly = data.resample('M', on='Date').last()\n",
            "<ipython-input-45-eefb8ab6fe0d>:42: FutureWarning: 'M' is deprecated and will be removed in a future version, please use 'ME' instead.\n",
            "  data_monthly = data.resample('M', on='Date').last()\n"
          ]
        },
        {
          "output_type": "stream",
          "name": "stdout",
          "text": [
            "Завршено со компанијата MAKS. Резултатите се зачувани.\n"
          ]
        },
        {
          "output_type": "stream",
          "name": "stderr",
          "text": [
            "<ipython-input-45-eefb8ab6fe0d>:42: FutureWarning: 'M' is deprecated and will be removed in a future version, please use 'ME' instead.\n",
            "  data_monthly = data.resample('M', on='Date').last()\n"
          ]
        },
        {
          "output_type": "stream",
          "name": "stdout",
          "text": [
            "Завршено со компанијата KORZ. Резултатите се зачувани.\n",
            "Завршено со компанијата OPFO. Резултатите се зачувани.\n"
          ]
        },
        {
          "output_type": "stream",
          "name": "stderr",
          "text": [
            "<ipython-input-45-eefb8ab6fe0d>:42: FutureWarning: 'M' is deprecated and will be removed in a future version, please use 'ME' instead.\n",
            "  data_monthly = data.resample('M', on='Date').last()\n",
            "<ipython-input-45-eefb8ab6fe0d>:42: FutureWarning: 'M' is deprecated and will be removed in a future version, please use 'ME' instead.\n",
            "  data_monthly = data.resample('M', on='Date').last()\n"
          ]
        },
        {
          "output_type": "stream",
          "name": "stdout",
          "text": [
            "Завршено со компанијата TAJM. Резултатите се зачувани.\n",
            "Завршено со компанијата TRUB. Резултатите се зачувани.\n"
          ]
        },
        {
          "output_type": "stream",
          "name": "stderr",
          "text": [
            "<ipython-input-45-eefb8ab6fe0d>:42: FutureWarning: 'M' is deprecated and will be removed in a future version, please use 'ME' instead.\n",
            "  data_monthly = data.resample('M', on='Date').last()\n",
            "<ipython-input-45-eefb8ab6fe0d>:42: FutureWarning: 'M' is deprecated and will be removed in a future version, please use 'ME' instead.\n",
            "  data_monthly = data.resample('M', on='Date').last()\n"
          ]
        },
        {
          "output_type": "stream",
          "name": "stdout",
          "text": [
            "Завршено со компанијата JUSK. Резултатите се зачувани.\n"
          ]
        },
        {
          "output_type": "stream",
          "name": "stderr",
          "text": [
            "<ipython-input-45-eefb8ab6fe0d>:42: FutureWarning: 'M' is deprecated and will be removed in a future version, please use 'ME' instead.\n",
            "  data_monthly = data.resample('M', on='Date').last()\n"
          ]
        },
        {
          "output_type": "stream",
          "name": "stdout",
          "text": [
            "Завршено со компанијата POPK. Резултатите се зачувани.\n",
            "Грешка при обработката на компанијата INOV: index 14 is out of bounds for axis 0 with size 12\n",
            "Обработката е завршена за сите компании.\n"
          ]
        },
        {
          "output_type": "stream",
          "name": "stderr",
          "text": [
            "<ipython-input-45-eefb8ab6fe0d>:42: FutureWarning: 'M' is deprecated and will be removed in a future version, please use 'ME' instead.\n",
            "  data_monthly = data.resample('M', on='Date').last()\n"
          ]
        }
      ]
    },
    {
      "cell_type": "code",
      "source": [
        "!pip install fastapi uvicorn\n"
      ],
      "metadata": {
        "id": "48i9QIpgW804",
        "colab": {
          "base_uri": "https://localhost:8080/"
        },
        "outputId": "c44c5cb8-8d86-43e6-8c0e-e6fe250b4816"
      },
      "execution_count": 46,
      "outputs": [
        {
          "output_type": "stream",
          "name": "stdout",
          "text": [
            "Collecting fastapi\n",
            "  Downloading fastapi-0.115.6-py3-none-any.whl.metadata (27 kB)\n",
            "Collecting uvicorn\n",
            "  Downloading uvicorn-0.34.0-py3-none-any.whl.metadata (6.5 kB)\n",
            "Collecting starlette<0.42.0,>=0.40.0 (from fastapi)\n",
            "  Downloading starlette-0.41.3-py3-none-any.whl.metadata (6.0 kB)\n",
            "Requirement already satisfied: pydantic!=1.8,!=1.8.1,!=2.0.0,!=2.0.1,!=2.1.0,<3.0.0,>=1.7.4 in /usr/local/lib/python3.10/dist-packages (from fastapi) (2.10.3)\n",
            "Requirement already satisfied: typing-extensions>=4.8.0 in /usr/local/lib/python3.10/dist-packages (from fastapi) (4.12.2)\n",
            "Requirement already satisfied: click>=7.0 in /usr/local/lib/python3.10/dist-packages (from uvicorn) (8.1.7)\n",
            "Requirement already satisfied: h11>=0.8 in /usr/local/lib/python3.10/dist-packages (from uvicorn) (0.14.0)\n",
            "Requirement already satisfied: annotated-types>=0.6.0 in /usr/local/lib/python3.10/dist-packages (from pydantic!=1.8,!=1.8.1,!=2.0.0,!=2.0.1,!=2.1.0,<3.0.0,>=1.7.4->fastapi) (0.7.0)\n",
            "Requirement already satisfied: pydantic-core==2.27.1 in /usr/local/lib/python3.10/dist-packages (from pydantic!=1.8,!=1.8.1,!=2.0.0,!=2.0.1,!=2.1.0,<3.0.0,>=1.7.4->fastapi) (2.27.1)\n",
            "Requirement already satisfied: anyio<5,>=3.4.0 in /usr/local/lib/python3.10/dist-packages (from starlette<0.42.0,>=0.40.0->fastapi) (3.7.1)\n",
            "Requirement already satisfied: idna>=2.8 in /usr/local/lib/python3.10/dist-packages (from anyio<5,>=3.4.0->starlette<0.42.0,>=0.40.0->fastapi) (3.10)\n",
            "Requirement already satisfied: sniffio>=1.1 in /usr/local/lib/python3.10/dist-packages (from anyio<5,>=3.4.0->starlette<0.42.0,>=0.40.0->fastapi) (1.3.1)\n",
            "Requirement already satisfied: exceptiongroup in /usr/local/lib/python3.10/dist-packages (from anyio<5,>=3.4.0->starlette<0.42.0,>=0.40.0->fastapi) (1.2.2)\n",
            "Downloading fastapi-0.115.6-py3-none-any.whl (94 kB)\n",
            "\u001b[2K   \u001b[90m━━━━━━━━━━━━━━━━━━━━━━━━━━━━━━━━━━━━━━━━\u001b[0m \u001b[32m94.8/94.8 kB\u001b[0m \u001b[31m5.3 MB/s\u001b[0m eta \u001b[36m0:00:00\u001b[0m\n",
            "\u001b[?25hDownloading uvicorn-0.34.0-py3-none-any.whl (62 kB)\n",
            "\u001b[2K   \u001b[90m━━━━━━━━━━━━━━━━━━━━━━━━━━━━━━━━━━━━━━━━\u001b[0m \u001b[32m62.3/62.3 kB\u001b[0m \u001b[31m3.3 MB/s\u001b[0m eta \u001b[36m0:00:00\u001b[0m\n",
            "\u001b[?25hDownloading starlette-0.41.3-py3-none-any.whl (73 kB)\n",
            "\u001b[2K   \u001b[90m━━━━━━━━━━━━━━━━━━━━━━━━━━━━━━━━━━━━━━━━\u001b[0m \u001b[32m73.2/73.2 kB\u001b[0m \u001b[31m5.2 MB/s\u001b[0m eta \u001b[36m0:00:00\u001b[0m\n",
            "\u001b[?25hInstalling collected packages: uvicorn, starlette, fastapi\n",
            "Successfully installed fastapi-0.115.6 starlette-0.41.3 uvicorn-0.34.0\n"
          ]
        }
      ]
    },
    {
      "cell_type": "code",
      "source": [
        "!pip install python-multipart"
      ],
      "metadata": {
        "colab": {
          "base_uri": "https://localhost:8080/"
        },
        "id": "lLfTPmRI77YZ",
        "outputId": "fe3043e4-73c9-4f2e-ea86-c1f23c51066e"
      },
      "execution_count": 47,
      "outputs": [
        {
          "output_type": "stream",
          "name": "stdout",
          "text": [
            "Collecting python-multipart\n",
            "  Downloading python_multipart-0.0.20-py3-none-any.whl.metadata (1.8 kB)\n",
            "Downloading python_multipart-0.0.20-py3-none-any.whl (24 kB)\n",
            "Installing collected packages: python-multipart\n",
            "Successfully installed python-multipart-0.0.20\n"
          ]
        }
      ]
    },
    {
      "cell_type": "code",
      "source": [
        "# from fastapi import FastAPI, UploadFile\n",
        "# import pandas as pd\n",
        "# import os\n",
        "\n",
        "# app = FastAPI()\n",
        "\n",
        "# @app.post(\"/process-file/\")\n",
        "# async def process_file(file: UploadFile):\n",
        "#     # Зачувај го добиениот фајл\n",
        "#     file_path = f\"temp/{file.filename}\"\n",
        "#     with open(file_path, \"wb\") as f:\n",
        "#         f.write(await file.read())\n",
        "\n",
        "#     # Логика за обработка на CSV\n",
        "#     data = pd.read_csv(file_path)\n",
        "#     # (Тука вметни ја твојата обработка од ipynb)\n",
        "\n",
        "#     # Врати обработените резултати\n",
        "#     result = data.head(10).to_dict(orient=\"records\")\n",
        "#     return {\"message\": \"Processing complete\", \"data\": result}\n"
      ],
      "metadata": {
        "id": "9NXaOxoI7vBX"
      },
      "execution_count": 48,
      "outputs": []
    },
    {
      "cell_type": "code",
      "source": [],
      "metadata": {
        "id": "UTCUaXm571kc"
      },
      "execution_count": 48,
      "outputs": []
    }
  ],
  "metadata": {
    "colab": {
      "provenance": []
    },
    "kernelspec": {
      "display_name": "Python 3",
      "name": "python3"
    },
    "language_info": {
      "name": "python"
    }
  },
  "nbformat": 4,
  "nbformat_minor": 0
}